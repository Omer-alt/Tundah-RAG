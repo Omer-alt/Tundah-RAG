{
 "cells": [
  {
   "cell_type": "markdown",
   "id": "24ed6337",
   "metadata": {},
   "source": [
    "### Import PDF Documents "
   ]
  },
  {
   "cell_type": "code",
   "execution_count": 37,
   "id": "f069ad48",
   "metadata": {},
   "outputs": [],
   "source": [
    "import os\n",
    "import requests\n",
    "\n",
    "import pypdfium2 # Needs to be at the top to avoid warnings\n",
    "import argparse\n",
    "import os\n",
    "import json\n",
    "import textwrap\n",
    "import torch\n",
    "\n",
    "import numpy as np \n",
    "import pandas as pd\n",
    "from tqdm.auto import tqdm \n",
    "from nltk import sent_tokenize\n",
    "\n",
    "from marker.convert import convert_single_pdf\n",
    "from marker.logger import configure_logging\n",
    "from marker.models import load_all_models\n",
    "from marker.output import save_markdown\n",
    "\n",
    "from sentence_transformers import util, SentenceTransformer\n",
    "\n",
    "# For instance of Qdriant data base.\n",
    "from qdrant_client.models import PointStruct\n",
    "from qdrant_client.models import Distance, VectorParams\n",
    "\n",
    "# from langchain_community.vectorstores import Qdrant\n",
    "from qdrant_client import QdrantClient\n",
    "\n",
    "\n",
    "from langchain_community.chat_models import ChatOllama\n",
    "\n"
   ]
  },
  {
   "cell_type": "code",
   "execution_count": 2,
   "id": "20723fc2",
   "metadata": {},
   "outputs": [],
   "source": [
    "# Define device\n",
    "if torch.backends.mps.is_available():\n",
    "    device = \"mps\"\n",
    "elif torch.cuda.is_available():\n",
    "    device = \"cuda\"\n",
    "else:\n",
    "    device = \"cpu\"\n",
    "    \n",
    "    \n",
    "# Differents populars languages used in Africa\n",
    "languages_targets = [\n",
    "    'en',  # English\n",
    "    'fr',  # French\n",
    "    'ar',  # Arabic\n",
    "    'es',  # Spanish\n",
    "    'zh',  # Chinese\n",
    "    'sw',  # Swahili (widely spoken in East Africa)\n",
    "    'ha',  # Hausa (widely spoken in West Africa)\n",
    "    'am',  # Amharic (spoken in Ethiopia)\n",
    "    'pt',  # Portuguese (spoken in Mozambique and Angola)\n",
    "    'yo',  # Yoruba (spoken in Nigeria)\n",
    "    'zu'   # Zulu (spoken in South Africa)\n",
    "]"
   ]
  },
  {
   "cell_type": "code",
   "execution_count": 3,
   "id": "82584efb",
   "metadata": {},
   "outputs": [],
   "source": [
    "# Download PDFs files\n",
    "\n",
    "# Paths\n",
    "docs_path = \"Pdf_path/\"\n",
    "output_path = \"Structured_files/\"\n",
    "\n",
    "files_path = []\n",
    "\n",
    "try:\n",
    "\n",
    "    \n",
    "    # Traverse the folder and collect all file paths\n",
    "    for file in os.listdir(docs_path):\n",
    "        file_path = os.path.join(docs_path, file)\n",
    "        if os.path.isfile(file_path):\n",
    "            files_path.append(file_path)\n",
    "            \n",
    "except Exception as e : \n",
    "    print(e)\n",
    "    \n"
   ]
  },
  {
   "cell_type": "code",
   "execution_count": 4,
   "id": "3221fbae",
   "metadata": {},
   "outputs": [
    {
     "name": "stdout",
     "output_type": "stream",
     "text": [
      "['Pdf_path/ndulo2011.pdf', 'Pdf_path/.DS_Store', 'Pdf_path/The_changing_philosophy_of_African_marri.pdf', 'Pdf_path/A+Reflection+on+the+African+Traditional+Values+of+Marriage+and+Sexuality.pdf', 'Pdf_path/jla-jla060105.pdf', 'Pdf_path/taylor_and_francis_group_women_law_and_human_rights_in_southern_africa.pdf', 'Pdf_path/The_Future_of_African_Customary_Law_by_Fenrich_J_G.pdf']\n"
     ]
    }
   ],
   "source": [
    "print(files_path)"
   ]
  },
  {
   "cell_type": "code",
   "execution_count": 5,
   "id": "65b13e2c",
   "metadata": {},
   "outputs": [
    {
     "name": "stderr",
     "output_type": "stream",
     "text": [
      "/Users/omer/anaconda3/lib/python3.11/site-packages/huggingface_hub/file_download.py:1132: FutureWarning: `resume_download` is deprecated and will be removed in version 1.0.0. Downloads always resume when possible. If you want to force a new download, use `force_download=True`.\n",
      "  warnings.warn(\n"
     ]
    },
    {
     "name": "stdout",
     "output_type": "stream",
     "text": [
      "Loaded detection model vikp/surya_det3 on device mps with dtype torch.float16\n",
      "Loaded detection model vikp/surya_layout3 on device mps with dtype torch.float16\n",
      "Loaded reading order model vikp/surya_order on device mps with dtype torch.float16\n",
      "Loaded recognition model vikp/surya_rec on device mps with dtype torch.float16\n",
      "Loaded texify model to mps with torch.float16 dtype\n"
     ]
    }
   ],
   "source": [
    "\n",
    "\n",
    "model_lst = load_all_models()"
   ]
  },
  {
   "cell_type": "code",
   "execution_count": 6,
   "id": "0841f420",
   "metadata": {},
   "outputs": [
    {
     "data": {
      "text/plain": [
       "' \\nfname = files_path[0]\\nfull_text, images, out_meta = convert_single_pdf(fname, model_lst)\\n\\nfname = os.path.basename(fname)\\nsubfolder_path = save_markdown(\\'marker-output\\', fname, full_text, images, out_meta)\\n\\nprint(f\"Saved markdown to the {subfolder_path} folder\")\\n'"
      ]
     },
     "execution_count": 6,
     "metadata": {},
     "output_type": "execute_result"
    }
   ],
   "source": [
    "\"\"\" \n",
    "fname = files_path[0]\n",
    "full_text, images, out_meta = convert_single_pdf(fname, model_lst)\n",
    "\n",
    "fname = os.path.basename(fname)\n",
    "subfolder_path = save_markdown('marker-output', fname, full_text, images, out_meta)\n",
    "\n",
    "print(f\"Saved markdown to the {subfolder_path} folder\")\n",
    "\"\"\""
   ]
  },
  {
   "cell_type": "markdown",
   "id": "20d40528",
   "metadata": {},
   "source": [
    "### Chunking our sentences together"
   ]
  },
  {
   "cell_type": "code",
   "execution_count": 6,
   "id": "7d72c26c",
   "metadata": {},
   "outputs": [],
   "source": [
    "def check_chunk_quality(structured_chunks, min_word_count=30, max_token_count=384):\n",
    "    \"\"\"\n",
    "    Filters out chunks that do not meet the quality criteria.\n",
    "    \n",
    "    Parameters:\n",
    "    - structured_chunks: List of chunks to be checked.\n",
    "    - min_word_count: Minimum word count required for a chunk to be considered valid.\n",
    "    - max_token_count: Maximum token count allowed for a chunk to be considered valid.\n",
    "    \n",
    "    Returns:\n",
    "    - filtered_chunks: List of chunks that pass the quality checks.\n",
    "    \"\"\"\n",
    "    filtered_chunks = []\n",
    "\n",
    "    for chunk in structured_chunks:\n",
    "        # Check if the chunk meets the quality criteria\n",
    "        if (chunk['chunk_word_count'] >= min_word_count) and (chunk['chunk_token_count'] <= max_token_count):\n",
    "            filtered_chunks.append(chunk)\n",
    "\n",
    "    return filtered_chunks"
   ]
  },
  {
   "cell_type": "code",
   "execution_count": 7,
   "id": "2629d028",
   "metadata": {},
   "outputs": [],
   "source": [
    "def append_to_json(file_path, new_data):\n",
    "    \"\"\"\n",
    "    Appends new data to an existing JSON file. If the file doesn't exist, it creates one.\n",
    "    \n",
    "    Parameters:\n",
    "    - file_path: Path to the JSON file.\n",
    "    - new_data: List of dictionaries containing the new data to be appended.\n",
    "    \"\"\"\n",
    "    # Load existing data if the file exists\n",
    "    if os.path.exists(file_path):\n",
    "        with open(file_path, 'r') as infile:\n",
    "            existing_data = json.load(infile)\n",
    "    else:\n",
    "        existing_data = []\n",
    "\n",
    "    # Append the new data to the existing data\n",
    "    combined_data = existing_data + new_data\n",
    "\n",
    "    # Save the combined data back into the JSON file\n",
    "    with open(file_path, 'w') as outfile:\n",
    "        json.dump(combined_data, outfile, indent=4)"
   ]
  },
  {
   "cell_type": "code",
   "execution_count": 35,
   "id": "ffed58b7",
   "metadata": {},
   "outputs": [],
   "source": [
    "# Configure logging (optional)\n",
    "configure_logging()\n",
    "\n",
    "docs_path = \"Pdf_path/\"\n",
    "output_dir = \"Structured_files\"\n",
    "\n",
    "max_token_limit = 2048 # For llama2:7b-chat-q4_0, the max is 4096\n",
    "token_char_ratio = 4  # Approximate characters per token\n",
    "max_chunk_size = max_token_limit * token_char_ratio\n",
    "\n",
    "# For Our json file of chunks\n",
    "base_json = \"tundah\""
   ]
  },
  {
   "cell_type": "code",
   "execution_count": 39,
   "id": "75a69f06",
   "metadata": {},
   "outputs": [
    {
     "name": "stdout",
     "output_type": "stream",
     "text": [
      "Processing file: Pdf_path/ndulo2011.pdf\n"
     ]
    },
    {
     "name": "stderr",
     "output_type": "stream",
     "text": [
      "Detecting bboxes: 100%|██████████| 9/9 [00:25<00:00,  2.83s/it]\n",
      "Detecting bboxes: 100%|██████████| 6/6 [00:09<00:00,  1.55s/it]\n",
      "Finding reading order: 100%|██████████| 6/6 [00:40<00:00,  6.82s/it]\n"
     ]
    },
    {
     "name": "stdout",
     "output_type": "stream",
     "text": [
      "Saved markdown and JSON to the Structured_files/ndulo2011 folder\n",
      "Processing file: Pdf_path/The_changing_philosophy_of_African_marri.pdf\n"
     ]
    },
    {
     "name": "stderr",
     "output_type": "stream",
     "text": [
      "Detecting bboxes: 100%|██████████| 3/3 [00:02<00:00,  1.32it/s]\n",
      "Detecting bboxes: 100%|██████████| 2/2 [00:06<00:00,  3.07s/it]\n",
      "Finding reading order: 100%|██████████| 2/2 [00:34<00:00, 17.14s/it]\n"
     ]
    },
    {
     "name": "stdout",
     "output_type": "stream",
     "text": [
      "Saved markdown and JSON to the Structured_files/The_changing_philosophy_of_African_marri folder\n",
      "Processing file: Pdf_path/A+Reflection+on+the+African+Traditional+Values+of+Marriage+and+Sexuality.pdf\n"
     ]
    },
    {
     "name": "stderr",
     "output_type": "stream",
     "text": [
      "Detecting bboxes: 100%|██████████| 2/2 [00:02<00:00,  1.11s/it]\n",
      "Detecting bboxes: 100%|██████████| 2/2 [00:10<00:00,  5.02s/it]\n",
      "Finding reading order: 100%|██████████| 2/2 [00:17<00:00,  8.64s/it]\n"
     ]
    },
    {
     "name": "stdout",
     "output_type": "stream",
     "text": [
      "Saved markdown and JSON to the Structured_files/A+Reflection+on+the+African+Traditional+Values+of+Marriage+and+Sexuality folder\n",
      "Processing file: Pdf_path/jla-jla060105.pdf\n"
     ]
    },
    {
     "name": "stderr",
     "output_type": "stream",
     "text": [
      "Detecting bboxes: 100%|██████████| 6/6 [00:05<00:00,  1.14it/s]\n",
      "Detecting bboxes: 100%|██████████| 4/4 [00:06<00:00,  1.71s/it]\n",
      "Finding reading order: 100%|██████████| 4/4 [00:36<00:00,  9.09s/it]\n"
     ]
    },
    {
     "name": "stdout",
     "output_type": "stream",
     "text": [
      "Saved markdown and JSON to the Structured_files/jla-jla060105 folder\n",
      "Processing file: Pdf_path/taylor_and_francis_group_women_law_and_human_rights_in_southern_africa.pdf\n"
     ]
    },
    {
     "name": "stderr",
     "output_type": "stream",
     "text": [
      "Detecting bboxes: 100%|██████████| 4/4 [00:04<00:00,  1.15s/it]\n",
      "Detecting bboxes: 100%|██████████| 3/3 [00:09<00:00,  3.14s/it]\n",
      "Finding reading order: 100%|██████████| 3/3 [00:19<00:00,  6.57s/it]\n"
     ]
    },
    {
     "name": "stdout",
     "output_type": "stream",
     "text": [
      "Saved markdown and JSON to the Structured_files/taylor_and_francis_group_women_law_and_human_rights_in_southern_africa folder\n",
      "Processing file: Pdf_path/The_Future_of_African_Customary_Law_by_Fenrich_J_G.pdf\n"
     ]
    },
    {
     "name": "stderr",
     "output_type": "stream",
     "text": [
      "Detecting bboxes: 100%|██████████| 2/2 [00:01<00:00,  1.19it/s]\n",
      "Detecting bboxes: 100%|██████████| 2/2 [00:05<00:00,  2.68s/it]\n",
      "Finding reading order: 100%|██████████| 2/2 [00:12<00:00,  6.46s/it]\n"
     ]
    },
    {
     "name": "stdout",
     "output_type": "stream",
     "text": [
      "Saved markdown and JSON to the Structured_files/The_Future_of_African_Customary_Law_by_Fenrich_J_G folder\n",
      "Processing completed.\n"
     ]
    }
   ],
   "source": [
    "# Final list of chunk\n",
    "filtered_chunks = []\n",
    "# To get all chuncks directly when executincode\n",
    "chunks_final_state = []\n",
    "\n",
    "# Ensure output directory exists\n",
    "if not os.path.exists(output_dir):\n",
    "    os.makedirs(output_dir)\n",
    "\n",
    "# Function to split text into chunks\n",
    "def split_into_chunks(text, max_chunk_size):\n",
    "    return textwrap.wrap(text, max_chunk_size)\n",
    "\n",
    "# Traverse the folder and process each PDF file\n",
    "for file in os.listdir(docs_path):\n",
    "    file_path = os.path.join(docs_path, file)\n",
    "    if os.path.isfile(file_path) and file.lower().endswith('.pdf'):\n",
    "        try:\n",
    "            # Perform PDF extraction\n",
    "            print(f\"Processing file: {file_path}\")\n",
    "            full_text, images, out_meta = convert_single_pdf(file_path, model_lst)\n",
    "            \n",
    "            # Split full text into chunks\n",
    "            chunks = split_into_chunks(full_text, max_chunk_size)\n",
    "            \n",
    "            # Prepare chunks with metadata\n",
    "            structured_chunks = []\n",
    "            for i, chunk in enumerate(chunks):\n",
    "                structured_chunks.append({\n",
    "                    'page_number': out_meta.get('page_number', 'N/A'),\n",
    "                    'sentence_chunk': chunk,\n",
    "                    'chunk_char_count': len(chunk),\n",
    "                    'chunk_word_count': len(chunk.split()),\n",
    "                    'chunk_token_count': len(chunk) / token_char_ratio\n",
    "                })\n",
    "            \n",
    "            # Check chunk quality\n",
    "            filtered_chunks = check_chunk_quality(structured_chunks, min_word_count=384, max_token_count=max_token_limit )\n",
    "            chunks_final_state += filtered_chunks\n",
    "            # Save extracted content\n",
    "            fname = os.path.basename(file_path).replace('.pdf', '')\n",
    "            subfolder_path = save_markdown(output_dir, fname, full_text, images, out_meta)\n",
    "            \n",
    "            # Create the JSON output path\n",
    "            json_output_path = os.path.join(output_dir, f\"{base_json}_chunks.json\")\n",
    "            \n",
    "            # Append to JSON file\n",
    "            append_to_json(json_output_path, filtered_chunks)\n",
    "            \n",
    "            print(f\"Saved markdown and JSON to the {subfolder_path} folder\")\n",
    "        \n",
    "        except Exception as e:\n",
    "            print(f\"Error processing file {file_path}: {e}\")\n",
    "\n",
    "print(\"Processing completed.\")\n"
   ]
  },
  {
   "cell_type": "code",
   "execution_count": 40,
   "id": "d766053b",
   "metadata": {},
   "outputs": [
    {
     "data": {
      "text/plain": [
       "8186"
      ]
     },
     "execution_count": 40,
     "metadata": {},
     "output_type": "execute_result"
    }
   ],
   "source": [
    "len(chunks_final_state[0]['sentence_chunk'])"
   ]
  },
  {
   "cell_type": "code",
   "execution_count": 11,
   "id": "49aa07e8",
   "metadata": {},
   "outputs": [],
   "source": [
    "def load_json_to_dataframe(json_path):\n",
    "    \"\"\"\n",
    "    Loads a JSON file into a Pandas DataFrame.\n",
    "\n",
    "    Parameters:\n",
    "    - json_path: Path to the JSON file.\n",
    "\n",
    "    Returns:\n",
    "    - df: DataFrame containing the data from the JSON file.\n",
    "    \"\"\"\n",
    "    # Load the JSON data\n",
    "    with open(json_path, 'r') as file:\n",
    "        data = json.load(file)\n",
    "    \n",
    "    # Convert the JSON data into a Pandas DataFrame\n",
    "    df = pd.DataFrame(data)\n",
    "    \n",
    "    return df,  data\n"
   ]
  },
  {
   "cell_type": "code",
   "execution_count": null,
   "id": "fd455e26",
   "metadata": {},
   "outputs": [
    {
     "data": {
      "text/html": [
       "<div>\n",
       "<style scoped>\n",
       "    .dataframe tbody tr th:only-of-type {\n",
       "        vertical-align: middle;\n",
       "    }\n",
       "\n",
       "    .dataframe tbody tr th {\n",
       "        vertical-align: top;\n",
       "    }\n",
       "\n",
       "    .dataframe thead th {\n",
       "        text-align: right;\n",
       "    }\n",
       "</style>\n",
       "<table border=\"1\" class=\"dataframe\">\n",
       "  <thead>\n",
       "    <tr style=\"text-align: right;\">\n",
       "      <th></th>\n",
       "      <th>chunk_char_count</th>\n",
       "      <th>chunk_word_count</th>\n",
       "      <th>chunk_token_count</th>\n",
       "    </tr>\n",
       "  </thead>\n",
       "  <tbody>\n",
       "    <tr>\n",
       "      <th>count</th>\n",
       "      <td>484.00</td>\n",
       "      <td>484.00</td>\n",
       "      <td>484.00</td>\n",
       "    </tr>\n",
       "    <tr>\n",
       "      <th>mean</th>\n",
       "      <td>1510.04</td>\n",
       "      <td>239.21</td>\n",
       "      <td>377.51</td>\n",
       "    </tr>\n",
       "    <tr>\n",
       "      <th>std</th>\n",
       "      <td>131.50</td>\n",
       "      <td>27.63</td>\n",
       "      <td>32.88</td>\n",
       "    </tr>\n",
       "    <tr>\n",
       "      <th>min</th>\n",
       "      <td>533.00</td>\n",
       "      <td>80.00</td>\n",
       "      <td>133.25</td>\n",
       "    </tr>\n",
       "    <tr>\n",
       "      <th>25%</th>\n",
       "      <td>1531.00</td>\n",
       "      <td>231.00</td>\n",
       "      <td>382.75</td>\n",
       "    </tr>\n",
       "    <tr>\n",
       "      <th>50%</th>\n",
       "      <td>1533.00</td>\n",
       "      <td>243.00</td>\n",
       "      <td>383.25</td>\n",
       "    </tr>\n",
       "    <tr>\n",
       "      <th>75%</th>\n",
       "      <td>1535.00</td>\n",
       "      <td>254.00</td>\n",
       "      <td>383.75</td>\n",
       "    </tr>\n",
       "    <tr>\n",
       "      <th>max</th>\n",
       "      <td>1536.00</td>\n",
       "      <td>281.00</td>\n",
       "      <td>384.00</td>\n",
       "    </tr>\n",
       "  </tbody>\n",
       "</table>\n",
       "</div>"
      ],
      "text/plain": [
       "       chunk_char_count  chunk_word_count  chunk_token_count\n",
       "count            484.00            484.00             484.00\n",
       "mean            1510.04            239.21             377.51\n",
       "std              131.50             27.63              32.88\n",
       "min              533.00             80.00             133.25\n",
       "25%             1531.00            231.00             382.75\n",
       "50%             1533.00            243.00             383.25\n",
       "75%             1535.00            254.00             383.75\n",
       "max             1536.00            281.00             384.00"
      ]
     },
     "execution_count": 12,
     "metadata": {},
     "output_type": "execute_result"
    }
   ],
   "source": [
    "# Create a DataFrame to get stats\n",
    "output_json = os.path.join(output_dir, f\"{base_json}_chunks.json\")\n",
    "df, chunks_array_over_min_token_len = load_json_to_dataframe(output_json)\n",
    "df.describe().round(2)"
   ]
  },
  {
   "cell_type": "markdown",
   "id": "f19177b9",
   "metadata": {},
   "source": [
    "### Embedding our text chunks"
   ]
  },
  {
   "cell_type": "code",
   "execution_count": 13,
   "id": "dea76b1e",
   "metadata": {},
   "outputs": [],
   "source": [
    "#  File In which we registred the embeded vectors\n",
    "embeddings_df_save_path = \"text_chunks_and_embeddings_df.csv\""
   ]
  },
  {
   "cell_type": "code",
   "execution_count": 41,
   "id": "42ed0c16",
   "metadata": {},
   "outputs": [],
   "source": [
    "embedding_model = SentenceTransformer(model_name_or_path=\"all-mpnet-base-v2\", device=device) # choose the device to load the model to"
   ]
  },
  {
   "cell_type": "code",
   "execution_count": 42,
   "id": "61037660",
   "metadata": {},
   "outputs": [
    {
     "data": {
      "application/vnd.jupyter.widget-view+json": {
       "model_id": "a0ef0bef657a4d0b925c92845d6452b2",
       "version_major": 2,
       "version_minor": 0
      },
      "text/plain": [
       "  0%|          | 0/484 [00:00<?, ?it/s]"
      ]
     },
     "metadata": {},
     "output_type": "display_data"
    }
   ],
   "source": [
    "# Create embeddings one by one on the GPU\n",
    "for item in tqdm(chunks_array_over_min_token_len):\n",
    "    item[\"embedding\"] = embedding_model.encode(item[\"sentence_chunk\"])\n",
    "    \n"
   ]
  },
  {
   "cell_type": "code",
   "execution_count": 43,
   "id": "9de487f4",
   "metadata": {},
   "outputs": [],
   "source": [
    "# Create embedding vectors for Qdrant\n",
    "def create_embeddings(embedding_model, chunks):\n",
    "    vectors = [embedding_model.encode(item[\"sentence_chunk\"]) for item in chunks]\n",
    "    return vectors"
   ]
  },
  {
   "cell_type": "code",
   "execution_count": 51,
   "id": "2938ca6c",
   "metadata": {},
   "outputs": [],
   "source": [
    "# Create embedding as a payload for Qdrant\n",
    "payload =[embedding_model.encode(item[\"sentence_chunk\"]) for item in chunks_final_state] "
   ]
  },
  {
   "cell_type": "code",
   "execution_count": 32,
   "id": "7dc98650",
   "metadata": {},
   "outputs": [],
   "source": [
    "# Save embeddings to file\n",
    "text_chunks_and_embeddings_df = pd.DataFrame(chunks_array_over_min_token_len)\n",
    "\n",
    "text_chunks_and_embeddings_df.to_csv(embeddings_df_save_path, index=False)"
   ]
  },
  {
   "cell_type": "code",
   "execution_count": 19,
   "id": "c13308c4",
   "metadata": {},
   "outputs": [
    {
     "data": {
      "text/html": [
       "<div>\n",
       "<style scoped>\n",
       "    .dataframe tbody tr th:only-of-type {\n",
       "        vertical-align: middle;\n",
       "    }\n",
       "\n",
       "    .dataframe tbody tr th {\n",
       "        vertical-align: top;\n",
       "    }\n",
       "\n",
       "    .dataframe thead th {\n",
       "        text-align: right;\n",
       "    }\n",
       "</style>\n",
       "<table border=\"1\" class=\"dataframe\">\n",
       "  <thead>\n",
       "    <tr style=\"text-align: right;\">\n",
       "      <th></th>\n",
       "      <th>page_number</th>\n",
       "      <th>sentence_chunk</th>\n",
       "      <th>chunk_char_count</th>\n",
       "      <th>chunk_word_count</th>\n",
       "      <th>chunk_token_count</th>\n",
       "      <th>embedding</th>\n",
       "    </tr>\n",
       "  </thead>\n",
       "  <tbody>\n",
       "    <tr>\n",
       "      <th>0</th>\n",
       "      <td>NaN</td>\n",
       "      <td>Journal of African Law, 65, 3 (2021), 377–401 ...</td>\n",
       "      <td>1526</td>\n",
       "      <td>227</td>\n",
       "      <td>381.50</td>\n",
       "      <td>[ 3.58435959e-02  2.01791208e-02 -1.26003334e-...</td>\n",
       "    </tr>\n",
       "    <tr>\n",
       "      <th>1</th>\n",
       "      <td>NaN</td>\n",
       "      <td>inheritance, Kadhi's courts, freedom of testat...</td>\n",
       "      <td>1532</td>\n",
       "      <td>252</td>\n",
       "      <td>383.00</td>\n",
       "      <td>[ 1.19352154e-02 -1.17024928e-02 -6.72595855e-...</td>\n",
       "    </tr>\n",
       "    <tr>\n",
       "      <th>2</th>\n",
       "      <td>NaN</td>\n",
       "      <td>some human rights issues, especially the right...</td>\n",
       "      <td>1535</td>\n",
       "      <td>253</td>\n",
       "      <td>383.75</td>\n",
       "      <td>[ 3.26480567e-02 -1.76190734e-02 -4.02760692e-...</td>\n",
       "    </tr>\n",
       "    <tr>\n",
       "      <th>3</th>\n",
       "      <td>NaN</td>\n",
       "      <td>jurisdiction of a Kadhi's court shall be limit...</td>\n",
       "      <td>1534</td>\n",
       "      <td>254</td>\n",
       "      <td>383.50</td>\n",
       "      <td>[ 2.04174574e-02 -5.64446859e-02  8.79021175e-...</td>\n",
       "    </tr>\n",
       "    <tr>\n",
       "      <th>4</th>\n",
       "      <td>NaN</td>\n",
       "      <td>Muslim woman is completely prohibited from mar...</td>\n",
       "      <td>1530</td>\n",
       "      <td>257</td>\n",
       "      <td>382.50</td>\n",
       "      <td>[ 5.60534894e-02  3.24488827e-03 -9.06689372e-...</td>\n",
       "    </tr>\n",
       "  </tbody>\n",
       "</table>\n",
       "</div>"
      ],
      "text/plain": [
       "   page_number                                     sentence_chunk  \\\n",
       "0          NaN  Journal of African Law, 65, 3 (2021), 377–401 ...   \n",
       "1          NaN  inheritance, Kadhi's courts, freedom of testat...   \n",
       "2          NaN  some human rights issues, especially the right...   \n",
       "3          NaN  jurisdiction of a Kadhi's court shall be limit...   \n",
       "4          NaN  Muslim woman is completely prohibited from mar...   \n",
       "\n",
       "   chunk_char_count  chunk_word_count  chunk_token_count  \\\n",
       "0              1526               227             381.50   \n",
       "1              1532               252             383.00   \n",
       "2              1535               253             383.75   \n",
       "3              1534               254             383.50   \n",
       "4              1530               257             382.50   \n",
       "\n",
       "                                           embedding  \n",
       "0  [ 3.58435959e-02  2.01791208e-02 -1.26003334e-...  \n",
       "1  [ 1.19352154e-02 -1.17024928e-02 -6.72595855e-...  \n",
       "2  [ 3.26480567e-02 -1.76190734e-02 -4.02760692e-...  \n",
       "3  [ 2.04174574e-02 -5.64446859e-02  8.79021175e-...  \n",
       "4  [ 5.60534894e-02  3.24488827e-03 -9.06689372e-...  "
      ]
     },
     "execution_count": 19,
     "metadata": {},
     "output_type": "execute_result"
    }
   ],
   "source": [
    "# Import saved file and view\n",
    "text_chunks_and_embedding_df_load = pd.read_csv(embeddings_df_save_path)\n",
    "text_chunks_and_embedding_df_load.head()"
   ]
  },
  {
   "cell_type": "code",
   "execution_count": null,
   "id": "de4bec2d",
   "metadata": {},
   "outputs": [],
   "source": [
    "# # Get ours vectors\n",
    "# import ast\n",
    "# # embedding = text_chunks_and_embedding_df_load['embedding'].apply(lambda x: ast.literal_eval(x.replace('\\n', '')))\n",
    "# embedding = [ ast.literal_eval(elt) for elt in text_chunks_and_embedding_df_load[\"embedding\"]]\n",
    "\n",
    "# embedding"
   ]
  },
  {
   "cell_type": "markdown",
   "id": "1a95b9f4",
   "metadata": {},
   "source": [
    "### Qdrant Vector DB"
   ]
  },
  {
   "cell_type": "code",
   "execution_count": 15,
   "id": "86389839",
   "metadata": {},
   "outputs": [],
   "source": [
    "%%capture\n",
    "%pip install --upgrade --quiet  qdrant-client langchain"
   ]
  },
  {
   "cell_type": "code",
   "execution_count": 44,
   "id": "2e360825",
   "metadata": {},
   "outputs": [],
   "source": [
    "# Initialize the Qdrant client\n",
    "client = QdrantClient(url=\"http://localhost:6333\")\n",
    "\n",
    "collection_name=\"server_documents\"\n",
    "\n",
    "# Create or recreate the collection\n",
    "# client.recreate_collection(\n",
    "#     collection_name=\"server_documents\",\n",
    "#     vectors_config=VectorParams(size=768, distance=Distance.DOT),\n",
    "# )\n",
    "\n",
    "# Check if the collection exists\n",
    "if not client.collection_exists(collection_name=collection_name):\n",
    "    print(f\"Collection '{collection_name}' does not exist. Creating it now.\")\n",
    "    client.create_collection(\n",
    "        collection_name=collection_name,\n",
    "        vectors_config=VectorParams(size=768, distance=Distance.DOT),\n",
    "    )\n"
   ]
  },
  {
   "cell_type": "code",
   "execution_count": 45,
   "id": "983af445",
   "metadata": {},
   "outputs": [],
   "source": [
    "def insert_to_qdriant(vectors, meta_data):\n",
    "    # Insert data\n",
    "    for index, row in enumerate( zip(vectors, meta_data) ):\n",
    "        client.upsert(\n",
    "            collection_name=\"server_documents\",\n",
    "            wait=True,\n",
    "            points=[\n",
    "                PointStruct(id=index, vector=row[0], payload=row[1]),\n",
    "            ],\n",
    "        )"
   ]
  },
  {
   "cell_type": "code",
   "execution_count": 52,
   "id": "bc3d919c",
   "metadata": {},
   "outputs": [],
   "source": [
    "# Insert data\n",
    "for index, row in enumerate( zip(payload, chunks_final_state) ):\n",
    "    operation_info = client.upsert(\n",
    "        collection_name=\"server_documents\",\n",
    "        wait=True,\n",
    "        points=[\n",
    "            PointStruct(id=index, vector=row[0], payload=row[1]),\n",
    "        ],\n",
    "    )\n",
    "\n"
   ]
  },
  {
   "cell_type": "markdown",
   "id": "be65d5b1",
   "metadata": {},
   "source": [
    "### Similarity search / Semantic Search "
   ]
  },
  {
   "cell_type": "code",
   "execution_count": 53,
   "id": "ca025b62",
   "metadata": {},
   "outputs": [],
   "source": [
    "# query = \"What are the traditional steps involved in a Luo customary marriage?\" \n",
    "# query = \"What are the traditional steps involved in Zimbabwe customary marriage?\"\n",
    "query = \"What is the role of the family in traditional marriage in Wassoulou?\"\n",
    "query_vector = embedding_model.encode(query)\n",
    "\n"
   ]
  },
  {
   "cell_type": "code",
   "execution_count": 54,
   "id": "82fa57c7",
   "metadata": {},
   "outputs": [],
   "source": [
    "def search_documents(client, query, embedding_model):\n",
    "    query_vector = embedding_model.encode(query)\n",
    "    return client.search(\n",
    "        collection_name=\"server_documents\",\n",
    "        query_vector=query_vector,\n",
    "        with_vectors=True,\n",
    "        with_payload=True,\n",
    "        limit=3,\n",
    "    )\n",
    "\n",
    "context = search_documents(client, query, embedding_model)"
   ]
  },
  {
   "cell_type": "code",
   "execution_count": 55,
   "id": "ec0f63cb",
   "metadata": {},
   "outputs": [
    {
     "data": {
      "text/plain": [
       "['# A Reflection On The African Traditional Values Of   ![0_Image_0.Png](0_Image_0.Png)  ![0_Image_1.Png](0_Image_1.Png) Marriage And Sexuality  Dr. Paul Kyalo Department of Philosophy & Religious Studies, Kenyatta University, P.O. Box 43844-00100, Nairobi, Kenya To Link this Article: http://dx.doi.org/10.6007/IJARPED/v1-i2/11124 DOI:10.6007/IJARPED/v1-i2/11124 Published Online: 29 June 2012  ## Abstract  It is the \\'opinion consensuses of a few scholars that the institution of marriage has continued to dwindle because of a lot of social economic and cultural factors. With the passing of time, certain ills have befallen marriage that it has dealt a devastating blow to society. This has produced along it trails a myriad of social problems as a result; single parenthood, divorce, separations, rape, homosexuality, lesbianism and prostitution, the list continues. These cases are rapidly on the increase. This reflection will adopt a social cultural analysis of the problem as it is viewed today, especially regarding various scholars who have contributed to this issue and have tried to tackle it in various aspects. It hopes to be critical not just analytic of some to the options and opinions adopted. The reflection also seeks to interpret within the context of the African traditional marriage and sexuality, the values attached especially to marriage. The objective of the reflection is to establish that though marriage suffers handicaps in the society, there exists within the African traditional marriage system resources available, which if discerned and learned properly can help checkmate or even stalemate some of the ills it suffers today. The underline contribution is that there is value especially in the traditional marriage system this value is underscored in life. Marriage was geared towards the procreation and promotion of life. Seen within this context, there exist the \\'kernel\\' essential properties that held traditional marriage systems, even though there existed also the \\'husk\\' material elements that fade with the passage of time in marriage. Underlining all this was the life of the community. The reflections assumes and expect that at the end of the day reverting to the basic essential value of marriage will go a long way in the prevention of some of these ills that are associated with marriage. It expects that society including Christianity will be able to learn from the traditional system, that indeed not for nostalgic reasons, the core of marriage is to be preserved in life. Keywords: Reflection, African Traditional, Marriage, Sexuality.  ## Introduction  The institution of marriage is faced with many daunting challenges. As people made up of cultures and traditions and with the influx of Christianity and civilizations that have continued Vol. 1 , No.     to change the lives of so many people, how is it that still we can\\'t overcome the problems that are associated with marriages in contemporary times. The challenges seemed enormous and daunting but it will be wrong to give in completely. What seemed right is if we could resort to certain resources that are available to us and to see whether we can address marriage issues and sexuality in or society. We would investigate why marriage has undergone such intense hardships and burdens to the extent that people no longer fill comfortable discussing positively about marriages and marrying in general. Furthermore, a lot of illicit unions are on the increase, to what extent this will continue and how it can be dealt with in the society and the church is still any ones guess. The interest of this reflection is to try and present the reality of marriage and sexuality as it understood today, highlighting the various strands that continue to rock the institutions of marriage. Basically we would try to separate the proverbial \\'Kernel from the Husk\\'. \\'The Kernel\\' for me has to do with the properties of marriage and its unique validity. While \\'The Husk\\' will mean the externals that sometimes clot the actual essentials of marriages, and tends to gain considerable weight on marriages, and appears to be the first victims to disappear after the ceremonies of marriage are over. It is my contention that traditional marriage system offers us values that will help reposition our outlook on marriage and sexuality today. The thrust of the work will be to try and understand marriage and sexuality in the African context, but more so to see if there are lesson that can be learned and can present a way out for an already embattled institution with breakages, single parenthood and many more issues on the increase.  ## The Question Of Marriage Today  A more healthy understanding of marriage today can be appreciated if we carefully consider what I have referred to as \\'the kernel\\' of marriage, which are the properties of marriage and what makes it valid. To my mind African marriages are not short of such ingredients that constitute marriages. Hendrix in a discussion of African marriage systems opines that marriages as we know it, is multifaceted and its definitions reflect this in their diversity. Several normative behavior patterns are counted among its traits in most societies, while ceremonies or transactions commonly mark its inception. In most societies there is an expectation of relative permanence, co residence, a division of labor, sharing of resources, a sexual relationship, procreation and cooperation in child bearing and training (Hendrix, 1996: 173). Ayisi (1997) collaborates this in his work when he also observed that the means by which a man and woman come together to form a union for the purpose of procreation is marriage. He stressed further that African marriages are affected for just this purpose and therefore a childless marriage ceases to be meaningful in this context. For every marriage to be legal, certain requirements have to be fulfilled, and it should be preceded by certain customary observances (Ayisi, 1997:7). However, Megasa adds that \"the communities involved share their very existence in that reality and they become one people, one thing, as African themselves would put it that through their marriage, their families and clans are also united so that what is done to one of their members is done to all. By this gesture marriage also means that the partners\\' responsibilities are not limited to them alone but have a much wider application. Their own personal identity and identification are equally extended (Magesa, 1998:110).  Vol. 1 , No.     A further understanding of marriages amongst Africans suggests that there are at least three defining aspects of these marriages; first marriage is a transfer of legal rights to a woman from her kin to her husband. Not only does the husband gain rights to the wife\\'s labor, sexuality and offspring\\'s, but also the rights to receive compensation for the harm done to her by others. In some societies the husband receives rights to offspring if he pays the full bride price but can receive more limited rights if he makes a small payment. Second marriage modifies and to some degree ruptures, the relations between the bride and her immediate kin. In many societies the wife moves out of her parents\\' home and they lose a family member. Where the husband joins the wife\\'s parent\\'s household there is less disruption. Third marriage is an affiance, an agreement or contract between two families or groups of kin\\'s, because our African societies see marriage not only as a relationship between two individuals people but also as a structural link between groups (Hendrix, 1998:734). As a result of the absolute connectedness of African marriages to the community which is not in any way an affair between the individual and the marrying parties alone, it is essential to highlight some values that are rooted in these marriages in our societies, their identification will benefit us in abetting the continuous wreckages that marriages suffer especially these modern times. The reason is to preserve all about \\'the kernel\\' as highlighted in marriage and to expose its value in traditional marriage systems, furthermore an understanding of the values we are seeking for in marriage must',\n",
       " 'be clearly identified, exposed and expounded on. Traditional Values Associated with African Marriages When we talk of values we refer to interest, pleasure, likes, preference, duties, moral, obligations, desires, wants, needs, aversions and attractions and many other modalities of selective orientation (William, 1968:283). However the limits of value maybe conceived very broadly or quite narrowly, but the limits should never be arbitrarily set and their location ought to be justified in any particular case. A broad comprehensive conception of values has the advantage of calling attention to possible value elements in all behavior save the most rigidly instinctive or automatic. While a narrow definition may have the virtues of specificity and definiteness but may lead to errors if the excluded phenomena are not taken into account through concepts closely related to the idea of value (William, 1968:283) In such an expanse of allowance therefore we would like to identify some values in the traditional African nature of marriage and see whether they can be of help in strengthening the lapses that are noticeable in marriages today. What is clear, before us is that we find the essentials of marriage in all cultures, namely a lifelong union of husband and wife for mutual support and progeny to continue the ancestral line and to promote the welfare of the tribe or clan (Moler, 1982:3). That is why anything that deliberately goes towards the destruction or obstruction of human life is regarded as wicked and evil. Therefore anybody who under normal conditions refuses to get married is committing a major offense in the eyes of the society and people will be against him. In all African societies everything possible is done to prepare people for marriage and to make them think in terms of marriage (Mbiti, 1969:104).  # Vol. 1 , No.  In some parts of Africa pare choose marriage partners for their children even before they are born. This is to make it absolutely sure that they do get someone to marry. Other parts the choice is made for the young people by their relatives, while another custom is to let the young people themselves find the person they wish to marry and then inform their parents or other relatives. The opportunities for them to do this are provided by social gatherings, dance and communal work and by their knowing other people in the neighborhood (Mbiti, 1969:107). The obligation to get married is therefore the only means of human survival as far as the views of African peoples are concerned. For that reason it is a religious obligation. It is as old as human society, through marriage and childbearing, human is preserved, propagated and perpetuated. Through them life is also deepened vertically and spread horizontally. Therefore marriage and childbearing are the focus of life they are at the very center of human existence, just as man is at the very center of the universe (Mbiti, 1969:106) \"The abundance of life is the reason behind all forms of marriage and unions and this is why African religion sanctions many variations of unions. Even when these forms are situated within certain social economic context that is social prestige or the assurance of hands to work the fields (which motivations are always present, given the unity of life) they all serve to preserve and prolong life, to provide for ritual fecundity and physical procreation (Magesa, 1998:128). Another attracting value, which is upheld most in African marriages, is creatively, depicted in kgatla proverb \\'a pretty girl either steals or wets her bed\\'. They mean by this that physical beauty alone is not the most important thing to look for in a wife. Industry in physical work, a respectful demeanor towards elders and a generally good reputation as defined by the ethnic group are the most significant characteristic for both partners. These characteristics are assessed by the qualities of the parent themselves. Wealth on the part of the boy\\'s parent is of course a factor in his favor but that is less important than personal character.\"(Magesa, 1998:114). However with easy access to resources, families would not be expected to try to limit the number of children. Daughters did not share in the property of their father and were not differentially endowed at marriage. In fact they attracted the bride wealth necessary for the marriages of their brothers. Girls were as important as boys and there is no evidence of any fertility \\'stopping rule\\' or indeed of any tendency to prefer children of one sex (Goody, 1997:457). Similarly, an aspect that is equally of significant value and rears it5 head continually in African marriages is the communal value of marriage. In marriage the family is the person\\'s channel of integration into the clan and the wider society. Consequently, in marrying his wife. . .the man accepted the responsibilities towards another family and she likewise, this social and communitarian character of African marriage means that the two communities are bound so closely together through a marriage that certain condition such as a rift between the two communities can actually nullify a marriage between two person. Enmity between the clans notwithstanding any amount of cordiality and love between the two individual can not only nullify a marriage but also make it impossible in the first place. The value of marriage is communal and the couple\\'s consent has validity only in this communal social context (Magesa, 1998:113).  # Vol. 1 , No.  It could be argued that in this context today such marriage has no relevance because it pry on peoples individuality but it should be remembered that the sacredness of the value attached to this union and the commitment which is made to one another deserves that the institution is protected and connected to the community. Marriage is not just an individual or the couple concerned business as noticed today it concerns all and is affected by all. For instance the traditional system in Africa required a high degree of cooperation between members of the same household (family) and lineage (or other wider grouping of kin or community) given the absence of specialized services and of centralized welfare institutions, there was considerable dependence upon kith and kin, orphan hood, widowhood and divorce, while always personal tragedies (despite the assumptions of some European family historians and demographers) were not faced alone, even if there were in general few sources of welfare other than kin (Goody, 1997:458). As a value of marriage this bilateral orientations and kinship affiliations are really essentials in seeing to the sustenance of the African marriage. Even among the matrilineal and matrilocal peoples, as for example among the Akan speaking Ashanti of Ivory coast and Ghana, or bakwaya of Tanzania, bilateral orientations remain a strong feature. In the study among the Ashanti, Meyer Fortes found that the basis of all social relationship is the bond between the mother and her child, between the father and the child exist only a bond of love as a father has no legal rights whatsoever over his children. Instead this is the prerogative of the mother\\'s brother. Thus the Ashanti say your mother is your family, your father is not. Yet he is recognized as playing an indispensable role even in the kinship structure. Generally, he names his children after his own ancestors in an important religious function as noted above. Furthermore, by the very fact of his paternity he is recognized to bequeath his personality or spirit to his children without whom they cannot thrive or succeed in life. He takes pride in bringing up his children and in supervising their moral and civic training (Goody, 1997:458). All these ensured that the survival of the marriage and the kinship structure in Africa depended on marriage. Without going into great details about these kinship and clan structures, it is important to say something about the relationship between marriage and kinship. What establishes clan relationship to begin with is consanguinity, which is considered to be primary and most important relationship in the social structure. It is recognized, however',\n",
       " \"1987: 19). Many couples face economic obstacles to civil marriage (Antoine and Marcoux 2014), particularly the need to acquire their own dwellings and save up for the many expenses accompanying civil wedding ceremonies. A civil wedding might follow up to several years later.  These three marital categories have created a system of legal pluralism that Bamakois may manipulate for practical and strategic reasons, moulding the institution of marriage to serve their needs (Brand 2001). A young couple might seal a religious union as a provisional marriage while assessing their compatibility. An unsuccessful union can be aborted under the rationale that it was never fully enacted to begin with (De Jorio 2002; cf. Cooper 1997). 'For me, it's better to do a religious wedding and wait ten years before doing the civil wedding, which will let you get to know your spouse better and avoid the penal-ties of divorce', a wife reported during my fieldwork in 2011.  What happens, however, when a couple's needs are at odds? A  woman might prefer to delay pregnancy until civil marriage, seeking greater commitment from her husband, whereas he might rather delay civil marriage until proof of his wife's fertility. A young man pressured into marriage by a pregnant girlfriend might agree to a quick religious wedding ceremony but delay a more costly civil wedding, thereby   saving money and steering clear of binding legal commitments while holding out for a better partner (Broqua and Doquet 2013). A woman might agree to a religious union with an already married man in hopes of his later conferring legal status on their marriage with a civil cere-mony, whereas he might prefer to placate his first wife by keeping his second union unregistered with the state, thereby denying the junior wife and her children any future legal claim to his property. A polyga-mous husband might even celebrate a different form of marriage for each of his wives, depending on his circumstances at the time of union.  Having withstood French colonial efforts to render marriage more administratively 'legible' (Burrill 2015), the ambiguity generated by these multiple marital registers has enabled individuals to pursue their aims with flexibility (De Jorio 2002). But it has also produced risks, especially for women seeking greater clarity regarding their male partners' obligations towards them. Amongst the most common risks for women is that a husband who officially opts for a monogamous civil marriage can later take another wife through a customary or religious union. Since the 1962 Code barred the state from recognising religious unions, this violates only the law requiring civil ceremonies to come first. Prosecutors ignored such infractions, allowing men to circumvent their monogamous marriage contracts with impunity. In the early 1990s, Adame Ba Konaré (1993) estimated that half of Malian husbands who signed monogamous marriage contracts eventually either reneged on them in this manner or renegotiated them. Still today, many a wife agrees to switch her matrimonial option to polygamy when the request arises, seeing formal polygamy - which mandates equitable treatment of co-wives - as preferable to sharing her husband with a mistress for whom his expenses would be clandestine (Schulz 2003; Tounkara 2015).  The environment of legal pluralism enables Malians with power and resources, notably men, to manoeuvre amongst the most suitable registers of law and mediation in any given circumstance. A man is far more likely to invoke religious authority to legitimise a union through an Islamic ceremony than to demand the strict punishment of adultery or insist on providing economic support to an ex-wife. He might access state benefits for dependents linked to him through civil marriage while using the lack of a civil ceremony to deny his responsibilities to other dependents. As political scientist Susanna Wing argues: 'The problem is not customary or religious law per se, but rather the ambiguous and precarious position of individuals who might presume the continued protections of religious or customary norms only to find that these norms are not legally binding and, therefore, can easily be ignored' (2012: 155). Over many decades, Malians' practice of legal bricolage has undermined state legitimacy by widening the gulf between civil law and everyday practice. In as much as Bamakois have exploited this post-colonial polyphony of competing rules to pursue their individual goals, they have weakened marriage as an instrument of state-building and instead made it an institution of pervasive obscurity and uncertainty.  ## From Legal Agreements To Legal Reform  Mali's post-colonial state has made multiple engagements over the years to safeguard women's rights and promote gender equality. In 1985 - during a long period of military rule - it signed and ratified the United Nations Convention on the Elimination of All Forms of Discrimination Against Women (CEDAW). Following the advent of political pluralism in 1991, Malian voters approved a new constitution prohibiting sexual discrimination. In the early 2000s, the Malian government signed and ratified the African Union's Protocol to the African Charter on Human and Peoples' Rights on the Rights of Women in Africa, also known as the Maputo Protocol. This treaty (Article 2, Section 2) commits signatory states to work towards the 'elimination of harmful cultural and traditional practices and all other practices which are based on the idea of the inferiority or the superiority of either of the sexes, or on stereotyped roles for women and men'. Such practices have been interpreted to include polygamy: Article 6 requires signatories to recognise monogamy as the 'preferred form of marriage' (African Union 2019). Egalitarian interpretations of these and similar texts have led advocates of global liberalism to call for the suppression of a range of practices from female genital cutting to polygamy on the grounds that they are injurious to women (Mwambene 2017). Yet such practices have remained widespread in Mali, and the Malian government has shown little enthusiasm for abolishing them even after signing anti-discrimination treaties.  During the 1990s and early 2000s, in the wake of Mali's democratic transition and the enactment of CEDAW, momentum gathered in Bamako to create new institutions and laws protecting women's rights within marriage. Under the presidency of Alpha Oumar Konaré (in office from 1992 to 2002), the government established a Ministry for the Promotion of Women, Children and the Family, and created a task force to propose revisions to national laws, including the 1962 Code. Many Malian women's non-governmental organisations (NGOs) and Western   donors were eager to see discriminatory provisions repealed and new protections added. Amongst the changes discussed to put Mali in line with international norms embodied by CEDAW and the Maputo Protocol were setting the minimum age at marriage at 18 for all, regulating bridewealth to make marriage more affordable, and eliminating wives' legal obligation to obey their husbands, a provision many women's rights advocates regarded as antiquated (Wing 2012).  Momentum for modifying the 1962 Code slowed after Mali's 2002 election, which saw the country's first (and, so far, only) changeover between two elected presidents. Facing opposition from Muslim organisations, President Konaré did not secure the passage of the progressive family and marriage legislation he had sought. He passed the project on to his successor, President Amadou Toumani Touré, a retired army general who had overseen Mali's 1991–1992 transitional government before voluntarily stepping down. Reluctant to expend political capital by pushing controversial marriage and family laws through Parliament, Touré postponed legal reform until his second term (2007–2012), when he expected to enjoy greater leeway (Wing 2012). Touré's government and women's rights NGOs discovered, first, that Islamic civil society - once relatively passive regarding Mali's secular state and its laws -  had become a political force to be reckoned with and, second, that\"]"
      ]
     },
     "execution_count": 55,
     "metadata": {},
     "output_type": "execute_result"
    }
   ],
   "source": [
    "\n",
    "def get_context(context: list) -> list[str]:\n",
    "\n",
    "    return [shunk.payload[\"sentence_chunk\"] for shunk in context]\n",
    "\n",
    "get_context(context)"
   ]
  },
  {
   "cell_type": "markdown",
   "id": "86b2adc4",
   "metadata": {},
   "source": [
    "### Augmenting our prompt with context items"
   ]
  },
  {
   "cell_type": "code",
   "execution_count": 56,
   "id": "f943ede4",
   "metadata": {},
   "outputs": [],
   "source": [
    "def get_prompt(query: str, context: list[str]) -> str:\n",
    "    # context_str = '\\n'.join(context)\n",
    "    \n",
    "    return f\"\"\"\n",
    "    SYSTEM: You are an expert on African customary marriage laws. Answer the following questions about marriage practices, annulments, and implications of specific customs across different African tribes.\n",
    "\n",
    "    Use the following pieces of context to answer the question at the end. Think step-by-step, and then answer. \n",
    "\n",
    "    Do not try to make up an answer:\n",
    "    - If the context can help determine the answer, use it to form your response directly without introductory phrases like \"I can determine the answer to that based on the provided context.\"\n",
    "    - If the context can help determine the answer, use it to form your response. However, if the context is not useful, say \"I cannot determine the answer to that.\"\n",
    "    - If the context is empty, just say \"I do not know the answer to that.\"\n",
    "    - If explicitly requested or if you cannot provide a clear answer without explanation, then include the reasoning.\n",
    "\n",
    "   \n",
    "    ==================\n",
    "    Context: {context}\n",
    "    ==================\n",
    "\n",
    "    ### Guidelines:\n",
    "    1. **Condition Check**: Ensure that each response is accurate, culturally sensitive, and aligns with the specific customary practices of the tribe mentioned.\n",
    "    2. **Step-by-Step Solution**: Before concluding, think through the cultural, legal, and social aspects of the question, and consider the potential impact on the families and communities involved. \n",
    "\n",
    "    Question: {query}\n",
    "    Helpful Answer:\"\"\"\n"
   ]
  },
  {
   "cell_type": "code",
   "execution_count": 145,
   "id": "a613e6fb",
   "metadata": {},
   "outputs": [],
   "source": [
    "# def get_prompt(query: str, context: list[str]) -> str:\n",
    "#     # context = '\\n'.join(context)\n",
    "    \n",
    "#     # print(\"Display thr context :\", context)\n",
    "    \n",
    "\n",
    "#     return f\"\"\"SYSTEM: You are an intelligent expert on African customary marriage helping the users with their questions.\n",
    "            \n",
    "#         Use the following pieces of context to answer the question at the end. Think step-by-step and then answer.\n",
    "            \n",
    "#         Do not try to make up an answer:\n",
    "#          - If the context can help determine the answer, use it to form your response. However, if the context is not useful, say \"I cannot determine the answer to that.\"\n",
    "#          -If the answer to the question cannot be determined from the context alone, say \"I cannot determine the answer to that.\"\n",
    "#          - If the context is empty, just say \"I do not know the answerQ to that.\n",
    "#          \"\n",
    "        \n",
    "#         ==================\n",
    "#         Context: {context}\n",
    "#         ==================\n",
    "        \n",
    "#         Question: {query}\n",
    "#         Helpful Answer:\"\"\""
   ]
  },
  {
   "cell_type": "code",
   "execution_count": 47,
   "id": "e397d51f",
   "metadata": {},
   "outputs": [],
   "source": [
    "def infer():\n",
    "    # Define the model, Ensure this name matches the model you have\n",
    "    local_model = \"llama2:7b-chat-q4_0\"  \n",
    "    temperature = 0.3\n",
    "    # local_model = \"mistral\"\n",
    "    llm = ChatOllama(model=local_model, temperature=temperature)\n",
    "    \n",
    "    prompt = get_prompt(query=query, context=get_context(context))\n",
    "\n",
    "    # Example input in the format expected by the model\n",
    "    input_data =  [\n",
    "        {\"role\": \"user\", \"content\": prompt}\n",
    "    ]\n",
    "\n",
    "    # Make a prediction\n",
    "    response = llm.invoke(input_data)\n",
    "    \n",
    "    print(\"\\n\",\"-\"*(4 + len(query) ),\"\\n\")\n",
    "    print(f\"QUERY: {query}\")\n",
    "    print(\"\\n\",\"-\"*(4 + len(query)*4 ),\"\\n\")\n",
    "    print(f\"Answer: {response.content}\")"
   ]
  },
  {
   "cell_type": "code",
   "execution_count": 57,
   "id": "911ed306",
   "metadata": {},
   "outputs": [
    {
     "name": "stdout",
     "output_type": "stream",
     "text": [
      "\n",
      " ------------------------------------------------------------------------ \n",
      "\n",
      "QUERY: What is the role of the family in traditional marriage in Wassoulou?\n",
      "\n",
      " ------------------------------------------------------------------------------------------------------------------------------------------------------------------------------------------------------------------------------------------------------------------------------------ \n",
      "\n",
      "Answer: In Wassoulou culture, the family plays a significant role in traditional marriage. The family of the groom is responsible for arranging the marriage and ensuring that all necessary arrangements are made, such as the bride price and the date of the wedding. The family of the bride also plays a role in the marriage process, as they must give their consent to the marriage and provide the bride with the necessary items for her new home.\n",
      "\n",
      "In traditional Wassoulou society, the family is seen as the basic unit of organization, and the marriage is considered a union between two families rather than just the bride and groom. The groom's family is expected to provide for the bride and any children they may have, while the bride's family is expected to provide emotional support and help with childcare.\n",
      "\n",
      "The role of the family in traditional marriage in Wassoulou is also closely tied to the concept of \"kola nut\" exchange, which is a symbol of peace and friendship in Wassoulou culture. During the marriage ceremony, the bride's and groom's families exchange kola nuts as a sign of their commitment to each other and their willingness to form a new family unit.\n",
      "\n",
      "It is important to note that the role of the family in traditional marriage in Wassoulou may vary depending on the specific customary practices of the tribe mentioned. Therefore, it is essential to approach this topic with cultural sensitivity and respect for the local customs and traditions.\n"
     ]
    }
   ],
   "source": [
    "infer()"
   ]
  },
  {
   "cell_type": "code",
   "execution_count": 176,
   "id": "63a376e1",
   "metadata": {},
   "outputs": [
    {
     "name": "stdout",
     "output_type": "stream",
     "text": [
      "\n",
      " --------------------------------------------------------------------------- \n",
      "\n",
      "QUERY: What are the traditional steps involved in Zimbabwe customary marriage?\n",
      "\n",
      " ------------------------------------------------------------------------------------------------------------------------------------------------------------------------------------------------------------------------------------------------------------------------------------------------ \n",
      "\n",
      "Answer: \n",
      "Thank you for providing the context! Based on the information provided, here are the traditional steps involved in Zimbabwe customary marriage:\n",
      "\n",
      "1. **Kukumbira**: The suitor approaches the father of the girl (tezvara) through an intermediator (munyai), who is usually a well-respected old man in the community. The suitor must agree to marry the girl with her informed consent.\n",
      "2. **Lobola**: The bridegroom's family pays lobola (bride wealth) to the bride's family as a symbol of goodwill and to demonstrate their commitment to the marriage. This payment is an important aspect of traditional customary marriage in Zimbabwe.\n",
      "3. **Introduction**: The suitor is introduced to the girl's family, and if approved, the families begin discussing the terms of the marriage.\n",
      "4. **Agreeement**: The suitor and the girl's family agree on the terms of the marriage, including the amount of lobola to be paid and any other conditions.\n",
      "5. **Marriage Ceremony**: The couple is married in a traditional ceremony, which may involve singing, dancing, and other cultural practices specific to the tribe.\n",
      "6. **Post-Marriage**: After the marriage, the bride's family may host a celebration to mark the occasion and welcome the groom into their family.\n",
      "\n",
      "It is important to note that these traditional steps may vary across different tribes in Zimbabwe and other parts of Africa. Additionally, modernization and cultural blending have led to variations in customary marriage practices, with some couples choosing to incorporate elements of both traditional and modern wedding ceremonies.\n"
     ]
    }
   ],
   "source": [
    "infer()"
   ]
  },
  {
   "cell_type": "markdown",
   "id": "0c68b5f1",
   "metadata": {},
   "source": [
    "### Loading an LLM locally (**Ollama**)\n",
    "\n"
   ]
  },
  {
   "cell_type": "code",
   "execution_count": 174,
   "id": "a7dd5b0f",
   "metadata": {},
   "outputs": [
    {
     "data": {
      "text/plain": [
       "'\\nThe capital of France is Paris.'"
      ]
     },
     "execution_count": 174,
     "metadata": {},
     "output_type": "execute_result"
    }
   ],
   "source": [
    "# Define the model, Ensure this name matches the model you have\n",
    "local_model = \"llama2:7b-chat-q4_0\"  \n",
    "\n",
    "# local_model = \"mistral\"\n",
    "llm = ChatOllama(model=local_model)\n",
    "\n",
    "# Example input in the format expected by the model\n",
    "input_data =  [\n",
    "    {\"role\": \"user\", \"content\": \"What is the capital of France?\"}\n",
    "]\n",
    "\n",
    "# Make a prediction\n",
    "response = llm.invoke(input_data)\n",
    "response.content"
   ]
  },
  {
   "cell_type": "markdown",
   "id": "2b7c4214",
   "metadata": {},
   "source": [
    "### Obtained transcript from Youtubes videos\n",
    "\n",
    "- Upload Json file of videos links\n",
    "- Get the corresponding transcrptions\n",
    "- Split into shunk\n",
    "- Embed the shunk\n",
    "- Store in Qdrant\n"
   ]
  },
  {
   "cell_type": "code",
   "execution_count": 58,
   "id": "2235f0bc",
   "metadata": {},
   "outputs": [],
   "source": [
    "from youtube_transcript_api import YouTubeTranscriptApi,  NoTranscriptFound\n",
    "from deep_translator import GoogleTranslator\n",
    "from pytube import YouTube\n",
    "\n",
    "def get_transcription(video_id, target_language):\n",
    "    max_chars = 4998\n",
    "    translator = GoogleTranslator(source='auto', target=target_language)\n",
    "\n",
    "    try:\n",
    "        # Get the transcript using the YouTubeTranscriptApi\n",
    "        transcript = YouTubeTranscriptApi.get_transcript(video_id, languages=languages_targets)\n",
    "\n",
    "        # Combine the transcript text\n",
    "        transcript_text = \" \".join([entry['text'] for entry in transcript])\n",
    "        \n",
    "        #  GoogleTranslator has a max size limitation to make text translation.\n",
    "        if len(transcript_text) >= max_chars:\n",
    "            #  Split into shunk, translate shunk and join them\n",
    "            text_shunk = split_into_chunks(transcript_text, max_chars) \n",
    "            text_shunk_en = [translator.translate(shunk) for shunk in text_shunk]\n",
    "            transcript_text = \" \".join(text_shunk_en)\n",
    "            \n",
    "            return transcript_text\n",
    "        \n",
    "        # Translate the transcript using GoogleTranslator from deep-translator\n",
    "        translated_transcript = translator.translate(transcript_text)\n",
    "\n",
    "        return translated_transcript\n",
    "    except NoTranscriptFound:\n",
    "        print(f\"No transcript found for video ID: {video_id}\")\n",
    "        return None\n",
    "\n",
    "# Example usage\n",
    "# video_url = \"dQw4w9WgXcQ\" , \"UG6y-k59Hps\"\n",
    "# translated_text =  get_transcription(\"UxaQRKVeWnY\", 'en')\n",
    "# print(translated_text)\n"
   ]
  },
  {
   "cell_type": "code",
   "execution_count": 59,
   "id": "525ea16e",
   "metadata": {},
   "outputs": [
    {
     "name": "stdout",
     "output_type": "stream",
     "text": [
      "Traditional marriage in Wassoulou by the 'Territorial Marketing Mali' Program the wasouou wedding is rich in Conie most of the rituals of the traditional wedding are intended for the woman underlines her great responsibility in the [Music] foyeribala one of the many villages of wasouou belongs to the commune of orolé in the circle of yfolida the weddings they are generally celebrated in a traditional way for this specific wedding the groom chose to celebrate a civil wedding at the town hall of sucorolé a rarity in the locality [Music] [Music] after the town hall the traditional ritual finally begins in moribala as in many other villages the marriage unites two families and not only two individuals the woman is given not to a man but to his family the ceremonies extend over 3 days the main rituals take place on the 2nd day the first evening is dedicated to music in the bride's family a party where young girls and women dance to traditional sounds and music from the [Music] world the next day the rituals begin with the bride's lunch who receives the first handful of food from her hands of one of the sisters of her future husband accompanied by the blessings of these tents surrounded by these tents the bride listens to explanations on the foundations of marriage words imbued with emotions that often make her cry c t calls her to order you come from a family where women have respected the foundations of marriage if you have these commitments the whole family will never forgive you a bouquet composed of four shea leaves a l Caleb and a wooden capsule night r the shea leaves symbolize levitation as its name indicates in lack the calabashes used as a ladle is used to prepare the first porridge that the bride offers to her husband the slightly bitter gu of the calabashes Neuve reminds us that marriage can experience difficult times but that it must be nourished despite everything according to other beliefs this ladle is kept until the husband's death to wash his body thus symbolizing a marriage hidden until death and the wooden spatula carved from the same type of wood used to cover graves underlines that marriage is made to last a lifetime the great aunts skill the bride in white symbol of purity a tent ties the loincloth around her waist three times but only fixes it at the 4th symbolizing femininity and by extension the sun his Mo of the original matrix before leaving Mary crouches in front of the house where the men of her family are gathered he announces to her that her note has been accepted and consumed and that she can now join her husband accompanied by blessing [Music] the groom's friends come to get the bride in botau forming a procession between the two [Music] families at the door of the family of an uncle of the groom the women welcome the bride with songs and dances in the host family an infant is placed on her back when she enters her room a ritual to increase her fertility the tents of the groom's family observes her every move to deduce snuffs the bride has kept in this family where she receives advice from relaxation this time from her husband on the rules and obligations of his new [Music] life the groom accompanied by his friends comes to greet the uncles and aunts thus asking permission to spend some time with his new wife the same evening a musical evening is organized in the groom's family where he can bring his wife with permission the next day the bride is taken at the end of the afternoon to her husband's family accompanied by a procession of women and young girls her bouquet is given to the first person encountered whose sex predicts that of her first child the charity leaves are hung on the roof of the couple's house the Marie must then fill the Jard of the first married woman of the court a ritual closely observed by the elder women these gestures reveal her personality and allow the older women of the court to better advise her the next day she does the laundry of the clothes of the whole family helped by her little sisters her friends and the woman whose marriage precedes hers she then stays in the house of one of the mothers-in-law of the court to receive teachings on marriage during this period which can last up to a week she can discuss with her husband who visits him without consummating the marriage their behavior being scrutinized in couples there are misunderstandings or difficulties in a marriage celebrated in a traditional manner in the different rituals make it possible to put in place more safeguards for a happy and lasting union\n",
      "TRADITIONAL MARRIAGE IN AFRICA: THE DOWRY || I TELL YOU EVERYTHING|| YaSarah I don't say all in common except at the mit [Music] in the water everyone welcome to all on my youtube channel so we turn today for a new video in which he decided to explain to you the process of traditional marriage in Africa precisely in my country unless the democratic republic of congo in kinshasa does that in africa so I explained to you the dowry in relation to the ceremonies kg eu to attend I want to clarify I am not an expert on dowries I just want to share my experience with you my experience I attended several to several ceremonies doubts when I was very young which means that I still have enough notions in relation to that which is also it is a ceremony that will be special the region of my mother my mother who is from the handling more precisely who is from the mouret tribe guy that is who makes that I have more attend words the judge side blu ray gackou on the side of my father who is my baby but I still know some certain principles of dumas the traditional my baby that I will tell you about in this video in the meantime but I want to clarify that I did not have to participate or even polka dots I really did not have to participate in special weddings from my father's side beautiful baby but that's it so I am not an expert if you have suggestions regarding ceremonies do not hesitate to let me manage otherwise it is really a wedding that happens like in the DRC will not be in all African countries it happens the same way it is especially we have c on my mother's side so it is this video you are interested stay connected and for old and new subscribers I say thank you very much for your encouragement thank you very much for your comments your likes and your views do not hesitate to subscribe to like and apart from this video if the video is sure if he means it is the video [Music] your captures or catch do not hesitate to share it so the video then the marriage is sealed by several ceremonies the most important of which will be the mole what is the dowry the dowry is not like many people imagine the fact of selling to sell in the family van the woman to sound no it is not the purchase of a woman people it will be really more it is really more to more a deeper meaning it will flags of the oilskins the alliance between the man and the woman but also of the striped the two families it is really the union of two families whose children it is married in Africa the dowry will have a very very great importance compared to the skin marriage in the church or still loved the festivals that we give the dowry to the family of the woman it simply means that the woman plays a very important role in her group but also in the African family most Africans will want to marry traditionally not what it really represents a very important marriage for me the sailors this staff will have more importance than a roadblock at the town hall or still in front of the church because it is really the union of two families traditionally then the union of a couple it is really a ceremony not to be missed at so much that African a mandatory ceremony because it will be more important than any other wedding ceremony so I will explain to you the harmony of the dowry at home I on my mother's side so blind to others do not arrive first the man before the date and after others are called after in the after note the young girl amen first warn her parents like what I meet a gentleman a young man who interests me well with I am well and with whom I intend to start a family make my life later with the parents organize themselves to welcome the man it will be the president so the man will come come meet the family in particular normally the man meets the family just with the sea it is just the sea and the man who meet without blood being running or even the dad it is just the mother of the girl who will meet the man in question and her daughter so it is a ceremony it is not really a great harmony it is just a kind of presentation between mother-in-law and bobo son so a man introduced himself by saying yes my name is such and such for example I am your daughter's current man so it is me who takes care of your daughter at the moment it is me who will be in your daughter at the moment then normally the man brings this envelope in relation to his possibilities I want to clarify it is really not important who will be required by the mother no it is in relation to his possibilities that the man brings an envelope when he goes to present himself to his mother-in-law as a sign of his love or even out of respect for the in-laws it is after this pre-dowry meeting that the man returns to his corner he thinks pissing realizes that it is really Alice's wife is really the woman with whom he wants to live his life later well he comes his girlfriend he tells her I would like to receive the family list for the dowry I would like to have the list of the dowry so that I have time to organize myself and so leaves the girl marie see her parents the mother will have gold has already spoken to her father like what yeah your daughter still grew up in marana a man who plans to marry her later with the day before already knowing so when we are the girl comes to tell her that yes my boyfriend my fiancé or my boyfriend because they are not confident and yeah my boyfriend would like to have the list and the dowry so the dad being people running because the mother to tell what happened so he will go talk to the uncles of the girl of which we must not forget that it is really a family ceremony in this more how the whole family so they will do a little hour and not in family in which they have drawn up the list of there others once the list of the dowry is done well he will give the girl who will give to her boyfriend to her future husband so in this list in particular we find them it really depends on the cultures at home on my father's side I know that the list will be negotiated for example so on my father's side we are used to receiving the game the family before the dowry we are used to having a small meeting in which we receive the family of the man of the future son-in-law pillon we try to discuss the dowry pretty sure that I hope he offers you what I mean we discuss the teenagers in the sense that well we made a list that has a budget it is sure that they have a budget to be able to wait for all the extras the list but there is always a discussion it is argued on my father's side which means that the in-laws can say no given the possibilities of our child I think that it is going too you know too high for us the price is too high or the list is too long so the family so the in-laws the girl's family will organize themselves to try to reduce the number of items on the list of patients so that the man is not blocked or in such a way that who is not too difficult to impose his end that I am on my father's side on my mother's side I just know that the person respects exactly the list that is given to him but I can make my father doubt so on my father's side I know as I explained to you it is negotiated once the negotiations are done the family on the man's side the woman agrees and in the man's family saouasiah with the list negotiates so the list that corresponds to the possibilities of the young man is what I still eat wet what makes my suitcase has so once the in-laws have received the Belgian list in homage to a young man has all the time it takes to buy what will ensure the rooms a little about that friends do not put pressure on yourself like what yeah it's been two years for example become has still not done you have still not endowed taf late no we really have time for the henchman time for the man to fill in the articles to fill in what is requested on the list so the family the beast friends put you no pressure you really take the time it takes the main thing is to fill in the requested items it really leaves to bring everything that is requested on the list so once the man is ready well and comes his girlfriend like what I am ready I am ready sorry do what makes the girl will knock down parents yes my boyfriend is ready he has all the items are on the list so what time would suit you for them to come is there that the girl's family because we will consult together then they will set a specific date for the dowry sealing this date there that the man will come with everything that is requested on the list then presented each item to the family so the day of the once the date has been chosen it is really a very very big friendly ceremony with drink to eat does the girl's family organize everything in fact they will do everything to welcome the family the in-laws all their friends of the young man of future son-in-law they will cook will really have a very big ceremony [Music] it happens normally evening in most women and African women at home it happens in the evening made the woman's family by kitchen and there they will make specific uniforms angel uniform of African outfits specific for the members of the family the women the men who will wear in straw it is really a very big demo nor suitable viable everyone eats all my wood then at certain times of the evening in the family the in-laws the family of the young man presents themselves who normally the man the future I said nothing it is his uncles his members of the family that the companion who have the floor during the ceremony makes that the young men the family of the young man will present yes my we came there is a time for us to list it then we are finally here to present the items on the list as agreed then on the side of life also according to the umq who will who will take care of the ceremony including who will say ok by ok it's good you are ready we will proceed to the check-in done that he will take the list since the in-laws family of the woman always keeps a copy they will take the list will be able to check off as they go along so as they go along that in what I mean by that is that they will take the list and hook as they go along so as they go along that the man brings the thing and cauchy coach during the ceremony like he presents everything in the middle of people in the middle of the room or the courtyard launches me into the race in front of the man brings all the things then the man's family starts to check off to agree to be sure that the man has respected everything that was listed on the list so here once these moments have passed we have put all the things down then in all the world is happy everyone is joyful le mans respect everything that is asked now the fateful moment arrives the moment he must choose he must recognize his wife among so many women it is really a pretty cool pretty funny moment because no it is really a test in fact I remember that it is a test to see if you really know your wife the one on my mother's side what we often do what we represent all the young girls in the family covered all veiled we see absolutely nothing then most of them the right tone the orthez we will just show the toes of these women there but it will be up to the man to recognize the toes of his wife among all the women it is really funny but before arriving at this moment where we bring the girls the aunt of the young girl will come to make a little speech to the marketing what to produce were your daughter your future wife our daughter in your future wife is not here at the moment finally then a little money to go and get her in the village or brel to look for law is at the moment made that the man really has to come bomb is still there the man in a little money it happens that the attempted does not come back again in vain that a second reason like what in the end it is not there we have just said that she still has households and that she still left manceaux have only to find the millions of km2 I ask you and finally it will be necessary to increase a little money while I still had some increase a little money and so she will return it is there so she will it relaxes family atammik they do two to three times maximum but it is on my mother's side in fact twice knows that the future awaits her a second time to ask for soup that is where she will look for all the young girls that we can choose among them in the wall to choose his end so we present all the veiled girls as I say we will go nothing except the toes then it will be up to the man become choose his wife globes if a man is mistaken the brooch which rhdp still to go and look for his end if they will be they pay that he has in return we go back again we go back again in quarrel a little how the who was classified then we lie to them again until we have found his girlfriend at the ceremony one will continue so we go back in fact the same thing until the report of his wife that he does again so that we will still look for his wife does he repeats then we will engage the classification we will start again from zero he will have to choose again among all these women but once the man has chosen his wife beth has made a great joy the attraction takes her boyfriend in her arms then that's it which is takes a protocol in rap scene usa either right next to her boyfriend because normally there is a thing of there is a kind of two chairs like in the middle which means that the man will not be on the side of the woman the other side mom the beta man it's yours then the woman on the left what happens on my mother's side so yeah once once the woman would be seated near her husband that's where the woman's family will ask her for her name asked me is this soon to be husband is this really him the order that you chose the ram go ahead yes saying yes she will bring back a kind of a kind of traditional bribe that gave me to her husband and will make him drink to really show the family he is the man that I choose he is the man of my life he is the one I want that with him I want to build my life it is with him that I will live more wrong so here I will spare you a little of the details of what happens is that people eat people dance beef here it goes more or less that the ceremony the dowry then yeah so it's not bad it will be even friendly ceremony where the 2 family got together and families take like get to know each other it's really a greenhouse but very very friendly I want to clarify that it is not a business like most people records yes we sell our daughter to our in-laws no it is really a very very important tradition curiously in Africa for me I do not see myself married at the town hall before being married traditionally because it is a tradition and it must be respected as long as that is it will be the end of the video where I hope that the video goes more to us do not hesitate to mark a comment if I forgot a certain part or if I made a mistake it could happen starized that I had to participate remotely and in very small which means that I really do not remember the whole ceremony of all the stages of the ceremony but I made you a short summary of what happens on the dowry especially do not hesitate to subscribe to activate the notification bell so as not to miss but video as soon as I think of one to subscribe if it is not yet done to share to like also then we said to each other until next time for a new video [Music]\n",
      "CUSTOMARY MARRIAGE IN NIGERIA Mar so when that amount of money is being paid though nowadays some families will actually return the hi everyone welcome to my YouTube channel I'm super excited to have you watching this video my name is Mary and I'm a practicing lawyer in Nigeria on this YouTube channel I share videos to educate the general public so in today's video I'll be talking about customary dissolution of marriage I have made a lot of videos on um statutary marriage how to contract a statutary marriage and how to diserve it a s marriage for the sake of people watching my video seeing my video for the first time sary marriage simply means or who don't know what stut marriage means it simply means um what people call cult marriage that is stat statutory marriage so I have a lot of videos on my YouTube on how to contract it and on how to deserve it okay so today I want to talk about customary marriage how to deserve it not NE to contract and contract it I don't want to use the word contract because contract is actually peculiar to statut marriage okay how to um can I say conduct not conduct how to actually have a customary marriage that is not what I'll be talking about because custom differs and I'm actually not a traditionalist okay I'm just a EUR lady that I only know what is peculiar to my own tribe okay so I'm not talking about um how to have a customary marriage but on how to dissolve it okay let me make um can I use the word caveat that me making videos on the solution of marriage does not mean mean that I'm advocating for sin okay I am of the opinion that um differences can be reconciled as a matter of fact many people that reach out to me via my email address from my YouTube many people many people in diaspora don't reach out to me on saying they want to dissolve the marriage often time not even often time all the time I tell them try to mediate particularly if they the petitioner that is if they are the one that want to um dissolve the marriage I often tell them to try to meet mediate I often tell them to try to mediate so what I'm trying to say in essence is that I am not an advocate for divorce the fact that I make a lot of videos on it does not mean that is what I'm speaking for as a matter of fact I can speak against this the only situation is just that when some people are hard on going or embarking on a divorce proceeding I wouldn't have a choice than to um accept de brief okay so basically when talk about customary marriage the basic difference between a statutary marriage and a customary marriage is um how the marriage is being done for statut marriage that marriage will be conducted according to the Marriage Act we have we actually have a book or laws that regulates marriage in Nigeria so when your marriage is being done according to that the uh the the procedure in that act that's is the statut marriage that is when people go to the registry to actually conduct their marriage that is a statutory marriage and only a high court of any state can disolve such marriage or like customary marriage you don't it is not compulsory for you to go to the um to the registry as a matter of fact we Christians we um yeah Christians we have the opinion that the basic marriage that is more recognized by God according to the scripture is a traditional marriage okay so the registry is just maybe you to have the marriage registered and stuff like that okay so what talk about the customary marriage is a marriage that has been done according to your custom I am a eural lady for me to have my um marriage according to the custom means bright price must be paid so that is a basic thing according to my tribe I don't know if some other tribe other tribe they actually different from this but I know bright price is actually the the fundamental the main component of what we call a customary marriage so once that amount of money is being paid though nowadays some families will actually return the money not reject they return the money because they of the opinion that they not selling their daughter and things like that which is very very okay so but that is how that is when we can say a customary marriage has been done other things other items like fruits food stuffs they sometimes they they bring such to the bright um family so that is when we can say custom has been done so on how to deserve it the only thing that was um the the major thing is the bread price to be returned the family of the Bride needs to return to the Grooms family the bride price that was paid but in a situation whereby the bright price was given to them and they returned it like would you nowaday what should be the the the the um procedure which is actually the very tiny or tight Corner let me use that word because the customary Court of the opinion that when the briad price has been returned the marriage has been dissolved the only situation whereby people will find people going to the court to actually dissolve a customary marriage and that way they have to go to the customary Court customary court so the only reason why um such the only reason why you see some couple see proceeding to the customary cour to disolve their marriages if um they the one of them actually needs a divorce certificate to prove that truly the marriage has been dissolved or maybe there are issues that's relating to the custody of children of the marriage or division or disolution or distribution of properties let me use what distribution division let me use that word of properties because some you can say yeah before I marriage you don't have this property I got married to you we put money together you have this property you can't take it all alone and things like that so that is the instance those are the instances that some people may actually prefer to still proceed to the court for disolution of the marriage like I've mentioned the basic thing is the return of bright price so in a situation whereby no bright price was paid or bright price was paid or and the family returned the money what do you need to do that is just one thing I don't really have a a how can I put it a Define answer for you I can only suggest what you should do because if um according to the law this is how we actually operate when it comes to law in Nigeria there should be a definition that should be a process or a procedure that has been made by either the statute that is the the act all this constitution all those books we use or the court has actually made pronouncements on it so issues like no Bri price was paid The Pride pricee was returned what do you do I don't have a specific answer for you but I can say the best thing you can actually do is the best thing you can actually do when your bride pricee is been returned the groom family paid but it was returned on the basis that we are not selling our child what you should do I think if parties can actually sit and agree on a resolution of marriage like just agreeing to go separate way is good but if the one of the the party is being no no no no no this can happen the best bet the best thing I think you can do is actually to proceed to the customer record to have that vdict so in your application it definitely be there that okay they requested for a sum of $5,000 their bright price however would paid and that was returned so which means the the the the the effect of bride price actually nothing to really talk about because when the customary Court judges are making their judgments often time you will hear them say the sum of so so and so and so being the bride price should be returned so the court need to be aware that the pride price was paid but the family returned it the Bri family returned it so the court may not most likely will not make any pronouncement as relating to Bri price to be returned in fulfillment of disolution of marriage I don't know if you understand me so that is that also I need to mention that the court may not order the May sometimes sometimes may not order the gro family to return bright price in a situation whereby they marri is about 20 25 years and they are children of the marriage they just feel like something has been established in that home there is no there is no need for the Grooms family to return bright price okay the Bri family rather that to return bright priz that is I sometimes hear judgments like that in court and the rationale will be that they are children of the marriage the marriage has been for a long time so there is no point in returning bright price I hope this video to educate you I also come up with more videos as relating to marriage divorce you know because I think that is actually helping a lot of people on my YouTube channel and that's actually one of the reason I make videos like this so thank you so much for watching and I will see you in another video\n",
      "NIGERIA - Stages of the Igbo marriage process when an evil man and woman decide they want to get married to each other the first thing they do is inform their parents today your mom [Music] [Music] [Music] hey what was the time jerry [Music] before anything is done the family does what is traditional to most evil societies an investigation into the family history of their child's proposed spouse to be sure that there's no hereditary disease associated with the family once satisfied the groom's family proceeds to visit the bride's family there we know okay [Music] [Music] oh [Music] [Music] [Music] uh [Music] foreign [Music] [Music] [Music] i love my [Music] [Music] [Music] um [Music] um [Music] [Music] um [Music] [Music] is [Music] [Music] um [Music] [Music] [Music] [Music] [Music] [Music] um [Music] no [Music] [Music] is um um um a list of the requirements for the dowry payments is given to those from the groom's family who came for the ikuaka this is usually a comprehensive list of things that are to be brought along with them on their next visit when the marriage ceremony will be completed m um [Music] [Music] [Music] [Music] i'm here with rogie very [Music] um thank you thank you [Music] [Music] oh if we feel each are you enjoying with the line yeah yeah i tried for the list [Music] [Music] is um [Music] all right [Music] [Music] um [Music] [Music] um okay [Music] [Music] is [Music] [Music] [Music] [Music] [Music] [Music] [Music] [Music] um [Music] ah um [Laughter] okay um um okay [Music] hello no um whatever me [Music] [Music] in jesus name um [Music] when the ceremonies are over the bride is then escorted to her husband's house by some married woman from the bride's family the groom's mother receives the bride by washing her feet this is a gesture of acceptance and it is taken very seriously by the bride's family you\n",
      "BAMENDA (BAFUT) TRADITIONAL WEDDING 2022|| Cameroon Traditional Marriage hi everyone welcome to my channel handset237 my name is Rosie and in today's video we are going to be seeing a typical representation of the barfoot traditional marriage in the northwest region of Cameroon [Music] [Music] come on come on come on [Music] myself guys we are safe for part two okay traditional marriage coming up but food girls are beautiful again but girls are beautiful okay and our emcee you see it [Music] [Music] [Applause] [Music] [Music] foreign [Music] [Music] that would begin he can respect that he will make me I follow me come for your comfort able I can't forget when you don't see a planting before one called that planting what do you want to do for that fancy [Music] [Music] thank you [Music] um I welcome you because I know see they didn't have a job but I'm gonna tell you again see wait what happens [Music] so I won't tell you now see yeah I didn't have a job I know that was because [Music] do not run through you still come see where that man is sweet ie all that families on YouTube I will tell you see as no run you're not talking to your mind I will Dare You See for my body in the street for all the family [Applause] you know the family yes sir for you not the people they really care for taking me for compound you agreement thank you yes I do all my heart this window that opened this one as long as you talk if anything really happen your vets foreign [Music] [Music] [Music] what happened [Music] it is um move here all right guys after uncooking the bottle of palm wine that was brought by the groom's family the next stage is for the bride to take a cup of palm wine to her husband to be to show her family and friends that this is the man that has come to seek her hand in marriage so this is what we are going to see she's just moving around searching for her husband until she gets to the position where her husband is sitting enjoy the rest of the video [Music] thank you [Music] [Music] you know [Music] everybody [Music] [Applause] [Music] [Applause] [Music] foreign [Music] [Music] yeah yeah [Music] [Music] okay [Music] foreign [Music] foreign [Music] [Music] [Applause] my God [Applause] foreign [Applause] [Applause] [Music] [Applause] come on that's the last one you put in this place what does this symbolize it to everyone [Music] to smell Jesus the end of the spelling of Jesus Christ [Music] thank you [Music] and Siri is going to show us how he's going he's capable foreign [Applause] on both balls and pick a bit of salt [Music] come on away of my life [Music] [Applause] [Music] I've come to the end of this beautiful Buffet traditional marriage if you did enjoy this video go ahead and like it leave me a comment down below and if this is your first time here thank you please do not forget to subscribe and share this video until next time it is bye bye for\n",
      "CAMEROONIAN TRADITIONAL ATTIRES|| CAMEROONIAN TRADITIONAL WEDDINGS Cameroon is a country that is strategically placed many people get confused whether Cameroon is in West or Central Africa because of its position Cameroon identifies more as central Africa the official languages in Cameroon are French and English Cameroon has over 240 tribes and each tribe has its own traditional language so you can imagine the vast culture in the country over the years cameronian cultural attire has been recognized by many and that is the togle or aogo in particular many people seem to feel that this is cameroon's main traditional wear but you'll be surprised at how many traditional outfits cameroonians have in this video I will be showing you the different cameronian traditional attires if you would like to see all these just keep watching Cameroon is divided into 10 regions and each region is unique out of these 10 regions eight of these regions are French speaking and two of these regions are English speaking for this video purpose I've decided to divide the regions into four because though each region is unique some regions are really similar so the first set of regions I'm going to talk about is the Eastern region the southern region and the central region this is yund btoa and iua their traditional outfit is the abom please understand that I am not from this some of this area so I might not be pronouncing it the way it's supposed to be pronounced so their traditional outfit is called the obom and it's made out of Rafia tree BS and leaves this is very creative the first time I saw it I was completely surprised cuz you could never even imagine that outfits could be made out of that another thing I noticed about this is that it is pretty common in other Central African countries the second set of regions I'm going to talk about is the sour people when you say sour people it's mostly people who live around water so people in the litoral and some people in the southwest region are called the sour these sour people have so much in common from their traditional outfits to the way they speak it is not easy to tell the difference the Dua and bakeri people we kabang gundo and sanas so for the literal people they Caba the mostly call their kabang gundu and for those from the southwest they just call it Caba simply that is what the women wear and for the men they wear a white shirt and Sanja here you could find some little differences like the people from the southwest region their caps are mostly red while the people from the litoral region their caps are mostly black still in the southwest region we have people like the buffos the bayangi the bosis who also wear the Sanja and the white shirt majority of these Villages wear the cabba as their traditional outfit as well but the bayangi people are kind of different this is because they share a boundary with Nigeria another traditional way for the bayangi people comes to the women so the bayangi women mostly wear a lace top or the tie two wrapper when I say two wrapper it just simply means an anara fabric that has been cut into two and they tie twice on their waist so the next set of regions we're going to talk about is the grass fields which we commonly call graphy in Cameron when they say you are a graphy person it simply means you're from the grass field and there are two regions located in the grass field that is the northwest region andwest region the first one we're going to talk about is the traditional outfit of people from the western region I love love this particular fabric it's so beautiful and it's the second most popular cameronian traditional attire so it's a mix of blue and white so beautiful and it has been made with different fabric if you come and you see anybody wearing this most certainly they are from the western region cuz this is their traditional attire and the next one I'm going to talk about is for those from the northwest region over the years like I said this particular attire has been recognized by many a lot of people feel like it's cameroon's traditional outfit like cameroon's main traditional outfit mostly because it has the colors of the cameronian flag on it but no this is just a traditional outfit from one particular region of the country so this particular outfit used to be used back in the day by Royals and people who had Shifty titles and all that but over the years when we started embracing our culture more people start flating their traditional outfits more and that is how this beautiful outfit gain recognition all over the world as many people love it because of its vibrant colors the last region I'm going to talk about is the north far north and gerey this region is occupied by mostly the fani and housers and majority of them are Muslims their traditional outfits are quite simple they dress a lot in anara outfits one of their most popular outfits is the auada which Nigerians call agada for us in Cameroon it's called the auada the men wear the auada and the women wear the boo boos the boo boo is just a long flare gown which reaches your ankle and it's easy to walk around in so Guys these are the traditional outfits of cameronians is there anything that you saw in this video that is new and again like I said I don't know how to pronounce some of the names very well so please forgive so guys that is it for a cameronian traditional attires like I always tell you guys I don't know everything this is what I got from the research I did if there's more information you know please come and put it under this video it's going to definitely help anybody who is looking for this information another thing another reason why I did this video is because I see a lot of people who come to me saying that they are about to get married to cameronians and they don't know what traditional outfit to get cuz they seem to always like the togle or a tole but it's good to know what traditional outfit so that you know what particular kind of outfit you're going to wear in case I didn't see it in this video I'm from the northwest region so my traditional outfit is the tole anyway guys thank you very much for watching this video if you like to know more about Cameron if you want me to make more videos about Cameroon let me know what you would like to know about and I'll definitely do a video on that that said guys thank you very much for watching this video please not forget to subscribe and I am going to see you on my next one love you guys [Music] [Music] [Music] bye [Music] oh [Music]\n",
      "The Law On Customary In South Africa greetings everyone welcome to my youtube channel i'm advocate william marcelo the purpose of this channel is to teach south african law mainly on topics that affect the vulnerable in society like women children the disabled and the poor so the emphasis will be there and secondly to teach or to preach the word of god in today's video i will be addressing the law on customary marriages in south africa now let me start by saying customary marriages are fully recognized in south africa but before 2000 before the 15th of november 2000 that was not the case because except for the fact that the act that recognizes customary marriages is called the recognition of customary marriages act number 120 of 1998 this act only came into effect on the 15th of november 2000 but just to take a step back into our historical background regarding this issue prior to this prior to the promulgation of this act customary marriages were not recognized in south africa even though people continued to exist or people continue to conduct their relationship based on their custom in this instance customary marriages civil marriages or marriages by christian faith were given recognition and more prominence to the customary marriages in other words what used to happen is if somebody is married or is in a customer relationship not married per se or even if married if this person was in this kind of a relationship or in this customary marriage which was not recognized and at a later stage decide to enter into a civil marriage the civil marriage even if it was entered into after the customary marriage it would be given recognition so the worst part would be in a situation where mr x was made to a customarily and then later decide to marry b in terms of the law then his marriage to be which is a civil marriage would be the one that is recognized another scenario would be if the same mr x is married to a in an instance where he wants his union to be recognized even if he has done everything in terms of the culture that would render it a marriage he would still be required to go to court to go to church to solemnize his marriage so that this marriage must be fully recognized now based on this act this is no longer the case you don't have to go and solemnize your marriage at the court you don't have to go and go to church for your marriage to be solemnized you don't have to if you don't want to but your marriage will still be recognized now in order for this marriage in order for this customary marriage to be recognized there are three very important requirements and they must all be there number one both parties both prospective spouses both parties who intend to get married they must be 18 years or above they can be underage as it used to happen in some instances where we've heard from our elders that for those of us who don't know that a child would be identified while still young and so on and so off or maybe a child of 17 will be handed over to an elderly person this is no longer the case both must be 18 years or above number two which is the second requirement they must both consent they must both agree nobody should be forced if it's first if it's arranged and forced it does not meet this requirement number three the marriage this marriage must be negotiated tucked into or celebrated according to your customary law now in south africa we have different ethnic groups we have the guinea group consisting of closer zulus develop vendors we have another suit group is south soto and so on and so forth and in our own ethnic groups there is a common element in the way in which we negotiate our customary marriage the common element is lobolo but under this number three requirement lobola is just one of them there are other issues involved when you enter into customary marriage that is why the number three requirement is it must be negotiated it must be entered into it must be celebrated in accountants with customer law so there will be differences here and there based on the ethnic groups that entered or that enters into this customary marriage but the most important thing is that the negotiation the celebration must be entered into in terms of customary law so once these three requirements are present then we can talk of customary marriage being in existence there are instances where some people after being married for so long to each other when a situation arise they will begin to say no i was not married as far as i'm concerned it was just a you know what we call in south africa effort and set arrangement i never entered into any marriage with you but when you look and analyze you'll be able to pick up that no actually there is enough evidence to support that indeed there was customary marriage when you look at it the number one requirement is very easy to prove it's the one of age were they both 18 or above number two you can deny consent there's a way in which we can prove but for the mere fact that you stayed with this person that can be an indication that you did consent to this kind of marriage thirdly when you begin to analyze the entire situation you'll be able to observe that but yes indeed this marriage or this relationship that is now being contested as not being a customary marriage is indeed customary marriage because it was negotiated it was entered into it was celebrated in accordance with customary law we have seen cases before even in the media without mentioning specific cases to say you know what when it is time now especially when it comes to property division of property that's where the problem will start and i also need to mention that customary marriage except for these requirements that i have mentioned is automatically in community of property and i will unpack other issues as we continue with the series which may result in part two three or even four depending on the need but for now i will stop here thank you very much i'm intending to make it brief so that they can be an understanding because there's so much confusion that has been caused by different statements that have been said whether it's in social media or whether it's on in the media where there are so many interpretations and linked to what customary marriage is so from today if you know that if these three requirements are there it is a customary marriage or to put it the other way around i can say these are the requirements for customary marriage i want to thank you for listening to this video please like it will help me comment and subscribe please know that subscribing is a free you just click that button and also click the notification bell so that when we upload other videos you are alerted thank you very much\n",
      "Customary Marriages In South Africa: Answers To Frequently Asked Questions greetings everyone welcome to my youtube channel i am advocate mathilo the purpose of this channel is to teach south african law and please don't regret this teaching as legal opinion if you are confronted with a situation and you still need to use the services of a legal practitioner please feel free to do so on our last recording we spoke on the law on customary marriages in south africa and this is part two i intended i intend in fact today to address some of a few frequently asked questions on this topic the first one is customary marriage in or out of community of property i did mention in the past that it is automatically in community of property this is the case when you have a monogamous relationship in the sense that it's only two people who entered into this type of marriage that is it's only husband and wife or the exclusion of other parties but in another in instances where it is polygamous where there are more than one wife the situation will change there will be contracts that will be entered into with other wives that will not necessarily make it to be in community of property now this will take me to my second question is customary marriage monogamous or polygamous the way in which i have responded to the first question would already give you an indication that number one parties can decide to enter into a customary marriage as a monogamous union and parties can enter into customary marriage as a polygamous union in other words it can be just two people or it can just be one wife or in another customer marriage marriage you can have more than one wife so it has those features of being monogamous or polygamous but definitely not polyandry not at the stage i remember when we were busy with this the project that led to this act the recognition of customary marriages act there was a debate around that issue and one of the debate was okay if we say a customary marriage are we now deviating from the its original form and there were other debates the effect that by the way custom is not constant it evolves but what i know for sure is that the polyandry element did not make it to the act until today does customary law marriage has a certificate the answer is yes and how does this happen it will take me to my next question are customary marriages registered or should they be registered the answer is yes once you have entered into a customary marriage you are expected to register this marriage and the next question is when should these marriages be registered within three months of entering into these marriages you must ensure that you register this marriage the next question what if my marriage is in my customary marriage is not registered does the fact that this marriage is not registered makes it invalid the answer is no non-registration of customary marriage does not invalidate it so even if this marriage is not registered it will still be recognized by a court of law however my honest view i don't want to say my advice because i'm not giving legal advice let me just say you'll be better placed if you register it so that you can have a certificate from home affairs that confirms the existence of this marriage so that in future when everything becomes sour or when there is a need to prove something for whatever reason you will have ease easy documentary evidence however if that did not happen for one reason or another there are ways in which you can prove if there is a denial that indeed there is customary marriage i remember i handled a case where we had to prove the existence of this marriage in this instance you can go to your traditional leader and request an affidavit in some instances when lobono is paid there are traditional leaders i don't know if it's all who would issue some kind of a receipt for lack of a better word as proved that lobola from this family was paid from the truth family another way of proving it it's by affidavits requesting for affidavits from people who were part of the lobola negotiations now the other question that usually crops up is should lobola be fully paid for us to say there was customary marriage no there is no need for ebola to be fully fully paid even if it's paid partially because we know that there are some instances where the man or his family is not able to pay the entire ebola they will continue to stay together as husband and wife even if lobola was not completed there are instances where we've even heard that the father if it happens that his first born daughter gets married before he completes his own lobola to his wife he would now utilize his daughter's lobola to finish the payment of that lobola so even if the lobola is not paid in full it does not mean that this third requirement that we spoke about last time of lobola as one of i mean off of lobola is one of your essentials that would qualify for negotiation celebration so there's no need that is fully paid now the last question is it necessary to go to a court of law for divorce probably the first question should be when i want to terminate customary marriage what do i do the answer is you file for divorce now this is something that is not found in the cultural aspect of customary marriage it was done somehow before where there will be a return of lobola and so on and so forth i don't want to go to those nitty gritties but all what i need to mention is that in terms of the act if you the only way of terminating customary marriage is by way of divorce you have to approach a high court you have to go through the same process that people who are involved in a civil union go through when they divorce is exactly the same process the only thing is that in your summons it will be mentioned that you are married by way of custom in that and then they will explain why they say so and once the court has established they will even attach documentary proof if it's necessary but it is very very important it is one thing that is enshrined in the act that is there in the act whereby you have to go through divorce process the actual divorce process and for even the court to give you a divorce a court order to that effect so there's some documents that are being introduced to this customary marriage thing the certificate once you have registered whereby you are advised to register though if you are not registered it does not mean that your customer marriage will not be recognized if maybe you were married to this guy he passed on before you register nobody can say no leave this house you and after all you are not even married but you have been staying in the with the sky and when you look at part one where we discussed the requirements that will be enough proof that indeed you are married to this person so customary marriage probably let me ask another question though i said that one would be the last question what are the rights of women one of the main thing that i can tell you is that this act and the recognition of customer marriage protects the rights of the vulnerable protect the rights of women protects the rights of children and that is why it is even important that the divorce must be conducted in a court of law to protect you to protect the children to protect the woman to protect the vulnerable to protect everybody else not to say that men will not be protected but we know that in this union they are power relations so to protect everybody else including the vulnerable they will be protected once there's a court of order the court of law to see to it if there's a need for maintenance order to be issued it will be issued even if there's a need for division of the estate proper division of estate not for a woman to be told no you're going back to your father's house after she's been part of this this relationship for so many years so is to cater for things like that so this is as far as i will go today regarding this topic i will check if it will be necessary for me to take it to pass three to address other outstanding issues but for now i will stop here once again thank you very much for listening to my video please comment please share the video especially for those of you if you are a leader share with your with people that you lead comment share subscribe and finally press the notification button so that when we upload our next video you are notified thank you very much god bless you\n",
      "How To End a Customary Marriage greetings everyone once again welcome to my youtube channel today we are going to be talking about dissolution of customary marriage or to put it the other way divorce under customary marriage the question here is the main question how does it end does customary marriage and like all other marriage or what is the situation or when you are fed up when you are angry when you are disappointed do you just take your stuff and go in the olden days or according to cultural there are ways in which it was done but in terms of recognition of customary marriages act number 120 of 1992 you don't just pack your bags and go the act says you must approach a court of law it can be a high court family law court but in order for you to say i was married under customary law i met the requirements that is why i can say i was married we did discuss the requirements under customary law in a video that preceded this one in that we illustrated when can you say you are married under customary law so once you were part of that legal customary marriage or once we are part of that marriage that is recognized under the recognition of customary marriages act 120 of 1998 and you want to terminate you want to add to end you want to dissolve that marriage the act says you must approach a cut of law therefore what it means is that if you are married under customary marriage or yes under customary marriage the only safe time you can say your marriage has come to an end is because there is a court order or there is a decree of divorce so it is very very important that you ensure that you approach the court of of law like in all other marriage like your civil unions where if you are married by way of civil union you have to approach the court even in this instance even if it's customary marriage you have to approach the court and if you don't approach the court there will be negative consequences for example even if you can just pack your bags and go you are still married even after 10 years if it can be discovered that you once packed your bags and and left you will still be regarded as being married because there is no decree of divorce there is no court order the other consequence is that you can't marry again and if you do decide to marry again despite the fact that there is no cut order that dissolved or determinated your marriage this will be illegal and your marriage can be your new marriage can be announced and it can be declared null and void at a later stage now a popular question that is usually asked another implication of divorce under customary marriage is do you have to return lobola now we have been talking about this marriage being in terms of recognition of customary marriages act the act is silent the act does not say anything about retaining of lobola however traditionally the lobola was returned or or could be returned or maybe returned the affecters that are considered now whatever i'm discussing now it's not what the act says it's what is done traditionally traditionally when they decide whether this lobola should be retained or not they look at the number of children they look at the amount paid for lobola they look at who was at fault and so on and so forth now in a case where the husband is at fault he fulfills his lobola in a case where the wife was at fault the lobola must be retained and whether they retain all the amount paid or whether they return half or whatever it's it will be decided on case by case now remember that here we are talking traditionally what is it that happens or that will happen traditionally when this marriage comes to an end and clearly this is a situation where customary law expects or even the chief rather let me say traditional leaders will be involved in this decision because they expect and we can also even safely said they are custodians of customary law so in a nutshell if you are part or if you are married in terms of the recognition of customary marriages act of 1998 make it a point that if you want to dissolve or to end that marriage approach a court of law so that you must have a decree of divorce so that the court can issue an order to that effect because at a later stage you may encounter problems and it doesn't matter for how long you have been divorced interpretation even if you left that marriage in 2000 now we are in 2022 and you say ah it's been too long it's been 22 years that does not count ensure that you do the correct thing in terms of the law thank you very much\n",
      "Customary Marriages in Uganda for 13 years between 1996 and 2009 nagolu melee Eva and Dr Sarah Solomon were in a romantic relationship and lived together as husband and wife in fact in 2002 Millie introduced Solomon to her parents in an introduction ceremony at bukola Village luminosad County in Busia District the couple developed misunderstandings merely filed for divorce at injeru Chief magistrate Scott the magistrate however dismissed the case arguing that the purported marriage between melee and Solomon was illegal as had not been rejected as required by the law this left melee as a mere mistress without any entitlement to the property acquired by the couple be satisfied with a majestic decision Millie rushed to the high court in ginger where the judge held that Omission to register a customary marriage does not necessarily invalidated [Music] what is your opinion on the non-registration of customary marriages foreign [Music]\n"
     ]
    }
   ],
   "source": [
    "def transcriptions_shunk_list(json_video_path):\n",
    "    \"\"\"\n",
    "    From a JSON file of video, give a list of shunks\n",
    "    Parameters:\n",
    "    - json_video_path: Path to the JSON file.\n",
    "\n",
    "    Returns:\n",
    "    - transcription_chunks: List of Shunks.\n",
    "    \"\"\"\n",
    "    \n",
    "    target_language = 'en'\n",
    "    translator = GoogleTranslator(source='auto', target=target_language)\n",
    "    \n",
    "    # Get array of Youtube videos list\n",
    "    _, data = load_json_to_dataframe(json_video_path)\n",
    "    \n",
    "    # Prepare chunks with metadata\n",
    "    transcription_chunks = []\n",
    "    \n",
    "    # Get the transcript for each videos\n",
    "    for video in data['videos']:\n",
    "        \n",
    "        # Extract the video ID from the URL\n",
    "        video_url=video['url']\n",
    "        video_id = video_url.split('v=')[-1]\n",
    "        \n",
    "        # Get the full transcript for single video\n",
    "        translated_text = get_transcription(video_id, target_language=target_language)\n",
    "        \n",
    "        if translated_text is None:\n",
    "            continue  # Skip this video if no transcript is found\n",
    "        \n",
    "        print(translator.translate(video['title']), translated_text)\n",
    "        # Shunk the transtription\n",
    "        chunks = split_into_chunks(translated_text, max_chunk_size)\n",
    "            \n",
    "        for _, chunk in enumerate(chunks):\n",
    "            transcription_chunks.append({\n",
    "                'video_id': video_id,\n",
    "                'title': translator.translate(video['title']),\n",
    "                'sentence_chunk': chunk,\n",
    "                'chunk_char_count': len(chunk),\n",
    "                'chunk_word_count': len(chunk.split()),\n",
    "                'chunk_token_count': len(chunk) / token_char_ratio\n",
    "            })\n",
    "        \n",
    "    \n",
    "    return transcription_chunks\n",
    "\n",
    "json_video_path = \"./Transcript_path/Videos.json\"\n",
    "videos_shunk_list = transcriptions_shunk_list(json_video_path)"
   ]
  },
  {
   "cell_type": "code",
   "execution_count": 60,
   "id": "f09660f9",
   "metadata": {},
   "outputs": [
    {
     "data": {
      "text/plain": [
       "[{'video_id': 'UG6y-k59Hps',\n",
       "  'title': \"Traditional marriage in Wassoulou by the 'Territorial Marketing Mali' Program\",\n",
       "  'sentence_chunk': \"the wasouou wedding is rich in Conie most of the rituals of the traditional wedding are intended for the woman underlines her great responsibility in the [Music] foyeribala one of the many villages of wasouou belongs to the commune of orolé in the circle of yfolida the weddings they are generally celebrated in a traditional way for this specific wedding the groom chose to celebrate a civil wedding at the town hall of sucorolé a rarity in the locality [Music] [Music] after the town hall the traditional ritual finally begins in moribala as in many other villages the marriage unites two families and not only two individuals the woman is given not to a man but to his family the ceremonies extend over 3 days the main rituals take place on the 2nd day the first evening is dedicated to music in the bride's family a party where young girls and women dance to traditional sounds and music from the [Music] world the next day the rituals begin with the bride's lunch who receives the first handful of food from her hands of one of the sisters of her future husband accompanied by the blessings of these tents surrounded by these tents the bride listens to explanations on the foundations of marriage words imbued with emotions that often make her cry c t calls her to order you come from a family where women have respected the foundations of marriage if you have these commitments the whole family will never forgive you a bouquet composed of four shea leaves a l Caleb and a wooden capsule night r the shea leaves symbolize levitation as its name indicates in lack the calabashes used as a ladle is used to prepare the first porridge that the bride offers to her husband the slightly bitter gu of the calabashes Neuve reminds us that marriage can experience difficult times but that it must be nourished despite everything according to other beliefs this ladle is kept until the husband's death to wash his body thus symbolizing a marriage hidden until death and the wooden spatula carved from the same type of wood used to cover graves underlines that marriage is made to last a lifetime the great aunts skill the bride in white symbol of purity a tent ties the loincloth around her waist three times but only fixes it at the 4th symbolizing femininity and by extension the sun his Mo of the original matrix before leaving Mary crouches in front of the house where the men of her family are gathered he announces to her that her note has been accepted and consumed and that she can now join her husband accompanied by blessing [Music] the groom's friends come to get the bride in botau forming a procession between the two [Music] families at the door of the family of an uncle of the groom the women welcome the bride with songs and dances in the host family an infant is placed on her back when she enters her room a ritual to increase her fertility the tents of the groom's family observes her every move to deduce snuffs the bride has kept in this family where she receives advice from relaxation this time from her husband on the rules and obligations of his new [Music] life the groom accompanied by his friends comes to greet the uncles and aunts thus asking permission to spend some time with his new wife the same evening a musical evening is organized in the groom's family where he can bring his wife with permission the next day the bride is taken at the end of the afternoon to her husband's family accompanied by a procession of women and young girls her bouquet is given to the first person encountered whose sex predicts that of her first child the charity leaves are hung on the roof of the couple's house the Marie must then fill the Jard of the first married woman of the court a ritual closely observed by the elder women these gestures reveal her personality and allow the older women of the court to better advise her the next day she does the laundry of the clothes of the whole family helped by her little sisters her friends and the woman whose marriage precedes hers she then stays in the house of one of the mothers-in-law of the court to receive teachings on marriage during this period which can last up to a week she can discuss with her husband who visits him without consummating the marriage their behavior being scrutinized in couples there are misunderstandings or difficulties in a marriage celebrated in a traditional manner in the different rituals make it possible to put in place more safeguards for a happy and lasting union\",\n",
       "  'chunk_char_count': 4470,\n",
       "  'chunk_word_count': 801,\n",
       "  'chunk_token_count': 1117.5},\n",
       " {'video_id': 'UxaQRKVeWnY',\n",
       "  'title': 'TRADITIONAL MARRIAGE IN AFRICA: THE DOWRY || I TELL YOU EVERYTHING|| YaSarah',\n",
       "  'sentence_chunk': \"I don't say all in common except at the mit [Music] in the water everyone welcome to all on my youtube channel so we turn today for a new video in which he decided to explain to you the process of traditional marriage in Africa precisely in my country unless the democratic republic of congo in kinshasa does that in africa so I explained to you the dowry in relation to the ceremonies kg eu to attend I want to clarify I am not an expert on dowries I just want to share my experience with you my experience I attended several to several ceremonies doubts when I was very young which means that I still have enough notions in relation to that which is also it is a ceremony that will be special the region of my mother my mother who is from the handling more precisely who is from the mouret tribe guy that is who makes that I have more attend words the judge side blu ray gackou on the side of my father who is my baby but I still know some certain principles of dumas the traditional my baby that I will tell you about in this video in the meantime but I want to clarify that I did not have to participate or even polka dots I really did not have to participate in special weddings from my father's side beautiful baby but that's it so I am not an expert if you have suggestions regarding ceremonies do not hesitate to let me manage otherwise it is really a wedding that happens like in the DRC will not be in all African countries it happens the same way it is especially we have c on my mother's side so it is this video you are interested stay connected and for old and new subscribers I say thank you very much for your encouragement thank you very much for your comments your likes and your views do not hesitate to subscribe to like and apart from this video if the video is sure if he means it is the video [Music] your captures or catch do not hesitate to share it so the video then the marriage is sealed by several ceremonies the most important of which will be the mole what is the dowry the dowry is not like many people imagine the fact of selling to sell in the family van the woman to sound no it is not the purchase of a woman people it will be really more it is really more to more a deeper meaning it will flags of the oilskins the alliance between the man and the woman but also of the striped the two families it is really the union of two families whose children it is married in Africa the dowry will have a very very great importance compared to the skin marriage in the church or still loved the festivals that we give the dowry to the family of the woman it simply means that the woman plays a very important role in her group but also in the African family most Africans will want to marry traditionally not what it really represents a very important marriage for me the sailors this staff will have more importance than a roadblock at the town hall or still in front of the church because it is really the union of two families traditionally then the union of a couple it is really a ceremony not to be missed at so much that African a mandatory ceremony because it will be more important than any other wedding ceremony so I will explain to you the harmony of the dowry at home I on my mother's side so blind to others do not arrive first the man before the date and after others are called after in the after note the young girl amen first warn her parents like what I meet a gentleman a young man who interests me well with I am well and with whom I intend to start a family make my life later with the parents organize themselves to welcome the man it will be the president so the man will come come meet the family in particular normally the man meets the family just with the sea it is just the sea and the man who meet without blood being running or even the dad it is just the mother of the girl who will meet the man in question and her daughter so it is a ceremony it is not really a great harmony it is just a kind of presentation between mother-in-law and bobo son so a man introduced himself by saying yes my name is such and such for example I am your daughter's current man so it is me who takes care of your daughter at the moment it is me who will be in your daughter at the moment then normally the man brings this envelope in relation to his possibilities I want to clarify it is really not important who will be required by the mother no it is in relation to his possibilities that the man brings an envelope when he goes to present himself to his mother-in-law as a sign of his love or even out of respect for the in-laws it is after this pre-dowry meeting that the man returns to his corner he thinks pissing realizes that it is really Alice's wife is really the woman with whom he wants to live his life later well he comes his girlfriend he tells her I would like to receive the family list for the dowry I would like to have the list of the dowry so that I have time to organize myself and so leaves the girl marie see her parents the mother will have gold has already spoken to her father like what yeah your daughter still grew up in marana a man who plans to marry her later with the day before already knowing so when we are the girl comes to tell her that yes my boyfriend my fiancé or my boyfriend because they are not confident and yeah my boyfriend would like to have the list and the dowry so the dad being people running because the mother to tell what happened so he will go talk to the uncles of the girl of which we must not forget that it is really a family ceremony in this more how the whole family so they will do a little hour and not in family in which they have drawn up the list of there others once the list of the dowry is done well he will give the girl who will give to her boyfriend to her future husband so in this list in particular we find them it really depends on the cultures at home on my father's side I know that the list will be negotiated for example so on my father's side we are used to receiving the game the family before the dowry we are used to having a small meeting in which we receive the family of the man of the future son-in-law pillon we try to discuss the dowry pretty sure that I hope he offers you what I mean we discuss the teenagers in the sense that well we made a list that has a budget it is sure that they have a budget to be able to wait for all the extras the list but there is always a discussion it is argued on my father's side which means that the in-laws can say no given the possibilities of our child I think that it is going too you know too high for us the price is too high or the list is too long so the family so the in-laws the girl's family will organize themselves to try to reduce the number of items on the list of patients so that the man is not blocked or in such a way that who is not too difficult to impose his end that I am on my father's side on my mother's side I just know that the person respects exactly the list that is given to him but I can make my father doubt so on my father's side I know as I explained to you it is negotiated once the negotiations are done the family on the man's side the woman agrees and in the man's family saouasiah with the list negotiates so the list that corresponds to the possibilities of the young man is what I still eat wet what makes my suitcase has so once the in-laws have received the Belgian list in homage to a young man has all the time it takes to buy what will ensure the rooms a little about that friends do not put pressure on yourself like what yeah it's been two years for example become has still not done you have still not endowed taf late no we really have time for the henchman time for the man to fill in the articles to fill in what is requested on the list so the family the beast friends put you no pressure you really take the time it takes the main thing is to fill in the requested items it really leaves to bring everything that is requested on the list so once the man is ready well and comes his girlfriend like what I am ready I am ready sorry do what makes the girl will knock down parents yes my boyfriend is ready he has all the items are on the list so what time would suit you\",\n",
       "  'chunk_char_count': 8190,\n",
       "  'chunk_word_count': 1630,\n",
       "  'chunk_token_count': 2047.5},\n",
       " {'video_id': 'UxaQRKVeWnY',\n",
       "  'title': 'TRADITIONAL MARRIAGE IN AFRICA: THE DOWRY || I TELL YOU EVERYTHING|| YaSarah',\n",
       "  'sentence_chunk': \"for them to come is there that the girl's family because we will consult together then they will set a specific date for the dowry sealing this date there that the man will come with everything that is requested on the list then presented each item to the family so the day of the once the date has been chosen it is really a very very big friendly ceremony with drink to eat does the girl's family organize everything in fact they will do everything to welcome the family the in-laws all their friends of the young man of future son-in-law they will cook will really have a very big ceremony [Music] it happens normally evening in most women and African women at home it happens in the evening made the woman's family by kitchen and there they will make specific uniforms angel uniform of African outfits specific for the members of the family the women the men who will wear in straw it is really a very big demo nor suitable viable everyone eats all my wood then at certain times of the evening in the family the in-laws the family of the young man presents themselves who normally the man the future I said nothing it is his uncles his members of the family that the companion who have the floor during the ceremony makes that the young men the family of the young man will present yes my we came there is a time for us to list it then we are finally here to present the items on the list as agreed then on the side of life also according to the umq who will who will take care of the ceremony including who will say ok by ok it's good you are ready we will proceed to the check-in done that he will take the list since the in-laws family of the woman always keeps a copy they will take the list will be able to check off as they go along so as they go along that in what I mean by that is that they will take the list and hook as they go along so as they go along that the man brings the thing and cauchy coach during the ceremony like he presents everything in the middle of people in the middle of the room or the courtyard launches me into the race in front of the man brings all the things then the man's family starts to check off to agree to be sure that the man has respected everything that was listed on the list so here once these moments have passed we have put all the things down then in all the world is happy everyone is joyful le mans respect everything that is asked now the fateful moment arrives the moment he must choose he must recognize his wife among so many women it is really a pretty cool pretty funny moment because no it is really a test in fact I remember that it is a test to see if you really know your wife the one on my mother's side what we often do what we represent all the young girls in the family covered all veiled we see absolutely nothing then most of them the right tone the orthez we will just show the toes of these women there but it will be up to the man to recognize the toes of his wife among all the women it is really funny but before arriving at this moment where we bring the girls the aunt of the young girl will come to make a little speech to the marketing what to produce were your daughter your future wife our daughter in your future wife is not here at the moment finally then a little money to go and get her in the village or brel to look for law is at the moment made that the man really has to come bomb is still there the man in a little money it happens that the attempted does not come back again in vain that a second reason like what in the end it is not there we have just said that she still has households and that she still left manceaux have only to find the millions of km2 I ask you and finally it will be necessary to increase a little money while I still had some increase a little money and so she will return it is there so she will it relaxes family atammik they do two to three times maximum but it is on my mother's side in fact twice knows that the future awaits her a second time to ask for soup that is where she will look for all the young girls that we can choose among them in the wall to choose his end so we present all the veiled girls as I say we will go nothing except the toes then it will be up to the man become choose his wife globes if a man is mistaken the brooch which rhdp still to go and look for his end if they will be they pay that he has in return we go back again we go back again in quarrel a little how the who was classified then we lie to them again until we have found his girlfriend at the ceremony one will continue so we go back in fact the same thing until the report of his wife that he does again so that we will still look for his wife does he repeats then we will engage the classification we will start again from zero he will have to choose again among all these women but once the man has chosen his wife beth has made a great joy the attraction takes her boyfriend in her arms then that's it which is takes a protocol in rap scene usa either right next to her boyfriend because normally there is a thing of there is a kind of two chairs like in the middle which means that the man will not be on the side of the woman the other side mom the beta man it's yours then the woman on the left what happens on my mother's side so yeah once once the woman would be seated near her husband that's where the woman's family will ask her for her name asked me is this soon to be husband is this really him the order that you chose the ram go ahead yes saying yes she will bring back a kind of a kind of traditional bribe that gave me to her husband and will make him drink to really show the family he is the man that I choose he is the man of my life he is the one I want that with him I want to build my life it is with him that I will live more wrong so here I will spare you a little of the details of what happens is that people eat people dance beef here it goes more or less that the ceremony the dowry then yeah so it's not bad it will be even friendly ceremony where the 2 family got together and families take like get to know each other it's really a greenhouse but very very friendly I want to clarify that it is not a business like most people records yes we sell our daughter to our in-laws no it is really a very very important tradition curiously in Africa for me I do not see myself married at the town hall before being married traditionally because it is a tradition and it must be respected as long as that is it will be the end of the video where I hope that the video goes more to us do not hesitate to mark a comment if I forgot a certain part or if I made a mistake it could happen starized that I had to participate remotely and in very small which means that I really do not remember the whole ceremony of all the stages of the ceremony but I made you a short summary of what happens on the dowry especially do not hesitate to subscribe to activate the notification bell so as not to miss but video as soon as I think of one to subscribe if it is not yet done to share to like also then we said to each other until next time for a new video [Music]\",\n",
       "  'chunk_char_count': 7093,\n",
       "  'chunk_word_count': 1436,\n",
       "  'chunk_token_count': 1773.25},\n",
       " {'video_id': '-U6idZObZ30',\n",
       "  'title': 'CUSTOMARY MARRIAGE IN NIGERIA',\n",
       "  'sentence_chunk': \"Mar so when that amount of money is being paid though nowadays some families will actually return the hi everyone welcome to my YouTube channel I'm super excited to have you watching this video my name is Mary and I'm a practicing lawyer in Nigeria on this YouTube channel I share videos to educate the general public so in today's video I'll be talking about customary dissolution of marriage I have made a lot of videos on um statutary marriage how to contract a statutary marriage and how to diserve it a s marriage for the sake of people watching my video seeing my video for the first time sary marriage simply means or who don't know what stut marriage means it simply means um what people call cult marriage that is stat statutory marriage so I have a lot of videos on my YouTube on how to contract it and on how to deserve it okay so today I want to talk about customary marriage how to deserve it not NE to contract and contract it I don't want to use the word contract because contract is actually peculiar to statut marriage okay how to um can I say conduct not conduct how to actually have a customary marriage that is not what I'll be talking about because custom differs and I'm actually not a traditionalist okay I'm just a EUR lady that I only know what is peculiar to my own tribe okay so I'm not talking about um how to have a customary marriage but on how to dissolve it okay let me make um can I use the word caveat that me making videos on the solution of marriage does not mean mean that I'm advocating for sin okay I am of the opinion that um differences can be reconciled as a matter of fact many people that reach out to me via my email address from my YouTube many people many people in diaspora don't reach out to me on saying they want to dissolve the marriage often time not even often time all the time I tell them try to mediate particularly if they the petitioner that is if they are the one that want to um dissolve the marriage I often tell them to try to meet mediate I often tell them to try to mediate so what I'm trying to say in essence is that I am not an advocate for divorce the fact that I make a lot of videos on it does not mean that is what I'm speaking for as a matter of fact I can speak against this the only situation is just that when some people are hard on going or embarking on a divorce proceeding I wouldn't have a choice than to um accept de brief okay so basically when talk about customary marriage the basic difference between a statutary marriage and a customary marriage is um how the marriage is being done for statut marriage that marriage will be conducted according to the Marriage Act we have we actually have a book or laws that regulates marriage in Nigeria so when your marriage is being done according to that the uh the the procedure in that act that's is the statut marriage that is when people go to the registry to actually conduct their marriage that is a statutory marriage and only a high court of any state can disolve such marriage or like customary marriage you don't it is not compulsory for you to go to the um to the registry as a matter of fact we Christians we um yeah Christians we have the opinion that the basic marriage that is more recognized by God according to the scripture is a traditional marriage okay so the registry is just maybe you to have the marriage registered and stuff like that okay so what talk about the customary marriage is a marriage that has been done according to your custom I am a eural lady for me to have my um marriage according to the custom means bright price must be paid so that is a basic thing according to my tribe I don't know if some other tribe other tribe they actually different from this but I know bright price is actually the the fundamental the main component of what we call a customary marriage so once that amount of money is being paid though nowadays some families will actually return the money not reject they return the money because they of the opinion that they not selling their daughter and things like that which is very very okay so but that is how that is when we can say a customary marriage has been done other things other items like fruits food stuffs they sometimes they they bring such to the bright um family so that is when we can say custom has been done so on how to deserve it the only thing that was um the the major thing is the bread price to be returned the family of the Bride needs to return to the Grooms family the bride price that was paid but in a situation whereby the bright price was given to them and they returned it like would you nowaday what should be the the the the um procedure which is actually the very tiny or tight Corner let me use that word because the customary Court of the opinion that when the briad price has been returned the marriage has been dissolved the only situation whereby people will find people going to the court to actually dissolve a customary marriage and that way they have to go to the customary Court customary court so the only reason why um such the only reason why you see some couple see proceeding to the customary cour to disolve their marriages if um they the one of them actually needs a divorce certificate to prove that truly the marriage has been dissolved or maybe there are issues that's relating to the custody of children of the marriage or division or disolution or distribution of properties let me use what distribution division let me use that word of properties because some you can say yeah before I marriage you don't have this property I got married to you we put money together you have this property you can't take it all alone and things like that so that is the instance those are the instances that some people may actually prefer to still proceed to the court for disolution of the marriage like I've mentioned the basic thing is the return of bright price so in a situation whereby no bright price was paid or bright price was paid or and the family returned the money what do you need to do that is just one thing I don't really have a a how can I put it a Define answer for you I can only suggest what you should do because if um according to the law this is how we actually operate when it comes to law in Nigeria there should be a definition that should be a process or a procedure that has been made by either the statute that is the the act all this constitution all those books we use or the court has actually made pronouncements on it so issues like no Bri price was paid The Pride pricee was returned what do you do I don't have a specific answer for you but I can say the best thing you can actually do is the best thing you can actually do when your bride pricee is been returned the groom family paid but it was returned on the basis that we are not selling our child what you should do I think if parties can actually sit and agree on a resolution of marriage like just agreeing to go separate way is good but if the one of the the party is being no no no no no this can happen the best bet the best thing I think you can do is actually to proceed to the customer record to have that vdict so in your application it definitely be there that okay they requested for a sum of $5,000 their bright price however would paid and that was returned so which means the the the the the effect of bride price actually nothing to really talk about because when the customary Court judges are making their judgments often time you will hear them say the sum of so so and so and so being the bride price should be returned so the court need to be aware that the pride price was paid but the family returned it the Bri family returned it so the court may not most likely will not make any pronouncement as relating to Bri price to be returned in fulfillment of disolution of marriage I don't know if you understand me so that is that also I need to mention that the court may not order the May sometimes sometimes may not order the gro family to return bright price in a situation whereby they marri is about 20 25 years and they are children of the marriage they just feel like something has been established in that home there is no there is no need\",\n",
       "  'chunk_char_count': 8191,\n",
       "  'chunk_word_count': 1571,\n",
       "  'chunk_token_count': 2047.75},\n",
       " {'video_id': '-U6idZObZ30',\n",
       "  'title': 'CUSTOMARY MARRIAGE IN NIGERIA',\n",
       "  'sentence_chunk': \"for the Grooms family to return bright price okay the Bri family rather that to return bright priz that is I sometimes hear judgments like that in court and the rationale will be that they are children of the marriage the marriage has been for a long time so there is no point in returning bright price I hope this video to educate you I also come up with more videos as relating to marriage divorce you know because I think that is actually helping a lot of people on my YouTube channel and that's actually one of the reason I make videos like this so thank you so much for watching and I will see you in another video\",\n",
       "  'chunk_char_count': 619,\n",
       "  'chunk_word_count': 120,\n",
       "  'chunk_token_count': 154.75},\n",
       " {'video_id': 'Whi5M0FRKHA',\n",
       "  'title': 'NIGERIA - Stages of the Igbo marriage process',\n",
       "  'sentence_chunk': \"when an evil man and woman decide they want to get married to each other the first thing they do is inform their parents today your mom [Music] [Music] [Music] hey what was the time jerry [Music] before anything is done the family does what is traditional to most evil societies an investigation into the family history of their child's proposed spouse to be sure that there's no hereditary disease associated with the family once satisfied the groom's family proceeds to visit the bride's family there we know okay [Music] [Music] oh [Music] [Music] [Music] uh [Music] foreign [Music] [Music] [Music] i love my [Music] [Music] [Music] um [Music] um [Music] [Music] um [Music] [Music] is [Music] [Music] um [Music] [Music] [Music] [Music] [Music] [Music] um [Music] no [Music] [Music] is um um um a list of the requirements for the dowry payments is given to those from the groom's family who came for the ikuaka this is usually a comprehensive list of things that are to be brought along with them on their next visit when the marriage ceremony will be completed m um [Music] [Music] [Music] [Music] i'm here with rogie very [Music] um thank you thank you [Music] [Music] oh if we feel each are you enjoying with the line yeah yeah i tried for the list [Music] [Music] is um [Music] all right [Music] [Music] um [Music] [Music] um okay [Music] [Music] is [Music] [Music] [Music] [Music] [Music] [Music] [Music] [Music] um [Music] ah um [Laughter] okay um um okay [Music] hello no um whatever me [Music] [Music] in jesus name um [Music] when the ceremonies are over the bride is then escorted to her husband's house by some married woman from the bride's family the groom's mother receives the bride by washing her feet this is a gesture of acceptance and it is taken very seriously by the bride's family you\",\n",
       "  'chunk_char_count': 1808,\n",
       "  'chunk_word_count': 316,\n",
       "  'chunk_token_count': 452.0},\n",
       " {'video_id': 'sWQkOHRmfew',\n",
       "  'title': 'BAMENDA (BAFUT) TRADITIONAL WEDDING 2022|| Cameroon Traditional Marriage',\n",
       "  'sentence_chunk': \"hi everyone welcome to my channel handset237 my name is Rosie and in today's video we are going to be seeing a typical representation of the barfoot traditional marriage in the northwest region of Cameroon [Music] [Music] come on come on come on [Music] myself guys we are safe for part two okay traditional marriage coming up but food girls are beautiful again but girls are beautiful okay and our emcee you see it [Music] [Music] [Applause] [Music] [Music] foreign [Music] [Music] that would begin he can respect that he will make me I follow me come for your comfort able I can't forget when you don't see a planting before one called that planting what do you want to do for that fancy [Music] [Music] thank you [Music] um I welcome you because I know see they didn't have a job but I'm gonna tell you again see wait what happens [Music] so I won't tell you now see yeah I didn't have a job I know that was because [Music] do not run through you still come see where that man is sweet ie all that families on YouTube I will tell you see as no run you're not talking to your mind I will Dare You See for my body in the street for all the family [Applause] you know the family yes sir for you not the people they really care for taking me for compound you agreement thank you yes I do all my heart this window that opened this one as long as you talk if anything really happen your vets foreign [Music] [Music] [Music] what happened [Music] it is um move here all right guys after uncooking the bottle of palm wine that was brought by the groom's family the next stage is for the bride to take a cup of palm wine to her husband to be to show her family and friends that this is the man that has come to seek her hand in marriage so this is what we are going to see she's just moving around searching for her husband until she gets to the position where her husband is sitting enjoy the rest of the video [Music] thank you [Music] [Music] you know [Music] everybody [Music] [Applause] [Music] [Applause] [Music] foreign [Music] [Music] yeah yeah [Music] [Music] okay [Music] foreign [Music] foreign [Music] [Music] [Applause] my God [Applause] foreign [Applause] [Applause] [Music] [Applause] come on that's the last one you put in this place what does this symbolize it to everyone [Music] to smell Jesus the end of the spelling of Jesus Christ [Music] thank you [Music] and Siri is going to show us how he's going he's capable foreign [Applause] on both balls and pick a bit of salt [Music] come on away of my life [Music] [Applause] [Music] I've come to the end of this beautiful Buffet traditional marriage if you did enjoy this video go ahead and like it leave me a comment down below and if this is your first time here thank you please do not forget to subscribe and share this video until next time it is bye bye for\",\n",
       "  'chunk_char_count': 2825,\n",
       "  'chunk_word_count': 529,\n",
       "  'chunk_token_count': 706.25},\n",
       " {'video_id': 'E-F1HqGArjA',\n",
       "  'title': 'CAMEROONIAN TRADITIONAL ATTIRES|| CAMEROONIAN TRADITIONAL WEDDINGS',\n",
       "  'sentence_chunk': \"Cameroon is a country that is strategically placed many people get confused whether Cameroon is in West or Central Africa because of its position Cameroon identifies more as central Africa the official languages in Cameroon are French and English Cameroon has over 240 tribes and each tribe has its own traditional language so you can imagine the vast culture in the country over the years cameronian cultural attire has been recognized by many and that is the togle or aogo in particular many people seem to feel that this is cameroon's main traditional wear but you'll be surprised at how many traditional outfits cameroonians have in this video I will be showing you the different cameronian traditional attires if you would like to see all these just keep watching Cameroon is divided into 10 regions and each region is unique out of these 10 regions eight of these regions are French speaking and two of these regions are English speaking for this video purpose I've decided to divide the regions into four because though each region is unique some regions are really similar so the first set of regions I'm going to talk about is the Eastern region the southern region and the central region this is yund btoa and iua their traditional outfit is the abom please understand that I am not from this some of this area so I might not be pronouncing it the way it's supposed to be pronounced so their traditional outfit is called the obom and it's made out of Rafia tree BS and leaves this is very creative the first time I saw it I was completely surprised cuz you could never even imagine that outfits could be made out of that another thing I noticed about this is that it is pretty common in other Central African countries the second set of regions I'm going to talk about is the sour people when you say sour people it's mostly people who live around water so people in the litoral and some people in the southwest region are called the sour these sour people have so much in common from their traditional outfits to the way they speak it is not easy to tell the difference the Dua and bakeri people we kabang gundo and sanas so for the literal people they Caba the mostly call their kabang gundu and for those from the southwest they just call it Caba simply that is what the women wear and for the men they wear a white shirt and Sanja here you could find some little differences like the people from the southwest region their caps are mostly red while the people from the litoral region their caps are mostly black still in the southwest region we have people like the buffos the bayangi the bosis who also wear the Sanja and the white shirt majority of these Villages wear the cabba as their traditional outfit as well but the bayangi people are kind of different this is because they share a boundary with Nigeria another traditional way for the bayangi people comes to the women so the bayangi women mostly wear a lace top or the tie two wrapper when I say two wrapper it just simply means an anara fabric that has been cut into two and they tie twice on their waist so the next set of regions we're going to talk about is the grass fields which we commonly call graphy in Cameron when they say you are a graphy person it simply means you're from the grass field and there are two regions located in the grass field that is the northwest region andwest region the first one we're going to talk about is the traditional outfit of people from the western region I love love this particular fabric it's so beautiful and it's the second most popular cameronian traditional attire so it's a mix of blue and white so beautiful and it has been made with different fabric if you come and you see anybody wearing this most certainly they are from the western region cuz this is their traditional attire and the next one I'm going to talk about is for those from the northwest region over the years like I said this particular attire has been recognized by many a lot of people feel like it's cameroon's traditional outfit like cameroon's main traditional outfit mostly because it has the colors of the cameronian flag on it but no this is just a traditional outfit from one particular region of the country so this particular outfit used to be used back in the day by Royals and people who had Shifty titles and all that but over the years when we started embracing our culture more people start flating their traditional outfits more and that is how this beautiful outfit gain recognition all over the world as many people love it because of its vibrant colors the last region I'm going to talk about is the north far north and gerey this region is occupied by mostly the fani and housers and majority of them are Muslims their traditional outfits are quite simple they dress a lot in anara outfits one of their most popular outfits is the auada which Nigerians call agada for us in Cameroon it's called the auada the men wear the auada and the women wear the boo boos the boo boo is just a long flare gown which reaches your ankle and it's easy to walk around in so Guys these are the traditional outfits of cameronians is there anything that you saw in this video that is new and again like I said I don't know how to pronounce some of the names very well so please forgive so guys that is it for a cameronian traditional attires like I always tell you guys I don't know everything this is what I got from the research I did if there's more information you know please come and put it under this video it's going to definitely help anybody who is looking for this information another thing another reason why I did this video is because I see a lot of people who come to me saying that they are about to get married to cameronians and they don't know what traditional outfit to get cuz they seem to always like the togle or a tole but it's good to know what traditional outfit so that you know what particular kind of outfit you're going to wear in case I didn't see it in this video I'm from the northwest region so my traditional outfit is the tole anyway guys thank you very much for watching this video if you like to know more about Cameron if you want me to make more videos about Cameroon let me know what you would like to know about and I'll definitely do a video on that that said guys thank you very much for watching this video please not forget to subscribe and I am going to see you on my next one love you guys [Music] [Music] [Music] bye [Music] oh [Music]\",\n",
       "  'chunk_char_count': 6480,\n",
       "  'chunk_word_count': 1198,\n",
       "  'chunk_token_count': 1620.0},\n",
       " {'video_id': 'j8NTHOLuCDM',\n",
       "  'title': 'The Law On Customary In South Africa',\n",
       "  'sentence_chunk': \"greetings everyone welcome to my youtube channel i'm advocate william marcelo the purpose of this channel is to teach south african law mainly on topics that affect the vulnerable in society like women children the disabled and the poor so the emphasis will be there and secondly to teach or to preach the word of god in today's video i will be addressing the law on customary marriages in south africa now let me start by saying customary marriages are fully recognized in south africa but before 2000 before the 15th of november 2000 that was not the case because except for the fact that the act that recognizes customary marriages is called the recognition of customary marriages act number 120 of 1998 this act only came into effect on the 15th of november 2000 but just to take a step back into our historical background regarding this issue prior to this prior to the promulgation of this act customary marriages were not recognized in south africa even though people continued to exist or people continue to conduct their relationship based on their custom in this instance customary marriages civil marriages or marriages by christian faith were given recognition and more prominence to the customary marriages in other words what used to happen is if somebody is married or is in a customer relationship not married per se or even if married if this person was in this kind of a relationship or in this customary marriage which was not recognized and at a later stage decide to enter into a civil marriage the civil marriage even if it was entered into after the customary marriage it would be given recognition so the worst part would be in a situation where mr x was made to a customarily and then later decide to marry b in terms of the law then his marriage to be which is a civil marriage would be the one that is recognized another scenario would be if the same mr x is married to a in an instance where he wants his union to be recognized even if he has done everything in terms of the culture that would render it a marriage he would still be required to go to court to go to church to solemnize his marriage so that this marriage must be fully recognized now based on this act this is no longer the case you don't have to go and solemnize your marriage at the court you don't have to go and go to church for your marriage to be solemnized you don't have to if you don't want to but your marriage will still be recognized now in order for this marriage in order for this customary marriage to be recognized there are three very important requirements and they must all be there number one both parties both prospective spouses both parties who intend to get married they must be 18 years or above they can be underage as it used to happen in some instances where we've heard from our elders that for those of us who don't know that a child would be identified while still young and so on and so off or maybe a child of 17 will be handed over to an elderly person this is no longer the case both must be 18 years or above number two which is the second requirement they must both consent they must both agree nobody should be forced if it's first if it's arranged and forced it does not meet this requirement number three the marriage this marriage must be negotiated tucked into or celebrated according to your customary law now in south africa we have different ethnic groups we have the guinea group consisting of closer zulus develop vendors we have another suit group is south soto and so on and so forth and in our own ethnic groups there is a common element in the way in which we negotiate our customary marriage the common element is lobolo but under this number three requirement lobola is just one of them there are other issues involved when you enter into customary marriage that is why the number three requirement is it must be negotiated it must be entered into it must be celebrated in accountants with customer law so there will be differences here and there based on the ethnic groups that entered or that enters into this customary marriage but the most important thing is that the negotiation the celebration must be entered into in terms of customary law so once these three requirements are present then we can talk of customary marriage being in existence there are instances where some people after being married for so long to each other when a situation arise they will begin to say no i was not married as far as i'm concerned it was just a you know what we call in south africa effort and set arrangement i never entered into any marriage with you but when you look and analyze you'll be able to pick up that no actually there is enough evidence to support that indeed there was customary marriage when you look at it the number one requirement is very easy to prove it's the one of age were they both 18 or above number two you can deny consent there's a way in which we can prove but for the mere fact that you stayed with this person that can be an indication that you did consent to this kind of marriage thirdly when you begin to analyze the entire situation you'll be able to observe that but yes indeed this marriage or this relationship that is now being contested as not being a customary marriage is indeed customary marriage because it was negotiated it was entered into it was celebrated in accordance with customary law we have seen cases before even in the media without mentioning specific cases to say you know what when it is time now especially when it comes to property division of property that's where the problem will start and i also need to mention that customary marriage except for these requirements that i have mentioned is automatically in community of property and i will unpack other issues as we continue with the series which may result in part two three or even four depending on the need but for now i will stop here thank you very much i'm intending to make it brief so that they can be an understanding because there's so much confusion that has been caused by different statements that have been said whether it's in social media or whether it's on in the media where there are so many interpretations and linked to what customary marriage is so from today if you know that if these three requirements are there it is a customary marriage or to put it the other way around i can say these are the requirements for customary marriage i want to thank you for listening to this video please like it will help me comment and subscribe please know that subscribing is a free you just click that button and also click the notification bell so that when we upload other videos you are alerted thank you very much\",\n",
       "  'chunk_char_count': 6689,\n",
       "  'chunk_word_count': 1224,\n",
       "  'chunk_token_count': 1672.25},\n",
       " {'video_id': 'K1etkN6CCDk',\n",
       "  'title': 'Customary Marriages In South Africa: Answers To Frequently Asked Questions',\n",
       "  'sentence_chunk': \"greetings everyone welcome to my youtube channel i am advocate mathilo the purpose of this channel is to teach south african law and please don't regret this teaching as legal opinion if you are confronted with a situation and you still need to use the services of a legal practitioner please feel free to do so on our last recording we spoke on the law on customary marriages in south africa and this is part two i intended i intend in fact today to address some of a few frequently asked questions on this topic the first one is customary marriage in or out of community of property i did mention in the past that it is automatically in community of property this is the case when you have a monogamous relationship in the sense that it's only two people who entered into this type of marriage that is it's only husband and wife or the exclusion of other parties but in another in instances where it is polygamous where there are more than one wife the situation will change there will be contracts that will be entered into with other wives that will not necessarily make it to be in community of property now this will take me to my second question is customary marriage monogamous or polygamous the way in which i have responded to the first question would already give you an indication that number one parties can decide to enter into a customary marriage as a monogamous union and parties can enter into customary marriage as a polygamous union in other words it can be just two people or it can just be one wife or in another customer marriage marriage you can have more than one wife so it has those features of being monogamous or polygamous but definitely not polyandry not at the stage i remember when we were busy with this the project that led to this act the recognition of customary marriages act there was a debate around that issue and one of the debate was okay if we say a customary marriage are we now deviating from the its original form and there were other debates the effect that by the way custom is not constant it evolves but what i know for sure is that the polyandry element did not make it to the act until today does customary law marriage has a certificate the answer is yes and how does this happen it will take me to my next question are customary marriages registered or should they be registered the answer is yes once you have entered into a customary marriage you are expected to register this marriage and the next question is when should these marriages be registered within three months of entering into these marriages you must ensure that you register this marriage the next question what if my marriage is in my customary marriage is not registered does the fact that this marriage is not registered makes it invalid the answer is no non-registration of customary marriage does not invalidate it so even if this marriage is not registered it will still be recognized by a court of law however my honest view i don't want to say my advice because i'm not giving legal advice let me just say you'll be better placed if you register it so that you can have a certificate from home affairs that confirms the existence of this marriage so that in future when everything becomes sour or when there is a need to prove something for whatever reason you will have ease easy documentary evidence however if that did not happen for one reason or another there are ways in which you can prove if there is a denial that indeed there is customary marriage i remember i handled a case where we had to prove the existence of this marriage in this instance you can go to your traditional leader and request an affidavit in some instances when lobono is paid there are traditional leaders i don't know if it's all who would issue some kind of a receipt for lack of a better word as proved that lobola from this family was paid from the truth family another way of proving it it's by affidavits requesting for affidavits from people who were part of the lobola negotiations now the other question that usually crops up is should lobola be fully paid for us to say there was customary marriage no there is no need for ebola to be fully fully paid even if it's paid partially because we know that there are some instances where the man or his family is not able to pay the entire ebola they will continue to stay together as husband and wife even if lobola was not completed there are instances where we've even heard that the father if it happens that his first born daughter gets married before he completes his own lobola to his wife he would now utilize his daughter's lobola to finish the payment of that lobola so even if the lobola is not paid in full it does not mean that this third requirement that we spoke about last time of lobola as one of i mean off of lobola is one of your essentials that would qualify for negotiation celebration so there's no need that is fully paid now the last question is it necessary to go to a court of law for divorce probably the first question should be when i want to terminate customary marriage what do i do the answer is you file for divorce now this is something that is not found in the cultural aspect of customary marriage it was done somehow before where there will be a return of lobola and so on and so forth i don't want to go to those nitty gritties but all what i need to mention is that in terms of the act if you the only way of terminating customary marriage is by way of divorce you have to approach a high court you have to go through the same process that people who are involved in a civil union go through when they divorce is exactly the same process the only thing is that in your summons it will be mentioned that you are married by way of custom in that and then they will explain why they say so and once the court has established they will even attach documentary proof if it's necessary but it is very very important it is one thing that is enshrined in the act that is there in the act whereby you have to go through divorce process the actual divorce process and for even the court to give you a divorce a court order to that effect so there's some documents that are being introduced to this customary marriage thing the certificate once you have registered whereby you are advised to register though if you are not registered it does not mean that your customer marriage will not be recognized if maybe you were married to this guy he passed on before you register nobody can say no leave this house you and after all you are not even married but you have been staying in the with the sky and when you look at part one where we discussed the requirements that will be enough proof that indeed you are married to this person so customary marriage probably let me ask another question though i said that one would be the last question what are the rights of women one of the main thing that i can tell you is that this act and the recognition of customer marriage protects the rights of the vulnerable protect the rights of women protects the rights of children and that is why it is even important that the divorce must be conducted in a court of law to protect you to protect the children to protect the woman to protect the vulnerable to protect everybody else not to say that men will not be protected but we know that in this union they are power relations so to protect everybody else including the vulnerable they will be protected once there's a court of order the court of law to see to it if there's a need for maintenance order to be issued it will be issued even if there's a need for division of the estate proper division of estate not for a woman to be told no you're going back to your father's house after she's been part of this this relationship for so many years so is to cater for things like that so this is as far as i will go today regarding this topic i will check if it will be necessary for me to take it to pass three to address other outstanding issues but for now i will stop here once again thank you very much for listening to my video please comment please share the video especially for those of you if you are a leader share with your with people that you\",\n",
       "  'chunk_char_count': 8190,\n",
       "  'chunk_word_count': 1535,\n",
       "  'chunk_token_count': 2047.5},\n",
       " {'video_id': 'K1etkN6CCDk',\n",
       "  'title': 'Customary Marriages In South Africa: Answers To Frequently Asked Questions',\n",
       "  'sentence_chunk': 'lead comment share subscribe and finally press the notification button so that when we upload our next video you are notified thank you very much god bless you',\n",
       "  'chunk_char_count': 159,\n",
       "  'chunk_word_count': 28,\n",
       "  'chunk_token_count': 39.75},\n",
       " {'video_id': 'xAuUIzBrMWQ',\n",
       "  'title': 'How To End a Customary Marriage',\n",
       "  'sentence_chunk': \"greetings everyone once again welcome to my youtube channel today we are going to be talking about dissolution of customary marriage or to put it the other way divorce under customary marriage the question here is the main question how does it end does customary marriage and like all other marriage or what is the situation or when you are fed up when you are angry when you are disappointed do you just take your stuff and go in the olden days or according to cultural there are ways in which it was done but in terms of recognition of customary marriages act number 120 of 1992 you don't just pack your bags and go the act says you must approach a court of law it can be a high court family law court but in order for you to say i was married under customary law i met the requirements that is why i can say i was married we did discuss the requirements under customary law in a video that preceded this one in that we illustrated when can you say you are married under customary law so once you were part of that legal customary marriage or once we are part of that marriage that is recognized under the recognition of customary marriages act 120 of 1998 and you want to terminate you want to add to end you want to dissolve that marriage the act says you must approach a cut of law therefore what it means is that if you are married under customary marriage or yes under customary marriage the only safe time you can say your marriage has come to an end is because there is a court order or there is a decree of divorce so it is very very important that you ensure that you approach the court of of law like in all other marriage like your civil unions where if you are married by way of civil union you have to approach the court even in this instance even if it's customary marriage you have to approach the court and if you don't approach the court there will be negative consequences for example even if you can just pack your bags and go you are still married even after 10 years if it can be discovered that you once packed your bags and and left you will still be regarded as being married because there is no decree of divorce there is no court order the other consequence is that you can't marry again and if you do decide to marry again despite the fact that there is no cut order that dissolved or determinated your marriage this will be illegal and your marriage can be your new marriage can be announced and it can be declared null and void at a later stage now a popular question that is usually asked another implication of divorce under customary marriage is do you have to return lobola now we have been talking about this marriage being in terms of recognition of customary marriages act the act is silent the act does not say anything about retaining of lobola however traditionally the lobola was returned or or could be returned or maybe returned the affecters that are considered now whatever i'm discussing now it's not what the act says it's what is done traditionally traditionally when they decide whether this lobola should be retained or not they look at the number of children they look at the amount paid for lobola they look at who was at fault and so on and so forth now in a case where the husband is at fault he fulfills his lobola in a case where the wife was at fault the lobola must be retained and whether they retain all the amount paid or whether they return half or whatever it's it will be decided on case by case now remember that here we are talking traditionally what is it that happens or that will happen traditionally when this marriage comes to an end and clearly this is a situation where customary law expects or even the chief rather let me say traditional leaders will be involved in this decision because they expect and we can also even safely said they are custodians of customary law so in a nutshell if you are part or if you are married in terms of the recognition of customary marriages act of 1998 make it a point that if you want to dissolve or to end that marriage approach a court of law so that you must have a decree of divorce so that the court can issue an order to that effect because at a later stage you may encounter problems and it doesn't matter for how long you have been divorced interpretation even if you left that marriage in 2000 now we are in 2022 and you say ah it's been too long it's been 22 years that does not count ensure that you do the correct thing in terms of the law thank you very much\",\n",
       "  'chunk_char_count': 4483,\n",
       "  'chunk_word_count': 852,\n",
       "  'chunk_token_count': 1120.75},\n",
       " {'video_id': 'R9vIpym57jc',\n",
       "  'title': 'Customary Marriages in Uganda',\n",
       "  'sentence_chunk': 'for 13 years between 1996 and 2009 nagolu melee Eva and Dr Sarah Solomon were in a romantic relationship and lived together as husband and wife in fact in 2002 Millie introduced Solomon to her parents in an introduction ceremony at bukola Village luminosad County in Busia District the couple developed misunderstandings merely filed for divorce at injeru Chief magistrate Scott the magistrate however dismissed the case arguing that the purported marriage between melee and Solomon was illegal as had not been rejected as required by the law this left melee as a mere mistress without any entitlement to the property acquired by the couple be satisfied with a majestic decision Millie rushed to the high court in ginger where the judge held that Omission to register a customary marriage does not necessarily invalidated [Music] what is your opinion on the non-registration of customary marriages foreign [Music]',\n",
       "  'chunk_char_count': 913,\n",
       "  'chunk_word_count': 147,\n",
       "  'chunk_token_count': 228.25}]"
      ]
     },
     "execution_count": 60,
     "metadata": {},
     "output_type": "execute_result"
    }
   ],
   "source": [
    "videos_shunk_list"
   ]
  },
  {
   "cell_type": "code",
   "execution_count": 61,
   "id": "ecd7f7d8",
   "metadata": {},
   "outputs": [],
   "source": [
    "videos_vectors = create_embeddings(embedding_model, videos_shunk_list)"
   ]
  },
  {
   "cell_type": "code",
   "execution_count": 62,
   "id": "b1b26027",
   "metadata": {},
   "outputs": [],
   "source": [
    "insert_to_qdriant(videos_vectors, videos_shunk_list)"
   ]
  },
  {
   "cell_type": "markdown",
   "id": "60d11a32",
   "metadata": {},
   "source": [
    "### Using streamlit for Interface connection"
   ]
  },
  {
   "cell_type": "code",
   "execution_count": 3,
   "id": "6e6a921f",
   "metadata": {},
   "outputs": [
    {
     "name": "stderr",
     "output_type": "stream",
     "text": [
      "2024-08-19 14:43:26.719 \n",
      "  \u001b[33m\u001b[1mWarning:\u001b[0m to view this Streamlit app on a browser, run it with the following\n",
      "  command:\n",
      "\n",
      "    streamlit run /Users/omer/anaconda3/lib/python3.11/site-packages/ipykernel_launcher.py [ARGUMENTS]\n",
      "2024-08-19 14:43:26.719 Session state does not function when running a script without `streamlit run`\n"
     ]
    },
    {
     "ename": "NameError",
     "evalue": "name 'llm' is not defined",
     "output_type": "error",
     "traceback": [
      "\u001b[0;31m---------------------------------------------------------------------------\u001b[0m",
      "\u001b[0;31mNameError\u001b[0m                                 Traceback (most recent call last)",
      "Cell \u001b[0;32mIn[3], line 49\u001b[0m\n\u001b[1;32m     46\u001b[0m         st\u001b[38;5;241m.\u001b[39msession_state\u001b[38;5;241m.\u001b[39mtoken_count \u001b[38;5;241m+\u001b[39m\u001b[38;5;241m=\u001b[39m cb\u001b[38;5;241m.\u001b[39mtotal_tokens\n\u001b[1;32m     48\u001b[0m load_css()\n\u001b[0;32m---> 49\u001b[0m initialize_session_state()\n\u001b[1;32m     51\u001b[0m st\u001b[38;5;241m.\u001b[39mtitle(\u001b[38;5;124m\"\u001b[39m\u001b[38;5;124mHello Custom CSS Chatbot 🤖\u001b[39m\u001b[38;5;124m\"\u001b[39m)\n\u001b[1;32m     53\u001b[0m chat_placeholder \u001b[38;5;241m=\u001b[39m st\u001b[38;5;241m.\u001b[39mcontainer()\n",
      "Cell \u001b[0;32mIn[3], line 30\u001b[0m, in \u001b[0;36minitialize_session_state\u001b[0;34m()\u001b[0m\n\u001b[1;32m     26\u001b[0m     st\u001b[38;5;241m.\u001b[39msession_state\u001b[38;5;241m.\u001b[39mtoken_count \u001b[38;5;241m=\u001b[39m \u001b[38;5;241m0\u001b[39m\n\u001b[1;32m     27\u001b[0m \u001b[38;5;28;01mif\u001b[39;00m \u001b[38;5;124m\"\u001b[39m\u001b[38;5;124mconversation\u001b[39m\u001b[38;5;124m\"\u001b[39m \u001b[38;5;129;01mnot\u001b[39;00m \u001b[38;5;129;01min\u001b[39;00m st\u001b[38;5;241m.\u001b[39msession_state:\n\u001b[1;32m     29\u001b[0m     st\u001b[38;5;241m.\u001b[39msession_state\u001b[38;5;241m.\u001b[39mconversation \u001b[38;5;241m=\u001b[39m ConversationChain(\n\u001b[0;32m---> 30\u001b[0m         llm\u001b[38;5;241m=\u001b[39mllm,\n\u001b[1;32m     31\u001b[0m         memory\u001b[38;5;241m=\u001b[39mConversationSummaryMemory(llm\u001b[38;5;241m=\u001b[39mllm),\n\u001b[1;32m     32\u001b[0m     )\n",
      "\u001b[0;31mNameError\u001b[0m: name 'llm' is not defined"
     ]
    }
   ],
   "source": [
    "import streamlit as st\n",
    "import streamlit.components.v1 as components\n",
    "\n",
    "from typing import Literal\n",
    "\n",
    "from langchain.chains import ConversationChain\n",
    "from langchain.chains.conversation.memory import ConversationSummaryMemory\n",
    "from langchain.callbacks import get_openai_callback\n",
    "\n",
    "\n",
    "\n",
    "class Message:\n",
    "    \"\"\"Class for keeping track of a chat message.\"\"\"\n",
    "    origin: Literal[\"user\", \"assistant\"]\n",
    "    message: str\n",
    "    \n",
    "def load_css():\n",
    "    with open(\"static/styles.css\", \"r\") as f:\n",
    "        css = f\"<style>{f.read()}</style>\"\n",
    "        st.markdown(css, unsafe_allow_html=True)\n",
    "        \n",
    "def initialize_session_state():\n",
    "    if \"history\" not in st.session_state:\n",
    "        st.session_state.history = []\n",
    "    if \"token_count\" not in st.session_state:\n",
    "        st.session_state.token_count = 0\n",
    "    if \"conversation\" not in st.session_state:\n",
    "\n",
    "        st.session_state.conversation = ConversationChain(\n",
    "            llm=llm,\n",
    "            memory=ConversationSummaryMemory(llm=llm),\n",
    "        )\n",
    "        \n",
    "def on_click_callback():\n",
    "    with get_openai_callback() as cb:\n",
    "        human_prompt = st.session_state.human_prompt\n",
    "        llm_response = st.session_state.conversation.run(\n",
    "            human_prompt\n",
    "        )\n",
    "        st.session_state.history.append(\n",
    "            Message(\"human\", human_prompt)\n",
    "        )\n",
    "        st.session_state.history.append(\n",
    "            Message(\"ai\", llm_response)\n",
    "        )\n",
    "        st.session_state.token_count += cb.total_tokens\n",
    "\n",
    "load_css()\n",
    "initialize_session_state()\n",
    "\n",
    "st.title(\"Hello Custom CSS Chatbot 🤖\")\n",
    "\n",
    "chat_placeholder = st.container()\n",
    "prompt_placeholder = st.form(\"chat-form\")\n",
    "credit_card_placeholder = st.empty()\n",
    "\n",
    "with chat_placeholder:\n",
    "    for chat in st.session_state.history:\n",
    "        div = f\"\"\"\n",
    "<div class=\"chat-row \n",
    "    {'' if chat.origin == 'ai' else 'row-reverse'}\">\n",
    "    <img class=\"chat-icon\" src=\"app/static/{\n",
    "        'ai_icon.png' if chat.origin == 'ai' \n",
    "                      else 'user_icon.png'}\"\n",
    "         width=32 height=32>\n",
    "    <div class=\"chat-bubble\n",
    "    {'ai-bubble' if chat.origin == 'ai' else 'human-bubble'}\">\n",
    "        &#8203;{chat.message}\n",
    "    </div>\n",
    "</div>\n",
    "        \"\"\"\n",
    "        st.markdown(div, unsafe_allow_html=True)\n",
    "    \n",
    "    for _ in range(3):\n",
    "        st.markdown(\"\")\n",
    "\n",
    "with prompt_placeholder:\n",
    "    st.markdown(\"**Chat**\")\n",
    "    cols = st.columns((6, 1))\n",
    "    cols[0].text_input(\n",
    "        \"Chat\",\n",
    "        value=\"Hello bot\",\n",
    "        label_visibility=\"collapsed\",\n",
    "        key=\"human_prompt\",\n",
    "    )\n",
    "    cols[1].form_submit_button(\n",
    "        \"Submit\", \n",
    "        type=\"primary\", \n",
    "        on_click=on_click_callback, \n",
    "    )\n",
    "\n",
    "credit_card_placeholder.caption(f\"\"\"\n",
    "Used {st.session_state.token_count} tokens \\n\n",
    "Debug Langchain conversation: \n",
    "{st.session_state.conversation.memory.buffer}\n",
    "\"\"\")\n",
    "\n",
    "components.html(\"\"\"\n",
    "<script>\n",
    "const streamlitDoc = window.parent.document;\n",
    "\n",
    "const buttons = Array.from(\n",
    "    streamlitDoc.querySelectorAll('.stButton > button')\n",
    ");\n",
    "const submitButton = buttons.find(\n",
    "    el => el.innerText === 'Submit'\n",
    ");\n",
    "\n",
    "streamlitDoc.addEventListener('keydown', function(e) {\n",
    "    switch (e.key) {\n",
    "        case 'Enter':\n",
    "            submitButton.click();\n",
    "            break;\n",
    "    }\n",
    "});\n",
    "</script>\n",
    "\"\"\", \n",
    "    height=0,\n",
    "    width=0,\n",
    ")"
   ]
  },
  {
   "cell_type": "markdown",
   "id": "85339765",
   "metadata": {},
   "source": [
    "### Shunk manager class.\n",
    "\n",
    "\n",
    "- Parent-Child Chunking\n",
    "In this approach, the text is first split into larger parent chunks, and then each parent chunk is further split into smaller child chunks. Metadata is maintained to preserve the hierarchical relationship."
   ]
  },
  {
   "cell_type": "code",
   "execution_count": null,
   "id": "5d6fea03",
   "metadata": {},
   "outputs": [],
   "source": [
    "class ChunkHandler:\n",
    "\n",
    "    @staticmethod\n",
    "    def recursive_structure_aware_chunking(text, max_chunk_size):\n",
    "        \"\"\"\n",
    "        Splits text based on recursive structure-aware chunking.\n",
    "        \"\"\"\n",
    "        sentences = sent_tokenize(text)\n",
    "        chunks = []\n",
    "        current_chunk = \"\"\n",
    "        \n",
    "        for sentence in sentences:\n",
    "            if len(current_chunk) + len(sentence) > max_chunk_size:\n",
    "                chunks.append(current_chunk.strip())\n",
    "                current_chunk = sentence\n",
    "            else:\n",
    "                current_chunk += \" \" + sentence\n",
    "        \n",
    "        # Add the last chunk\n",
    "        if current_chunk:\n",
    "            chunks.append(current_chunk.strip())\n",
    "        \n",
    "        return chunks\n",
    "\n",
    "    @staticmethod\n",
    "    def sentence_window_parsing(text, window_size=3):\n",
    "        \"\"\"\n",
    "        Splits text into chunks of sentences with overlapping context.\n",
    "        \"\"\"\n",
    "        sentences = sent_tokenize(text)\n",
    "        chunks = []\n",
    "        \n",
    "        for i in range(len(sentences) - window_size + 1):\n",
    "            chunk = \" \".join(sentences[i:i + window_size])\n",
    "            chunks.append(chunk)\n",
    "        \n",
    "        return chunks\n",
    "\n",
    "    @staticmethod\n",
    "    def parent_child_chunking(text, max_parent_size, max_child_size):\n",
    "        \"\"\"\n",
    "        Splits text into parent and child chunks.\n",
    "        \"\"\"\n",
    "        # First split into parent chunks\n",
    "        parent_chunks = ChunkHandler.recursive_structure_aware_chunking(text, max_parent_size)\n",
    "        child_chunks = []\n",
    "        \n",
    "        for parent_chunk in parent_chunks:\n",
    "            # Further split each parent chunk into child chunks\n",
    "            children = ChunkHandler.recursive_structure_aware_chunking(parent_chunk, max_child_size)\n",
    "            child_chunks.extend(children)\n",
    "        \n",
    "        return child_chunks\n",
    "\n",
    "    @staticmethod\n",
    "    def check_chunk_quality(structured_chunks, min_word_count=30, max_token_count=384):\n",
    "        \"\"\"\n",
    "        Filters out chunks that do not meet the quality criteria.\n",
    "        \"\"\"\n",
    "        filtered_chunks = []\n",
    "\n",
    "        for chunk in structured_chunks:\n",
    "            # Check if the chunk meets the quality criteria\n",
    "            if (chunk['chunk_word_count'] >= min_word_count) and (chunk['chunk_token_count'] <= max_token_count):\n",
    "                filtered_chunks.append(chunk)\n",
    "\n",
    "        return filtered_chunks\n",
    "\n",
    "# # Example usage\n",
    "# text = \"Your long text document here...\"\n",
    "# max_chunk_size = 4999\n",
    "\n",
    "# # Using the advanced chunking methods directly from the class without instantiation\n",
    "# structured_chunks = ChunkHandler.recursive_structure_aware_chunking(text, max_chunk_size)\n",
    "# windowed_chunks = ChunkHandler.sentence_window_parsing(text, window_size=3)\n",
    "# final_chunks = ChunkHandler.parent_child_chunking(text, max_parent_size=8000, max_child_size=4999)\n",
    "\n",
    "# # Apply quality check function to filter chunks\n",
    "# filtered_chunks = ChunkHandler.check_chunk_quality(final_chunks)"
   ]
  }
 ],
 "metadata": {
  "kernelspec": {
   "display_name": "Python 3 (ipykernel)",
   "language": "python",
   "name": "python3"
  },
  "language_info": {
   "codemirror_mode": {
    "name": "ipython",
    "version": 3
   },
   "file_extension": ".py",
   "mimetype": "text/x-python",
   "name": "python",
   "nbconvert_exporter": "python",
   "pygments_lexer": "ipython3",
   "version": "3.11.5"
  }
 },
 "nbformat": 4,
 "nbformat_minor": 5
}
