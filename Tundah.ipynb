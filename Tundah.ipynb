{
 "cells": [
  {
   "cell_type": "markdown",
   "id": "24ed6337",
   "metadata": {},
   "source": [
    "### Import PDF Documents "
   ]
  },
  {
   "cell_type": "code",
   "execution_count": 4,
   "id": "f069ad48",
   "metadata": {},
   "outputs": [],
   "source": [
    "import os\n",
    "import requests\n",
    "\n",
    "import pypdfium2 # Needs to be at the top to avoid warnings\n",
    "import argparse\n",
    "import os\n",
    "import json\n",
    "import textwrap\n",
    "import torch\n",
    "\n",
    "import numpy as np \n",
    "import pandas as pd\n",
    "from tqdm.auto import tqdm \n",
    "from nltk import sent_tokenize\n",
    "\n",
    "from marker.convert import convert_single_pdf\n",
    "from marker.logger import configure_logging\n",
    "from marker.models import load_all_models\n",
    "from marker.output import save_markdown\n",
    "\n",
    "from sentence_transformers import util, SentenceTransformer\n",
    "\n",
    "# For instance of Qdriant data base.\n",
    "from qdrant_client.models import PointStruct\n",
    "from qdrant_client.models import Distance, VectorParams\n",
    "\n",
    "# from langchain_community.vectorstores import Qdrant\n",
    "from qdrant_client import QdrantClient\n",
    "\n",
    "\n",
    "from langchain_community.chat_models import ChatOllama\n",
    "\n"
   ]
  },
  {
   "cell_type": "code",
   "execution_count": 5,
   "id": "20723fc2",
   "metadata": {},
   "outputs": [],
   "source": [
    "# Define device\n",
    "if torch.backends.mps.is_available():\n",
    "    device = \"mps\"\n",
    "elif torch.cuda.is_available():\n",
    "    device = \"cuda\"\n",
    "else:\n",
    "    device = \"cpu\"\n",
    "    \n",
    "    \n",
    "# Differents populars languages used in Africa\n",
    "languages_targets = [\n",
    "    'en',  # English\n",
    "    'fr',  # French\n",
    "    'ar',  # Arabic\n",
    "    'es',  # Spanish\n",
    "    'zh',  # Chinese\n",
    "    'sw',  # Swahili (widely spoken in East Africa)\n",
    "    'ha',  # Hausa (widely spoken in West Africa)\n",
    "    'am',  # Amharic (spoken in Ethiopia)\n",
    "    'pt',  # Portuguese (spoken in Mozambique and Angola)\n",
    "    'yo',  # Yoruba (spoken in Nigeria)\n",
    "    'zu'   # Zulu (spoken in South Africa)\n",
    "]"
   ]
  },
  {
   "cell_type": "code",
   "execution_count": 6,
   "id": "82584efb",
   "metadata": {},
   "outputs": [],
   "source": [
    "# Download PDFs files\n",
    "\n",
    "# Paths\n",
    "docs_path = \"Pdf_path/\"\n",
    "output_path = \"Structured_files/\"\n",
    "\n",
    "files_path = []\n",
    "\n",
    "try:\n",
    "\n",
    "    \n",
    "    # Traverse the folder and collect all file paths\n",
    "    for file in os.listdir(docs_path):\n",
    "        file_path = os.path.join(docs_path, file)\n",
    "        if os.path.isfile(file_path):\n",
    "            files_path.append(file_path)\n",
    "            \n",
    "except Exception as e : \n",
    "    print(e)\n",
    "    \n"
   ]
  },
  {
   "cell_type": "code",
   "execution_count": 7,
   "id": "3221fbae",
   "metadata": {},
   "outputs": [
    {
     "name": "stdout",
     "output_type": "stream",
     "text": [
      "['Pdf_path/islamic_law_of_marriage_and_inheritance_in_kenya.pdf', 'Pdf_path/ndulo2011.pdf', 'Pdf_path/The_changing_philosophy_of_African_marri.pdf', 'Pdf_path/A+Reflection+on+the+African+Traditional+Values+of+Marriage+and+Sexuality.pdf', 'Pdf_path/fulltext.pdf', 'Pdf_path/taylor_and_francis_group_women_law_and_human_rights_in_southern_africa.pdf', 'Pdf_path/African Customary Law Customs and Womens Rights.pdf', 'Pdf_path/The_Future_of_African_Customary_Law_by_Fenrich_J_G.pdf', 'Pdf_path/harcoam,+1.+MJ+Mafela.pdf', 'Pdf_path/first-page-pdf.pdf']\n"
     ]
    }
   ],
   "source": [
    "print(files_path)"
   ]
  },
  {
   "cell_type": "code",
   "execution_count": 8,
   "id": "65b13e2c",
   "metadata": {},
   "outputs": [
    {
     "name": "stderr",
     "output_type": "stream",
     "text": [
      "/Users/omer/anaconda3/lib/python3.11/site-packages/huggingface_hub/file_download.py:1132: FutureWarning: `resume_download` is deprecated and will be removed in version 1.0.0. Downloads always resume when possible. If you want to force a new download, use `force_download=True`.\n",
      "  warnings.warn(\n"
     ]
    },
    {
     "name": "stdout",
     "output_type": "stream",
     "text": [
      "Loaded detection model vikp/surya_det3 on device mps with dtype torch.float16\n",
      "Loaded detection model vikp/surya_layout3 on device mps with dtype torch.float16\n",
      "Loaded reading order model vikp/surya_order on device mps with dtype torch.float16\n",
      "Loaded recognition model vikp/surya_rec on device mps with dtype torch.float16\n",
      "Loaded texify model to mps with torch.float16 dtype\n"
     ]
    }
   ],
   "source": [
    "\n",
    "\n",
    "model_lst = load_all_models()"
   ]
  },
  {
   "cell_type": "code",
   "execution_count": 6,
   "id": "0841f420",
   "metadata": {},
   "outputs": [
    {
     "data": {
      "text/plain": [
       "' \\nfname = files_path[0]\\nfull_text, images, out_meta = convert_single_pdf(fname, model_lst)\\n\\nfname = os.path.basename(fname)\\nsubfolder_path = save_markdown(\\'marker-output\\', fname, full_text, images, out_meta)\\n\\nprint(f\"Saved markdown to the {subfolder_path} folder\")\\n'"
      ]
     },
     "execution_count": 6,
     "metadata": {},
     "output_type": "execute_result"
    }
   ],
   "source": [
    "\"\"\" \n",
    "fname = files_path[0]\n",
    "full_text, images, out_meta = convert_single_pdf(fname, model_lst)\n",
    "\n",
    "fname = os.path.basename(fname)\n",
    "subfolder_path = save_markdown('marker-output', fname, full_text, images, out_meta)\n",
    "\n",
    "print(f\"Saved markdown to the {subfolder_path} folder\")\n",
    "\"\"\""
   ]
  },
  {
   "cell_type": "markdown",
   "id": "20d40528",
   "metadata": {},
   "source": [
    "### Chunking our sentences together"
   ]
  },
  {
   "cell_type": "code",
   "execution_count": 9,
   "id": "7d72c26c",
   "metadata": {},
   "outputs": [],
   "source": [
    "def check_chunk_quality(structured_chunks, min_word_count=30, max_token_count=384):\n",
    "    \"\"\"\n",
    "    Filters out chunks that do not meet the quality criteria.\n",
    "    \n",
    "    Parameters:\n",
    "    - structured_chunks: List of chunks to be checked.\n",
    "    - min_word_count: Minimum word count required for a chunk to be considered valid.\n",
    "    - max_token_count: Maximum token count allowed for a chunk to be considered valid.\n",
    "    \n",
    "    Returns:\n",
    "    - filtered_chunks: List of chunks that pass the quality checks.\n",
    "    \"\"\"\n",
    "    filtered_chunks = []\n",
    "\n",
    "    for chunk in structured_chunks:\n",
    "        # Check if the chunk meets the quality criteria\n",
    "        if (chunk['chunk_word_count'] >= min_word_count) and (chunk['chunk_token_count'] <= max_token_count):\n",
    "            filtered_chunks.append(chunk)\n",
    "\n",
    "    return filtered_chunks"
   ]
  },
  {
   "cell_type": "code",
   "execution_count": 10,
   "id": "2629d028",
   "metadata": {},
   "outputs": [],
   "source": [
    "def append_to_json(file_path, new_data):\n",
    "    \"\"\"\n",
    "    Appends new data to an existing JSON file. If the file doesn't exist, it creates one.\n",
    "    \n",
    "    Parameters:\n",
    "    - file_path: Path to the JSON file.\n",
    "    - new_data: List of dictionaries containing the new data to be appended.\n",
    "    \"\"\"\n",
    "    # Load existing data if the file exists\n",
    "    if os.path.exists(file_path):\n",
    "        with open(file_path, 'r') as infile:\n",
    "            existing_data = json.load(infile)\n",
    "    else:\n",
    "        existing_data = []\n",
    "\n",
    "    # Append the new data to the existing data\n",
    "    combined_data = existing_data + new_data\n",
    "\n",
    "    # Save the combined data back into the JSON file\n",
    "    with open(file_path, 'w') as outfile:\n",
    "        json.dump(combined_data, outfile, indent=4)"
   ]
  },
  {
   "cell_type": "code",
   "execution_count": 11,
   "id": "ffed58b7",
   "metadata": {},
   "outputs": [],
   "source": [
    "# Configure logging (optional)\n",
    "configure_logging()\n",
    "\n",
    "docs_path = \"Pdf_path/\"\n",
    "output_dir = \"Structured_files\"\n",
    "\n",
    "max_token_limit = 384\n",
    "token_char_ratio = 4  # Approximate characters per token\n",
    "max_chunk_size = max_token_limit * token_char_ratio\n",
    "\n",
    "# For Our json file of chunks\n",
    "base_json = \"tundah\""
   ]
  },
  {
   "cell_type": "code",
   "execution_count": 10,
   "id": "75a69f06",
   "metadata": {},
   "outputs": [
    {
     "name": "stdout",
     "output_type": "stream",
     "text": [
      "Processing file: Pdf_path/islamic_law_of_marriage_and_inheritance_in_kenya.pdf\n"
     ]
    },
    {
     "name": "stderr",
     "output_type": "stream",
     "text": [
      "Detecting bboxes: 100%|██████████| 7/7 [00:05<00:00,  1.28it/s]\n",
      "Detecting bboxes: 100%|██████████| 5/5 [00:04<00:00,  1.23it/s]\n",
      "Finding reading order: 100%|██████████| 5/5 [00:11<00:00,  2.29s/it]\n"
     ]
    },
    {
     "name": "stdout",
     "output_type": "stream",
     "text": [
      "Saved markdown and JSON to the Structured_files/islamic_law_of_marriage_and_inheritance_in_kenya folder\n",
      "Processing file: Pdf_path/ndulo2011.pdf\n"
     ]
    },
    {
     "name": "stderr",
     "output_type": "stream",
     "text": [
      "Detecting bboxes: 100%|██████████| 9/9 [00:06<00:00,  1.32it/s]\n",
      "Detecting bboxes: 100%|██████████| 6/6 [00:05<00:00,  1.03it/s]\n",
      "Finding reading order: 100%|██████████| 6/6 [00:15<00:00,  2.62s/it]\n"
     ]
    },
    {
     "name": "stdout",
     "output_type": "stream",
     "text": [
      "Saved markdown and JSON to the Structured_files/ndulo2011 folder\n",
      "Processing file: Pdf_path/The_changing_philosophy_of_African_marri.pdf\n"
     ]
    },
    {
     "name": "stderr",
     "output_type": "stream",
     "text": [
      "Detecting bboxes: 100%|██████████| 3/3 [00:02<00:00,  1.36it/s]\n",
      "Detecting bboxes: 100%|██████████| 2/2 [00:02<00:00,  1.13s/it]\n",
      "Finding reading order: 100%|██████████| 2/2 [00:09<00:00,  4.71s/it]\n"
     ]
    },
    {
     "name": "stdout",
     "output_type": "stream",
     "text": [
      "Saved markdown and JSON to the Structured_files/The_changing_philosophy_of_African_marri folder\n",
      "Processing file: Pdf_path/A+Reflection+on+the+African+Traditional+Values+of+Marriage+and+Sexuality.pdf\n"
     ]
    },
    {
     "name": "stderr",
     "output_type": "stream",
     "text": [
      "Detecting bboxes: 100%|██████████| 2/2 [00:01<00:00,  1.32it/s]\n",
      "Detecting bboxes: 100%|██████████| 2/2 [00:02<00:00,  1.07s/it]\n",
      "Finding reading order: 100%|██████████| 2/2 [00:05<00:00,  2.72s/it]"
     ]
    },
    {
     "name": "stdout",
     "output_type": "stream",
     "text": [
      "Saved markdown and JSON to the Structured_files/A+Reflection+on+the+African+Traditional+Values+of+Marriage+and+Sexuality folder\n",
      "Processing file: Pdf_path/fulltext.pdf\n"
     ]
    },
    {
     "name": "stderr",
     "output_type": "stream",
     "text": [
      "\n",
      "Detecting bboxes: 100%|██████████| 7/7 [00:04<00:00,  1.44it/s]\n",
      "Detecting bboxes: 100%|██████████| 5/5 [00:04<00:00,  1.04it/s]\n",
      "Finding reading order: 100%|██████████| 5/5 [00:11<00:00,  2.36s/it]\n"
     ]
    },
    {
     "name": "stdout",
     "output_type": "stream",
     "text": [
      "Saved markdown and JSON to the Structured_files/fulltext folder\n",
      "Processing file: Pdf_path/taylor_and_francis_group_women_law_and_human_rights_in_southern_africa.pdf\n"
     ]
    },
    {
     "name": "stderr",
     "output_type": "stream",
     "text": [
      "Detecting bboxes: 100%|██████████| 4/4 [00:03<00:00,  1.33it/s]\n",
      "Detecting bboxes: 100%|██████████| 3/3 [00:03<00:00,  1.01s/it]\n",
      "Finding reading order: 100%|██████████| 3/3 [00:10<00:00,  3.43s/it]\n"
     ]
    },
    {
     "name": "stdout",
     "output_type": "stream",
     "text": [
      "Saved markdown and JSON to the Structured_files/taylor_and_francis_group_women_law_and_human_rights_in_southern_africa folder\n",
      "Processing file: Pdf_path/African Customary Law Customs and Womens Rights.pdf\n"
     ]
    },
    {
     "name": "stderr",
     "output_type": "stream",
     "text": [
      "Detecting bboxes: 100%|██████████| 12/12 [00:08<00:00,  1.35it/s]\n",
      "Detecting bboxes: 100%|██████████| 8/8 [00:09<00:00,  1.18s/it]\n",
      "Finding reading order: 100%|██████████| 8/8 [00:48<00:00,  6.11s/it]\n"
     ]
    },
    {
     "name": "stdout",
     "output_type": "stream",
     "text": [
      "Saved markdown and JSON to the Structured_files/African Customary Law Customs and Womens Rights folder\n",
      "Processing file: Pdf_path/The_Future_of_African_Customary_Law_by_Fenrich_J_G.pdf\n"
     ]
    },
    {
     "name": "stderr",
     "output_type": "stream",
     "text": [
      "Detecting bboxes: 100%|██████████| 2/2 [00:01<00:00,  1.32it/s]\n",
      "Detecting bboxes: 100%|██████████| 2/2 [00:01<00:00,  1.15it/s]\n",
      "Finding reading order: 100%|██████████| 2/2 [00:04<00:00,  2.32s/it]\n"
     ]
    },
    {
     "name": "stdout",
     "output_type": "stream",
     "text": [
      "Saved markdown and JSON to the Structured_files/The_Future_of_African_Customary_Law_by_Fenrich_J_G folder\n",
      "Processing file: Pdf_path/harcoam,+1.+MJ+Mafela.pdf\n"
     ]
    },
    {
     "name": "stderr",
     "output_type": "stream",
     "text": [
      "Detecting bboxes: 100%|██████████| 2/2 [00:01<00:00,  1.20it/s]\n",
      "Detecting bboxes: 100%|██████████| 2/2 [00:01<00:00,  1.01it/s]\n",
      "Finding reading order: 100%|██████████| 2/2 [00:06<00:00,  3.00s/it]\n"
     ]
    },
    {
     "name": "stdout",
     "output_type": "stream",
     "text": [
      "Saved markdown and JSON to the Structured_files/harcoam,+1 folder\n",
      "Processing file: Pdf_path/first-page-pdf.pdf\n"
     ]
    },
    {
     "name": "stderr",
     "output_type": "stream",
     "text": [
      "Detecting bboxes: 100%|██████████| 1/1 [00:00<00:00,  4.09it/s]\n",
      "Detecting bboxes: 100%|██████████| 1/1 [00:00<00:00,  6.49it/s]\n",
      "Finding reading order: 100%|██████████| 1/1 [00:01<00:00,  1.05s/it]"
     ]
    },
    {
     "name": "stdout",
     "output_type": "stream",
     "text": [
      "Saved markdown and JSON to the Structured_files/first-page-pdf folder\n",
      "Processing completed.\n"
     ]
    },
    {
     "name": "stderr",
     "output_type": "stream",
     "text": [
      "\n"
     ]
    }
   ],
   "source": [
    "# Final list of chunk\n",
    "filtered_chunks = []\n",
    "# To get all chuncks directly when executincode\n",
    "chunks_final_state = []\n",
    "\n",
    "# Ensure output directory exists\n",
    "if not os.path.exists(output_dir):\n",
    "    os.makedirs(output_dir)\n",
    "\n",
    "# Function to split text into chunks\n",
    "def split_into_chunks(text, max_chunk_size):\n",
    "    return textwrap.wrap(text, max_chunk_size)\n",
    "\n",
    "# Traverse the folder and process each PDF file\n",
    "for file in os.listdir(docs_path):\n",
    "    file_path = os.path.join(docs_path, file)\n",
    "    if os.path.isfile(file_path) and file.lower().endswith('.pdf'):\n",
    "        try:\n",
    "            # Perform PDF extraction\n",
    "            print(f\"Processing file: {file_path}\")\n",
    "            full_text, images, out_meta = convert_single_pdf(file_path, model_lst)\n",
    "            \n",
    "            # Split full text into chunks\n",
    "            chunks = split_into_chunks(full_text, max_chunk_size)\n",
    "            \n",
    "            # Prepare chunks with metadata\n",
    "            structured_chunks = []\n",
    "            for i, chunk in enumerate(chunks):\n",
    "                structured_chunks.append({\n",
    "                    'page_number': out_meta.get('page_number', 'N/A'),\n",
    "                    'sentence_chunk': chunk,\n",
    "                    'chunk_char_count': len(chunk),\n",
    "                    'chunk_word_count': len(chunk.split()),\n",
    "                    'chunk_token_count': len(chunk) / token_char_ratio\n",
    "                })\n",
    "            \n",
    "            # Check chunk quality\n",
    "            filtered_chunks = check_chunk_quality(structured_chunks, min_word_count=30, max_token_count=384)\n",
    "            chunks_final_state += filtered_chunks\n",
    "            # Save extracted content\n",
    "            fname = os.path.basename(file_path).replace('.pdf', '')\n",
    "            subfolder_path = save_markdown(output_dir, fname, full_text, images, out_meta)\n",
    "            \n",
    "            # Create the JSON output path\n",
    "            json_output_path = os.path.join(output_dir, f\"{base_json}_chunks.json\")\n",
    "            \n",
    "            # Append to JSON file\n",
    "            append_to_json(json_output_path, filtered_chunks)\n",
    "            \n",
    "            print(f\"Saved markdown and JSON to the {subfolder_path} folder\")\n",
    "        \n",
    "        except Exception as e:\n",
    "            print(f\"Error processing file {file_path}: {e}\")\n",
    "\n",
    "print(\"Processing completed.\")\n"
   ]
  },
  {
   "cell_type": "code",
   "execution_count": 19,
   "id": "d766053b",
   "metadata": {},
   "outputs": [
    {
     "data": {
      "text/plain": [
       "{'page_number': 'N/A',\n",
       " 'sentence_chunk': 'Journal of African Law, 65, 3 (2021), 377–401 © The Author(s), 2021. Published by Cambridge University Press on behalf of SOAS University of London. This is an Open Access article, distributed under the terms of the Creative Commons Attribution licence (https://creativecommons.org/licenses/by/4.0/), which permits unrestricted reuse, distribution, and reproduction in any medium, provided the original work is properly cited.  doi:10.1017/S0021855321000346 First published online 1 October 2021  # The Islamic Law Of Marriage And Inheritance In Kenya  Jamil Ddamulira Mujuzi* University of the Western Cape, Bellville, South Africa E-mail: jdmujuzi@uwc.ac.za  ## Abstract  Article 24(4) of the Constitution of Kenya qualifies the right to equality \"to the extent strictly necessary for the application of\" Islamic law \"in matters relating to personal status, marriage, divorce and inheritance\". Section 3 of the Marriage Act provides that, although spouses have equal rights during marriage and at its dissolution, \"the parties to an Islamic marriage shall only have the rights granted under Islamic law\". The Law of Succession Act states that it is generally not applicable to the estate of a deceased Muslim. In this article, the author examines case law from the Kadhi\\'s Court, the High Court and the Court of Appeal on issues of Muslim marriages and inheritance. These cases illustrate, in some instances, the tensions between Islamic law and human rights.  ## Key Words  Kenya, Islamic law, Muslim law, sharia, marriage,',\n",
       " 'chunk_char_count': 1526,\n",
       " 'chunk_word_count': 227,\n",
       " 'chunk_token_count': 381.5}"
      ]
     },
     "execution_count": 19,
     "metadata": {},
     "output_type": "execute_result"
    }
   ],
   "source": [
    "chunks_final_state[0]"
   ]
  },
  {
   "cell_type": "code",
   "execution_count": 181,
   "id": "49aa07e8",
   "metadata": {},
   "outputs": [],
   "source": [
    "def load_json_to_dataframe(json_path):\n",
    "    \"\"\"\n",
    "    Loads a JSON file into a Pandas DataFrame.\n",
    "\n",
    "    Parameters:\n",
    "    - json_path: Path to the JSON file.\n",
    "\n",
    "    Returns:\n",
    "    - df: DataFrame containing the data from the JSON file.\n",
    "    \"\"\"\n",
    "    # Load the JSON data\n",
    "    with open(json_path, 'r') as file:\n",
    "        data = json.load(file)\n",
    "    \n",
    "    # Convert the JSON data into a Pandas DataFrame\n",
    "    df = pd.DataFrame(data)\n",
    "    \n",
    "    return df,  data\n"
   ]
  },
  {
   "cell_type": "code",
   "execution_count": 15,
   "id": "fd455e26",
   "metadata": {},
   "outputs": [
    {
     "data": {
      "text/html": [
       "<div>\n",
       "<style scoped>\n",
       "    .dataframe tbody tr th:only-of-type {\n",
       "        vertical-align: middle;\n",
       "    }\n",
       "\n",
       "    .dataframe tbody tr th {\n",
       "        vertical-align: top;\n",
       "    }\n",
       "\n",
       "    .dataframe thead th {\n",
       "        text-align: right;\n",
       "    }\n",
       "</style>\n",
       "<table border=\"1\" class=\"dataframe\">\n",
       "  <thead>\n",
       "    <tr style=\"text-align: right;\">\n",
       "      <th></th>\n",
       "      <th>chunk_char_count</th>\n",
       "      <th>chunk_word_count</th>\n",
       "      <th>chunk_token_count</th>\n",
       "    </tr>\n",
       "  </thead>\n",
       "  <tbody>\n",
       "    <tr>\n",
       "      <th>count</th>\n",
       "      <td>276.00</td>\n",
       "      <td>276.00</td>\n",
       "      <td>276.00</td>\n",
       "    </tr>\n",
       "    <tr>\n",
       "      <th>mean</th>\n",
       "      <td>1512.38</td>\n",
       "      <td>244.01</td>\n",
       "      <td>378.10</td>\n",
       "    </tr>\n",
       "    <tr>\n",
       "      <th>std</th>\n",
       "      <td>124.22</td>\n",
       "      <td>26.84</td>\n",
       "      <td>31.05</td>\n",
       "    </tr>\n",
       "    <tr>\n",
       "      <th>min</th>\n",
       "      <td>533.00</td>\n",
       "      <td>82.00</td>\n",
       "      <td>133.25</td>\n",
       "    </tr>\n",
       "    <tr>\n",
       "      <th>25%</th>\n",
       "      <td>1531.00</td>\n",
       "      <td>236.00</td>\n",
       "      <td>382.75</td>\n",
       "    </tr>\n",
       "    <tr>\n",
       "      <th>50%</th>\n",
       "      <td>1533.00</td>\n",
       "      <td>247.50</td>\n",
       "      <td>383.25</td>\n",
       "    </tr>\n",
       "    <tr>\n",
       "      <th>75%</th>\n",
       "      <td>1535.00</td>\n",
       "      <td>258.00</td>\n",
       "      <td>383.75</td>\n",
       "    </tr>\n",
       "    <tr>\n",
       "      <th>max</th>\n",
       "      <td>1536.00</td>\n",
       "      <td>281.00</td>\n",
       "      <td>384.00</td>\n",
       "    </tr>\n",
       "  </tbody>\n",
       "</table>\n",
       "</div>"
      ],
      "text/plain": [
       "       chunk_char_count  chunk_word_count  chunk_token_count\n",
       "count            276.00            276.00             276.00\n",
       "mean            1512.38            244.01             378.10\n",
       "std              124.22             26.84              31.05\n",
       "min              533.00             82.00             133.25\n",
       "25%             1531.00            236.00             382.75\n",
       "50%             1533.00            247.50             383.25\n",
       "75%             1535.00            258.00             383.75\n",
       "max             1536.00            281.00             384.00"
      ]
     },
     "execution_count": 15,
     "metadata": {},
     "output_type": "execute_result"
    }
   ],
   "source": [
    "# Create a DataFrame to get stats\n",
    "output_json = os.path.join(output_dir, f\"{base_json}_chunks.json\")\n",
    "df, chunks_array_over_min_token_len = load_json_to_dataframe(output_json)\n",
    "df.describe().round(2)"
   ]
  },
  {
   "cell_type": "markdown",
   "id": "f19177b9",
   "metadata": {},
   "source": [
    "### Embedding our text chunks"
   ]
  },
  {
   "cell_type": "code",
   "execution_count": 12,
   "id": "dea76b1e",
   "metadata": {},
   "outputs": [],
   "source": [
    "#  File In which we registred the embeded vectors\n",
    "embeddings_df_save_path = \"text_chunks_and_embeddings_df.csv\""
   ]
  },
  {
   "cell_type": "code",
   "execution_count": 13,
   "id": "42ed0c16",
   "metadata": {},
   "outputs": [],
   "source": [
    "embedding_model = SentenceTransformer(model_name_or_path=\"all-mpnet-base-v2\", device=device) # choose the device to load the model to"
   ]
  },
  {
   "cell_type": "code",
   "execution_count": 31,
   "id": "61037660",
   "metadata": {},
   "outputs": [
    {
     "data": {
      "application/vnd.jupyter.widget-view+json": {
       "model_id": "280d857aa1914fad8f004fbe747876c2",
       "version_major": 2,
       "version_minor": 0
      },
      "text/plain": [
       "  0%|          | 0/276 [00:00<?, ?it/s]"
      ]
     },
     "metadata": {},
     "output_type": "display_data"
    }
   ],
   "source": [
    "# Create embeddings one by one on the GPU\n",
    "for item in tqdm(chunks_array_over_min_token_len):\n",
    "    item[\"embedding\"] = embedding_model.encode(item[\"sentence_chunk\"])\n",
    "    \n"
   ]
  },
  {
   "cell_type": "code",
   "execution_count": 14,
   "id": "9de487f4",
   "metadata": {},
   "outputs": [],
   "source": [
    "# Create embedding vectors for Qdrant\n",
    "def create_embeddings(embedding_model, chunks):\n",
    "    vectors = [embedding_model.encode(item[\"sentence_chunk\"]) for item in chunks]\n",
    "    return vectors"
   ]
  },
  {
   "cell_type": "code",
   "execution_count": 14,
   "id": "2938ca6c",
   "metadata": {},
   "outputs": [],
   "source": [
    "# Create embedding as a payload for Qdrant\n",
    "payload =[embedding_model.encode(item[\"sentence_chunk\"]) for item in chunks_final_state] "
   ]
  },
  {
   "cell_type": "code",
   "execution_count": 32,
   "id": "7dc98650",
   "metadata": {},
   "outputs": [],
   "source": [
    "# Save embeddings to file\n",
    "text_chunks_and_embeddings_df = pd.DataFrame(chunks_array_over_min_token_len)\n",
    "\n",
    "text_chunks_and_embeddings_df.to_csv(embeddings_df_save_path, index=False)"
   ]
  },
  {
   "cell_type": "code",
   "execution_count": 19,
   "id": "c13308c4",
   "metadata": {},
   "outputs": [
    {
     "data": {
      "text/html": [
       "<div>\n",
       "<style scoped>\n",
       "    .dataframe tbody tr th:only-of-type {\n",
       "        vertical-align: middle;\n",
       "    }\n",
       "\n",
       "    .dataframe tbody tr th {\n",
       "        vertical-align: top;\n",
       "    }\n",
       "\n",
       "    .dataframe thead th {\n",
       "        text-align: right;\n",
       "    }\n",
       "</style>\n",
       "<table border=\"1\" class=\"dataframe\">\n",
       "  <thead>\n",
       "    <tr style=\"text-align: right;\">\n",
       "      <th></th>\n",
       "      <th>page_number</th>\n",
       "      <th>sentence_chunk</th>\n",
       "      <th>chunk_char_count</th>\n",
       "      <th>chunk_word_count</th>\n",
       "      <th>chunk_token_count</th>\n",
       "      <th>embedding</th>\n",
       "    </tr>\n",
       "  </thead>\n",
       "  <tbody>\n",
       "    <tr>\n",
       "      <th>0</th>\n",
       "      <td>NaN</td>\n",
       "      <td>Journal of African Law, 65, 3 (2021), 377–401 ...</td>\n",
       "      <td>1526</td>\n",
       "      <td>227</td>\n",
       "      <td>381.50</td>\n",
       "      <td>[ 3.58435959e-02  2.01791208e-02 -1.26003334e-...</td>\n",
       "    </tr>\n",
       "    <tr>\n",
       "      <th>1</th>\n",
       "      <td>NaN</td>\n",
       "      <td>inheritance, Kadhi's courts, freedom of testat...</td>\n",
       "      <td>1532</td>\n",
       "      <td>252</td>\n",
       "      <td>383.00</td>\n",
       "      <td>[ 1.19352154e-02 -1.17024928e-02 -6.72595855e-...</td>\n",
       "    </tr>\n",
       "    <tr>\n",
       "      <th>2</th>\n",
       "      <td>NaN</td>\n",
       "      <td>some human rights issues, especially the right...</td>\n",
       "      <td>1535</td>\n",
       "      <td>253</td>\n",
       "      <td>383.75</td>\n",
       "      <td>[ 3.26480567e-02 -1.76190734e-02 -4.02760692e-...</td>\n",
       "    </tr>\n",
       "    <tr>\n",
       "      <th>3</th>\n",
       "      <td>NaN</td>\n",
       "      <td>jurisdiction of a Kadhi's court shall be limit...</td>\n",
       "      <td>1534</td>\n",
       "      <td>254</td>\n",
       "      <td>383.50</td>\n",
       "      <td>[ 2.04174574e-02 -5.64446859e-02  8.79021175e-...</td>\n",
       "    </tr>\n",
       "    <tr>\n",
       "      <th>4</th>\n",
       "      <td>NaN</td>\n",
       "      <td>Muslim woman is completely prohibited from mar...</td>\n",
       "      <td>1530</td>\n",
       "      <td>257</td>\n",
       "      <td>382.50</td>\n",
       "      <td>[ 5.60534894e-02  3.24488827e-03 -9.06689372e-...</td>\n",
       "    </tr>\n",
       "  </tbody>\n",
       "</table>\n",
       "</div>"
      ],
      "text/plain": [
       "   page_number                                     sentence_chunk  \\\n",
       "0          NaN  Journal of African Law, 65, 3 (2021), 377–401 ...   \n",
       "1          NaN  inheritance, Kadhi's courts, freedom of testat...   \n",
       "2          NaN  some human rights issues, especially the right...   \n",
       "3          NaN  jurisdiction of a Kadhi's court shall be limit...   \n",
       "4          NaN  Muslim woman is completely prohibited from mar...   \n",
       "\n",
       "   chunk_char_count  chunk_word_count  chunk_token_count  \\\n",
       "0              1526               227             381.50   \n",
       "1              1532               252             383.00   \n",
       "2              1535               253             383.75   \n",
       "3              1534               254             383.50   \n",
       "4              1530               257             382.50   \n",
       "\n",
       "                                           embedding  \n",
       "0  [ 3.58435959e-02  2.01791208e-02 -1.26003334e-...  \n",
       "1  [ 1.19352154e-02 -1.17024928e-02 -6.72595855e-...  \n",
       "2  [ 3.26480567e-02 -1.76190734e-02 -4.02760692e-...  \n",
       "3  [ 2.04174574e-02 -5.64446859e-02  8.79021175e-...  \n",
       "4  [ 5.60534894e-02  3.24488827e-03 -9.06689372e-...  "
      ]
     },
     "execution_count": 19,
     "metadata": {},
     "output_type": "execute_result"
    }
   ],
   "source": [
    "# Import saved file and view\n",
    "text_chunks_and_embedding_df_load = pd.read_csv(embeddings_df_save_path)\n",
    "text_chunks_and_embedding_df_load.head()"
   ]
  },
  {
   "cell_type": "code",
   "execution_count": null,
   "id": "de4bec2d",
   "metadata": {},
   "outputs": [],
   "source": [
    "# # Get ours vectors\n",
    "# import ast\n",
    "# # embedding = text_chunks_and_embedding_df_load['embedding'].apply(lambda x: ast.literal_eval(x.replace('\\n', '')))\n",
    "# embedding = [ ast.literal_eval(elt) for elt in text_chunks_and_embedding_df_load[\"embedding\"]]\n",
    "\n",
    "# embedding"
   ]
  },
  {
   "cell_type": "markdown",
   "id": "1a95b9f4",
   "metadata": {},
   "source": [
    "### Qdrant Vector DB"
   ]
  },
  {
   "cell_type": "code",
   "execution_count": 15,
   "id": "86389839",
   "metadata": {},
   "outputs": [],
   "source": [
    "%%capture\n",
    "%pip install --upgrade --quiet  qdrant-client langchain"
   ]
  },
  {
   "cell_type": "code",
   "execution_count": 20,
   "id": "2e360825",
   "metadata": {},
   "outputs": [
    {
     "ename": "AttributeError",
     "evalue": "module 'httpx' has no attribute 'Limits'",
     "output_type": "error",
     "traceback": [
      "\u001b[0;31m---------------------------------------------------------------------------\u001b[0m",
      "\u001b[0;31mAttributeError\u001b[0m                            Traceback (most recent call last)",
      "Cell \u001b[0;32mIn[20], line 2\u001b[0m\n\u001b[1;32m      1\u001b[0m \u001b[38;5;66;03m# Initialize the Qdrant client\u001b[39;00m\n\u001b[0;32m----> 2\u001b[0m client \u001b[38;5;241m=\u001b[39m QdrantClient(url\u001b[38;5;241m=\u001b[39m\u001b[38;5;124m\"\u001b[39m\u001b[38;5;124mhttp://localhost:6333\u001b[39m\u001b[38;5;124m\"\u001b[39m)\n\u001b[1;32m      4\u001b[0m collection_name\u001b[38;5;241m=\u001b[39m\u001b[38;5;124m\"\u001b[39m\u001b[38;5;124mserver_documents\u001b[39m\u001b[38;5;124m\"\u001b[39m\n\u001b[1;32m      6\u001b[0m \u001b[38;5;66;03m# Create or recreate the collection\u001b[39;00m\n\u001b[1;32m      7\u001b[0m \u001b[38;5;66;03m# client.recreate_collection(\u001b[39;00m\n\u001b[1;32m      8\u001b[0m \u001b[38;5;66;03m#     collection_name=\"server_documents\",\u001b[39;00m\n\u001b[0;32m   (...)\u001b[0m\n\u001b[1;32m     11\u001b[0m \n\u001b[1;32m     12\u001b[0m \u001b[38;5;66;03m# Check if the collection exists\u001b[39;00m\n",
      "File \u001b[0;32m~/anaconda3/lib/python3.11/site-packages/qdrant_client/qdrant_client.py:134\u001b[0m, in \u001b[0;36mQdrantClient.__init__\u001b[0;34m(self, location, url, port, grpc_port, prefer_grpc, https, api_key, prefix, timeout, host, path, force_disable_check_same_thread, grpc_options, auth_token_provider, **kwargs)\u001b[0m\n\u001b[1;32m    132\u001b[0m \u001b[38;5;28;01mif\u001b[39;00m location \u001b[38;5;129;01mis\u001b[39;00m \u001b[38;5;129;01mnot\u001b[39;00m \u001b[38;5;28;01mNone\u001b[39;00m \u001b[38;5;129;01mand\u001b[39;00m url \u001b[38;5;129;01mis\u001b[39;00m \u001b[38;5;28;01mNone\u001b[39;00m:\n\u001b[1;32m    133\u001b[0m     url \u001b[38;5;241m=\u001b[39m location\n\u001b[0;32m--> 134\u001b[0m \u001b[38;5;28mself\u001b[39m\u001b[38;5;241m.\u001b[39m_client \u001b[38;5;241m=\u001b[39m QdrantRemote(\n\u001b[1;32m    135\u001b[0m     url\u001b[38;5;241m=\u001b[39murl,\n\u001b[1;32m    136\u001b[0m     port\u001b[38;5;241m=\u001b[39mport,\n\u001b[1;32m    137\u001b[0m     grpc_port\u001b[38;5;241m=\u001b[39mgrpc_port,\n\u001b[1;32m    138\u001b[0m     prefer_grpc\u001b[38;5;241m=\u001b[39mprefer_grpc,\n\u001b[1;32m    139\u001b[0m     https\u001b[38;5;241m=\u001b[39mhttps,\n\u001b[1;32m    140\u001b[0m     api_key\u001b[38;5;241m=\u001b[39mapi_key,\n\u001b[1;32m    141\u001b[0m     prefix\u001b[38;5;241m=\u001b[39mprefix,\n\u001b[1;32m    142\u001b[0m     timeout\u001b[38;5;241m=\u001b[39mtimeout,\n\u001b[1;32m    143\u001b[0m     host\u001b[38;5;241m=\u001b[39mhost,\n\u001b[1;32m    144\u001b[0m     grpc_options\u001b[38;5;241m=\u001b[39mgrpc_options,\n\u001b[1;32m    145\u001b[0m     auth_token_provider\u001b[38;5;241m=\u001b[39mauth_token_provider,\n\u001b[1;32m    146\u001b[0m     \u001b[38;5;241m*\u001b[39m\u001b[38;5;241m*\u001b[39mkwargs,\n\u001b[1;32m    147\u001b[0m )\n",
      "File \u001b[0;32m~/anaconda3/lib/python3.11/site-packages/qdrant_client/qdrant_remote.py:123\u001b[0m, in \u001b[0;36mQdrantRemote.__init__\u001b[0;34m(self, url, port, grpc_port, prefer_grpc, https, api_key, prefix, timeout, host, grpc_options, auth_token_provider, **kwargs)\u001b[0m\n\u001b[1;32m    119\u001b[0m \u001b[38;5;28;01mif\u001b[39;00m limits \u001b[38;5;129;01mis\u001b[39;00m \u001b[38;5;28;01mNone\u001b[39;00m:\n\u001b[1;32m    120\u001b[0m     \u001b[38;5;28;01mif\u001b[39;00m \u001b[38;5;28mself\u001b[39m\u001b[38;5;241m.\u001b[39m_host \u001b[38;5;129;01min\u001b[39;00m [\u001b[38;5;124m\"\u001b[39m\u001b[38;5;124mlocalhost\u001b[39m\u001b[38;5;124m\"\u001b[39m, \u001b[38;5;124m\"\u001b[39m\u001b[38;5;124m127.0.0.1\u001b[39m\u001b[38;5;124m\"\u001b[39m]:\n\u001b[1;32m    121\u001b[0m         \u001b[38;5;66;03m# Disable keep-alive for local connections\u001b[39;00m\n\u001b[1;32m    122\u001b[0m         \u001b[38;5;66;03m# Cause in some cases, it may cause extra delays\u001b[39;00m\n\u001b[0;32m--> 123\u001b[0m         limits \u001b[38;5;241m=\u001b[39m httpx\u001b[38;5;241m.\u001b[39mLimits(max_connections\u001b[38;5;241m=\u001b[39m\u001b[38;5;28;01mNone\u001b[39;00m, max_keepalive_connections\u001b[38;5;241m=\u001b[39m\u001b[38;5;241m0\u001b[39m)\n\u001b[1;32m    125\u001b[0m http2 \u001b[38;5;241m=\u001b[39m kwargs\u001b[38;5;241m.\u001b[39mpop(\u001b[38;5;124m\"\u001b[39m\u001b[38;5;124mhttp2\u001b[39m\u001b[38;5;124m\"\u001b[39m, \u001b[38;5;28;01mFalse\u001b[39;00m)\n\u001b[1;32m    126\u001b[0m \u001b[38;5;28mself\u001b[39m\u001b[38;5;241m.\u001b[39m_grpc_headers \u001b[38;5;241m=\u001b[39m []\n",
      "\u001b[0;31mAttributeError\u001b[0m: module 'httpx' has no attribute 'Limits'"
     ]
    }
   ],
   "source": [
    "# Initialize the Qdrant client\n",
    "client = QdrantClient(url=\"http://localhost:6333\")\n",
    "\n",
    "collection_name=\"server_documents\"\n",
    "\n",
    "# Create or recreate the collection\n",
    "# client.recreate_collection(\n",
    "#     collection_name=\"server_documents\",\n",
    "#     vectors_config=VectorParams(size=768, distance=Distance.DOT),\n",
    "# )\n",
    "\n",
    "# Check if the collection exists\n",
    "if not client.collection_exists(collection_name=collection_name):\n",
    "    print(f\"Collection '{collection_name}' does not exist. Creating it now.\")\n",
    "    client.create_collection(\n",
    "        collection_name=collection_name,\n",
    "        vectors_config=VectorParams(size=768, distance=Distance.DOT),\n",
    "    )\n"
   ]
  },
  {
   "cell_type": "code",
   "execution_count": 15,
   "id": "983af445",
   "metadata": {},
   "outputs": [],
   "source": [
    "def insert_to_qdriant(vectors, meta_data):\n",
    "    # Insert data\n",
    "    for index, row in enumerate( zip(vectors, meta_data) ):\n",
    "        client.upsert(\n",
    "            collection_name=\"server_documents\",\n",
    "            wait=True,\n",
    "            points=[\n",
    "                PointStruct(id=index, vector=row[0], payload=row[1]),\n",
    "            ],\n",
    "        )"
   ]
  },
  {
   "cell_type": "code",
   "execution_count": 26,
   "id": "bc3d919c",
   "metadata": {},
   "outputs": [
    {
     "name": "stderr",
     "output_type": "stream",
     "text": [
      "/var/folders/gv/71l1ft2j16519jw9fxm_939h0000gn/T/ipykernel_925/3070528875.py:18: DeprecationWarning: `recreate_collection` method is deprecated and will be removed in the future. Use `collection_exists` to check collection existence and `create_collection` instead.\n",
      "  client.recreate_collection(\n"
     ]
    }
   ],
   "source": [
    "# Insert data\n",
    "for index, row in enumerate( zip(payload, chunks_final_state) ):\n",
    "    operation_info = client.upsert(\n",
    "        collection_name=\"server_documents\",\n",
    "        wait=True,\n",
    "        points=[\n",
    "            PointStruct(id=index, vector=row[0], payload=row[1]),\n",
    "        ],\n",
    "    )\n",
    "\n"
   ]
  },
  {
   "cell_type": "markdown",
   "id": "be65d5b1",
   "metadata": {},
   "source": [
    "### Similarity search / Semantic Search "
   ]
  },
  {
   "cell_type": "code",
   "execution_count": 16,
   "id": "ca025b62",
   "metadata": {},
   "outputs": [],
   "source": [
    "# query = \"What are the traditional steps involved in a Luo customary marriage?\" \n",
    "# query = \"What are the traditional steps involved in Zimbabwe customary marriage?\"\n",
    "query = \"What is the role of the family in traditional marriage in Wassoulou?\"\n",
    "query_vector = embedding_model.encode(query)\n",
    "\n"
   ]
  },
  {
   "cell_type": "code",
   "execution_count": 17,
   "id": "82fa57c7",
   "metadata": {},
   "outputs": [
    {
     "ename": "NameError",
     "evalue": "name 'client' is not defined",
     "output_type": "error",
     "traceback": [
      "\u001b[0;31m---------------------------------------------------------------------------\u001b[0m",
      "\u001b[0;31mNameError\u001b[0m                                 Traceback (most recent call last)",
      "Cell \u001b[0;32mIn[17], line 11\u001b[0m\n\u001b[1;32m      2\u001b[0m     query_vector \u001b[38;5;241m=\u001b[39m embedding_model\u001b[38;5;241m.\u001b[39mencode(query)\n\u001b[1;32m      3\u001b[0m     \u001b[38;5;28;01mreturn\u001b[39;00m client\u001b[38;5;241m.\u001b[39msearch(\n\u001b[1;32m      4\u001b[0m         collection_name\u001b[38;5;241m=\u001b[39m\u001b[38;5;124m\"\u001b[39m\u001b[38;5;124mserver_documents\u001b[39m\u001b[38;5;124m\"\u001b[39m,\n\u001b[1;32m      5\u001b[0m         query_vector\u001b[38;5;241m=\u001b[39mquery_vector,\n\u001b[0;32m   (...)\u001b[0m\n\u001b[1;32m      8\u001b[0m         limit\u001b[38;5;241m=\u001b[39m\u001b[38;5;241m3\u001b[39m,\n\u001b[1;32m      9\u001b[0m     )\n\u001b[0;32m---> 11\u001b[0m context \u001b[38;5;241m=\u001b[39m search_documents(client, query, embedding_model)\n",
      "\u001b[0;31mNameError\u001b[0m: name 'client' is not defined"
     ]
    }
   ],
   "source": [
    "def search_documents(client, query, embedding_model):\n",
    "    query_vector = embedding_model.encode(query)\n",
    "    return client.search(\n",
    "        collection_name=\"server_documents\",\n",
    "        query_vector=query_vector,\n",
    "        with_vectors=True,\n",
    "        with_payload=True,\n",
    "        limit=3,\n",
    "    )\n",
    "\n",
    "context = search_documents(client, query, embedding_model)"
   ]
  },
  {
   "cell_type": "code",
   "execution_count": 253,
   "id": "ec0f63cb",
   "metadata": {},
   "outputs": [
    {
     "data": {
      "text/plain": [
       "[\"an affair between a man and a woman.  Marriage involves the whole extended family and to some African communities, the village. Both the man and the woman must obtain approval from the entire family. For example, a young man would not personally approach his prospective father-in-law and ask for the daughter's hand in marriage. The young man would instead make his intentions known to the elders in his family, and they would approach the family of the young woman. Weinrich (1983:48) argues that … [a]lthough young people today try to choose their own spouses, their marriage remains the concern of their respective families and hardly any spouse dares to marry without their families' approval. They may exchange love tokens without informing their elders, but before finalizing their choice, they seek the consent of their families. The families' involvement in a marriage is still one of the strongest factors making for stability.  Mathu (1971:1) bases the definition of marriage on the interpretation of the Gikuyu and explains the concept as follows: Among the Gikuyu customs which constitute their traditional ways of life, marriage is understood as a way of establishing and classifying social relations. It is related to the entire social structure and is part of the relatively stable web of social relations which gives a society its distinctive integration.  Marriage is another way in which an individual shares in group life; it is the basis of the creation of interrelationship between different groups of people.\",\n",
       " \"the wasouou marriage is rich in Conie most of the traditional marriage rituals are intended for the woman to remember her great responsibility in the [Music] foyeribala one of the many villages of wasouou belongs to the commune of deorolé in the circle of yfolida the marriages they are generally celebrated in a traditional way for this specific marriage the groom chose to celebrate a civil marriage at the town hall of sucorolé a rarity in the locality [Music] [Music] after the town hall the traditional ritual finally begins in moribala as in many others villages marriage unites two families and not only two individuals the woman is given not to a man but to his family the ceremonies extend over 3 days the main rituals take place on the 2nd day the first evening is dedicated to music in the family of the bride a party where young girls and women dance to traditional sounds and music from the [Music] world the next day the rituals begin with the bride's lunch who receives the first handful of food from the hands of one of the sisters of her future husband accompanied by the blessings of these tents surrounded by these tents the bride listens to explanations on the foundations of marriage words imbued with emotions which often make her cry and call her to order you come from a family where women have respected the foundations of marriage if you have these commitments the whole family will never forgive you a bouquet made up of four shea leaves of a l Caleb and a wooden capsule night r the shea leaves symbolize\",\n",
       " 'years.   Traditional customary practice is the traditional Shona form of marriage commonly practiced by other ethnic groups across the country and the continent. Under the traditional form of marriage, there are also sub- marriage systems. Kukumbira **is one of these marriage systems,**  yet the most highly regarded form of marriage among   | Occupation                         | Gender   |    | |------------------------------------|----------|----| | Male                               | Female   |    | | Teacher                            | 2        | 4  | | With and without primary education | 3        | 5  | | Health worker                      | 2        | 4  | | Soldier                            | 2        | 1  | | Police                             | 3        | 3  | | Farmers and Agritex officers       | 3        | 4  | | Unemployed                         | 2        | 3  | | Journalist                         | 1        | 1  | | Students in tertiary education     | 2        | 5  |  the Shona **and other ethnic groups across the country.**   ## Methods  The study involved a selected sample of 50 people (30 female and 20 male) from the provinces of Masvingo and Manicaland (both rural and urban areas) in Zimbabwe. The people participated in the study were from different societal classes, ranging from the educated to the uneducated and the working to the non-working class. They range from the ages of 16 to 40 years. This age group was considered appropriate for the study given that most of the marriages in']"
      ]
     },
     "execution_count": 253,
     "metadata": {},
     "output_type": "execute_result"
    }
   ],
   "source": [
    "\n",
    "def get_context(context: list) -> list[str]:\n",
    "\n",
    "    return [shunk.payload[\"sentence_chunk\"] for shunk in context]\n",
    "\n",
    "get_context(context)"
   ]
  },
  {
   "cell_type": "markdown",
   "id": "86b2adc4",
   "metadata": {},
   "source": [
    "### Augmenting our prompt with context items"
   ]
  },
  {
   "cell_type": "code",
   "execution_count": 172,
   "id": "f943ede4",
   "metadata": {},
   "outputs": [],
   "source": [
    "def get_prompt(query: str, context: list[str]) -> str:\n",
    "    # context_str = '\\n'.join(context)\n",
    "    \n",
    "    return f\"\"\"\n",
    "    SYSTEM: You are an expert on African customary marriage laws. Answer the following questions about marriage practices, annulments, and implications of specific customs across different African tribes.\n",
    "\n",
    "    Use the following pieces of context to answer the question at the end. Think step-by-step, and then answer. \n",
    "\n",
    "    Do not try to make up an answer:\n",
    "    - If the context can help determine the answer, use it to form your response directly without introductory phrases like \"I can determine the answer to that based on the provided context.\"\n",
    "    - If the context can help determine the answer, use it to form your response. However, if the context is not useful, say \"I cannot determine the answer to that.\"\n",
    "    - If the context is empty, just say \"I do not know the answer to that.\"\n",
    "    - If explicitly requested or if you cannot provide a clear answer without explanation, then include the reasoning.\n",
    "\n",
    "   \n",
    "    ==================\n",
    "    Context: {context}\n",
    "    ==================\n",
    "\n",
    "    ### Guidelines:\n",
    "    1. **Condition Check**: Ensure that each response is accurate, culturally sensitive, and aligns with the specific customary practices of the tribe mentioned.\n",
    "    2. **Step-by-Step Solution**: Before concluding, think through the cultural, legal, and social aspects of the question, and consider the potential impact on the families and communities involved. \n",
    "\n",
    "    Question: {query}\n",
    "    Helpful Answer:\"\"\"\n"
   ]
  },
  {
   "cell_type": "code",
   "execution_count": 145,
   "id": "a613e6fb",
   "metadata": {},
   "outputs": [],
   "source": [
    "# def get_prompt(query: str, context: list[str]) -> str:\n",
    "#     # context = '\\n'.join(context)\n",
    "    \n",
    "#     # print(\"Display thr context :\", context)\n",
    "    \n",
    "\n",
    "#     return f\"\"\"SYSTEM: You are an intelligent expert on African customary marriage helping the users with their questions.\n",
    "            \n",
    "#         Use the following pieces of context to answer the question at the end. Think step-by-step and then answer.\n",
    "            \n",
    "#         Do not try to make up an answer:\n",
    "#          - If the context can help determine the answer, use it to form your response. However, if the context is not useful, say \"I cannot determine the answer to that.\"\n",
    "#          -If the answer to the question cannot be determined from the context alone, say \"I cannot determine the answer to that.\"\n",
    "#          - If the context is empty, just say \"I do not know the answerQ to that.\n",
    "#          \"\n",
    "        \n",
    "#         ==================\n",
    "#         Context: {context}\n",
    "#         ==================\n",
    "        \n",
    "#         Question: {query}\n",
    "#         Helpful Answer:\"\"\""
   ]
  },
  {
   "cell_type": "code",
   "execution_count": 255,
   "id": "e397d51f",
   "metadata": {},
   "outputs": [],
   "source": [
    "def infer():\n",
    "    # Define the model, Ensure this name matches the model you have\n",
    "    local_model = \"llama2:7b-chat-q4_0\"  \n",
    "    temperature = 0.3\n",
    "    # local_model = \"mistral\"\n",
    "    llm = ChatOllama(model=local_model, temperature=temperature)\n",
    "    \n",
    "    prompt = get_prompt(query=query, context=get_context(context))\n",
    "\n",
    "    # Example input in the format expected by the model\n",
    "    input_data =  [\n",
    "        {\"role\": \"user\", \"content\": prompt}\n",
    "    ]\n",
    "\n",
    "    # Make a prediction\n",
    "    response = llm.invoke(input_data)\n",
    "    \n",
    "    print(\"\\n\",\"-\"*(4 + len(query) ),\"\\n\")\n",
    "    print(f\"QUERY: {query}\")\n",
    "    print(\"\\n\",\"-\"*(4 + len(query)*4 ),\"\\n\")\n",
    "    print(f\"Answer: {response.content}\")"
   ]
  },
  {
   "cell_type": "code",
   "execution_count": 256,
   "id": "911ed306",
   "metadata": {},
   "outputs": [
    {
     "name": "stdout",
     "output_type": "stream",
     "text": [
      "\n",
      " ------------------------------------------------------------------------ \n",
      "\n",
      "QUERY: What is the role of the family in traditional marriage in Wassoulou?\n",
      "\n",
      " ------------------------------------------------------------------------------------------------------------------------------------------------------------------------------------------------------------------------------------------------------------------------------------ \n",
      "\n",
      "Answer: The role of the family in traditional marriage in Wassoulou is significant and plays a crucial part in the process. In Wassoulou culture, marriage unites two families and not only two individuals. The woman is given to the groom's family, rather than to the groom himself. The ceremonies typically extend over three days, with the main rituals taking place on the second day. On the first evening, young girls and women dance to traditional sounds and music in the bride's family, surrounded by these tents. The next day, the rituals begin with the bride receiving the first handful of food from the hands of one of the sisters of her future husband, accompanied by the blessings of these tents. The bride listens to explanations on the foundations of marriage, words imbued with emotions that often make her cry and call her to order.\n",
      "\n",
      "In Wassoulou culture, the family plays a vital role in ensuring the success of the marriage. The family's involvement in the marriage is one of the strongest factors contributing to stability. The family's approval is necessary for the marriage to be considered valid, and the bride's family must give her hand in marriage to the groom's family. The family's role in the marriage process is not limited to the bride's side; the groom's family also plays a crucial part in ensuring the success of the marriage.\n",
      "\n",
      "In conclusion, the family plays a significant role in traditional marriage in Wassoulou culture. Their involvement is essential for the success of the marriage, and their approval is necessary for the marriage to be considered valid.\n"
     ]
    }
   ],
   "source": [
    "infer()"
   ]
  },
  {
   "cell_type": "code",
   "execution_count": 176,
   "id": "63a376e1",
   "metadata": {},
   "outputs": [
    {
     "name": "stdout",
     "output_type": "stream",
     "text": [
      "\n",
      " --------------------------------------------------------------------------- \n",
      "\n",
      "QUERY: What are the traditional steps involved in Zimbabwe customary marriage?\n",
      "\n",
      " ------------------------------------------------------------------------------------------------------------------------------------------------------------------------------------------------------------------------------------------------------------------------------------------------ \n",
      "\n",
      "Answer: \n",
      "Thank you for providing the context! Based on the information provided, here are the traditional steps involved in Zimbabwe customary marriage:\n",
      "\n",
      "1. **Kukumbira**: The suitor approaches the father of the girl (tezvara) through an intermediator (munyai), who is usually a well-respected old man in the community. The suitor must agree to marry the girl with her informed consent.\n",
      "2. **Lobola**: The bridegroom's family pays lobola (bride wealth) to the bride's family as a symbol of goodwill and to demonstrate their commitment to the marriage. This payment is an important aspect of traditional customary marriage in Zimbabwe.\n",
      "3. **Introduction**: The suitor is introduced to the girl's family, and if approved, the families begin discussing the terms of the marriage.\n",
      "4. **Agreeement**: The suitor and the girl's family agree on the terms of the marriage, including the amount of lobola to be paid and any other conditions.\n",
      "5. **Marriage Ceremony**: The couple is married in a traditional ceremony, which may involve singing, dancing, and other cultural practices specific to the tribe.\n",
      "6. **Post-Marriage**: After the marriage, the bride's family may host a celebration to mark the occasion and welcome the groom into their family.\n",
      "\n",
      "It is important to note that these traditional steps may vary across different tribes in Zimbabwe and other parts of Africa. Additionally, modernization and cultural blending have led to variations in customary marriage practices, with some couples choosing to incorporate elements of both traditional and modern wedding ceremonies.\n"
     ]
    }
   ],
   "source": [
    "infer()"
   ]
  },
  {
   "cell_type": "markdown",
   "id": "0c68b5f1",
   "metadata": {},
   "source": [
    "### Loading an LLM locally (**Ollama**)\n",
    "\n"
   ]
  },
  {
   "cell_type": "code",
   "execution_count": 174,
   "id": "a7dd5b0f",
   "metadata": {},
   "outputs": [
    {
     "data": {
      "text/plain": [
       "'\\nThe capital of France is Paris.'"
      ]
     },
     "execution_count": 174,
     "metadata": {},
     "output_type": "execute_result"
    }
   ],
   "source": [
    "# Define the model, Ensure this name matches the model you have\n",
    "local_model = \"llama2:7b-chat-q4_0\"  \n",
    "\n",
    "# local_model = \"mistral\"\n",
    "llm = ChatOllama(model=local_model)\n",
    "\n",
    "# Example input in the format expected by the model\n",
    "input_data =  [\n",
    "    {\"role\": \"user\", \"content\": \"What is the capital of France?\"}\n",
    "]\n",
    "\n",
    "# Make a prediction\n",
    "response = llm.invoke(input_data)\n",
    "response.content"
   ]
  },
  {
   "cell_type": "markdown",
   "id": "2b7c4214",
   "metadata": {},
   "source": [
    "### Obtained transcript from Youtubes videos\n",
    "\n",
    "- Upload Json file of videos links\n",
    "- Get the corresponding transcrptions\n",
    "- Split into shunk\n",
    "- Embed the shunk\n",
    "- Store in Qdrant\n"
   ]
  },
  {
   "cell_type": "code",
   "execution_count": 243,
   "id": "2235f0bc",
   "metadata": {},
   "outputs": [
    {
     "name": "stdout",
     "output_type": "stream",
     "text": [
      "I don't say all in common except at the mit [Music] in the water everyone welcome to all on my youtube channel so we turn today for a new video in which he decided to explain to you the process of traditional marriage in Africa precisely in my country unless the democratic republic of congo in kinshasa does that in africa so I explained to you the dowry in relation to the ceremonies kg eu to attend I want to clarify I am not an expert on dowries I just want to share my experience with you my experience I attended several to several ceremonies doubts when I was very young which means that I still have enough notions in relation to that which is also it is a ceremony that will be special the region of my mother my mother who is from the handling more precisely who is from the mouret tribe guy that is who makes that I have more attend words the judge side blu ray gackou on the side of my father who is my baby but I still know some certain principles of dumas the traditional my baby that I will tell you about in this video in the meantime but I want to clarify that I did not have to participate or even polka dots I really did not have to participate in special weddings from my father's side beautiful baby but that's it so I am not an expert if you have suggestions regarding ceremonies do not hesitate to let me manage otherwise it is really a wedding that happens like in the DRC will not be in all African countries it happens the same way it is especially we have c on my mother's side so it is this video you are interested stay connected and for old and new subscribers I say thank you very much for your encouragement thank you very much for your comments your likes and your views do not hesitate to subscribe to like and apart from this video if the video is sure if he means it is the video [Music] your captures or catch do not hesitate to share it so the video then the marriage is sealed by several ceremonies the most important of which will be the mole what is the dowry the dowry is not like many people imagine the fact of selling to sell in the family van the woman to sound no it is not the purchase of a woman people it will be really more it is really more to more a deeper meaning it will flags of the oilskins the alliance between the man and the woman but also of the striped the two families it is really the union of two families whose children it is married in Africa the dowry will have a very very great importance compared to the skin marriage in the church or still loved the festivals that we give the dowry to the family of the woman it simply means that the woman plays a very important role in her group but also in the African family most Africans will want to marry traditionally not what it really represents a very important marriage for me the sailors this staff will have more importance than a roadblock at the town hall or still in front of the church because it is really the union of two families traditionally then the union of a couple it is really a ceremony not to be missed at so much that African a mandatory ceremony because it will be more important than any other wedding ceremony so I will explain to you the harmony of the dowry at home I on my mother's side so blind to others do not arrive first the man before the date and after others are called after in the after note the young girl amen first warn her parents like what I meet a gentleman a young man who interests me well with I am well and with whom I intend to start a family make my life later with the parents organize themselves to welcome the man it will be the president so the man will come come meet the family in particular normally the man meets the family just with the sea it is just the sea and the man who meet without blood being running or even the dad it is just the mother of the girl who will meet the man in question and her daughter so it is a ceremony it is not really a great harmony it is just a kind of presentation between mother-in-law and bobo son so a man introduced himself by saying yes my name is such and such for example I am your daughter's current man so it is me who takes care of your daughter at the moment it is me who will be in your daughter at the moment then normally the man brings this envelope in relation to his possibilities I want to clarify it is really not important who will be required by the mother no it is in relation to his possibilities that the man brings an envelope when he goes to present himself to his mother-in-law as a sign of his love or even out of respect for the in-laws it is after this pre-dowry meeting that the man returns to his corner he thinks pissing realizes that it is really Alice's wife is really the woman with whom he wants to live his life later well he comes his girlfriend he tells her I would like to receive the family list for the dowry I would like to have the list of the dowry so that I have time to organize myself and so leaves the girl marie see her parents the mother will have gold has already spoken to her father like what yeah your daughter still grew up in marana a man who plans to marry her later with the day before already knowing so when we are the girl comes to tell her that yes my boyfriend my fiancé or my boyfriend because they are not confident and yeah my boyfriend would like to have the list and the dowry so the dad being people running because the mother to tell what happened so he will go talk to the uncles of the girl of which we must not forget that it is really a family ceremony in this more how the whole family so they will do a little hour and not in family in which they have drawn up the list of there others once the list of the dowry is done well he will give the girl who will give to her boyfriend to her future husband so in this list in particular we find them it really depends on the cultures at home on my father's side I know that the list will be negotiated for example so on my father's side we are used to receiving the game the family before the dowry we are used to having a small meeting in which we receive the family of the man of the future son-in-law pillon we try to discuss the dowry pretty sure that I hope he offers you what I mean we discuss the teenagers in the sense that well we made a list that has a budget it is sure that they have a budget to be able to wait for all the extras the list but there is always a discussion it is argued on my father's side which means that the in-laws can say no given the possibilities of our child I think that it is going too you know too high for us the price is too high or the list is too long so the family so the in-laws the girl's family will organize themselves to try to reduce the number of items on the list of patients so that the man is not blocked or in such a way that who is not too difficult to impose his end that I am on my father's side on my mother's side I just know that the person respects exactly the list that is given to him but I can make my father doubt so on my father's side I know as I explained to you it is negotiated once the negotiations are done the family on the man's side the woman agrees and in the man's family saouasiah with the list negotiates so the list that corresponds to the possibilities of the young man is what I still eat wet what makes my suitcase has so once the in-laws have received the Belgian list in homage to a young man has all the time it takes to buy what will ensure the rooms a little about that friends do not put pressure on yourself like what yeah it's been two years for example become has still not done you have still not endowed taf late no we really have time for the henchman time for the man to fill in the articles to fill in what is requested on the list so the family the beast friends put you no pressure you really take the time it takes the main thing is to fill in the requested items it really leaves to bring everything that is requested on the list so once the man is ready well and comes his girlfriend like what I am ready I am ready sorry do what makes the girl will knock down parents yes my boyfriend is ready he has all the items are on the list so what time would suit you for them to come is there that the girl's family because we will consult together then they will set a specific date for the dowry sealing this date there that the man will come with everything that is requested on the list then presented each item to the family so the day of the once the date has been chosen it is really a very very big friendly ceremony with drink to eat does the girl's family organize everything in fact they will do everything to welcome the family the in-laws all their friends of the young man of future son-in-law they will cook will really have a very big ceremony [Music] it happens normally evening in most women and African women at home it happens in the evening made the woman's family by kitchen and there they will make specific uniforms angel uniform of African outfits specific for the members of the family the women the men who will wear in straw it is really a very big demo nor suitable viable everyone eats all my wood then at certain times of the evening in the family the in-laws the family of the young man presents themselves who normally the man the future I said nothing it is his uncles his members of the family that the companion who have the floor during the ceremony makes that the young men the family of the young man will present yes my we came there is a time for us to list it then we are finally here to present the items on the list as agreed then on the side of life also according to the umq who will who will take care of the ceremony including who will say ok by ok it's good you are ready we will proceed to the check-in done that he will take the list since the in-laws family of the woman always keeps a copy they will take the list will be able to check off as they go along so as they go along that in what I mean by that is that they will take the list and hook as they go along so as they go along that the man brings the thing and cauchy coach during the ceremony like he presents everything in the middle of people in the middle of the room or the courtyard launches me into the race in front of the man brings all the things then the man's family starts to check off to agree to be sure that the man has respected everything that was listed on the list so here once these moments have passed we have put all the things down then in all the world is happy everyone is joyful le mans respect everything that is asked now the fateful moment arrives the moment he must choose he must recognize his wife among so many women it is really a pretty cool pretty funny moment because no it is really a test in fact I remember that it is a test to see if you really know your wife the one on my mother's side what we often do what we represent all the young girls in the family covered all veiled we see absolutely nothing then most of them the right tone the orthez we will just show the toes of these women there but it will be up to the man to recognize the toes of his wife among all the women it is really funny but before arriving at this moment where we bring the girls the aunt of the young girl will come to make a little speech to the marketing what to produce were your daughter your future wife our daughter in your future wife is not here at the moment finally then a little money to go and get her in the village or brel to look for law is at the moment made that the man really has to come bomb is still there the man in a little money it happens that the attempted does not come back again in vain that a second reason like what in the end it is not there we have just said that she still has households and that she still left manceaux have only to find the millions of km2 I ask you and finally it will be necessary to increase a little money while I still had some increase a little money and so she will return it is there so she will it relaxes family atammik they do two to three times maximum but it is on my mother's side in fact twice knows that the future awaits her a second time to ask for soup that is where she will look for all the young girls that we can choose among them in the wall to choose his end so we present all the veiled girls as I say we will go nothing except the toes then it will be up to the man become choose his wife globes if a man is mistaken the brooch which rhdp still to go and look for his end if they will be they pay that he has in return we go back again we go back again in quarrel a little how the who was classified then we lie to them again until we have found his girlfriend at the ceremony one will continue so we go back in fact the same thing until the report of his wife that he does again so that we will still look for his wife does he repeats then we will engage the classification we will start again from zero he will have to choose again among all these women but once the man has chosen his wife beth has made a great joy the attraction takes her boyfriend in her arms then that's it which is takes a protocol in rap scene usa either right next to her boyfriend because normally there is a thing of there is a kind of two chairs like in the middle which means that the man will not be on the side of the woman the other side mom the beta man it's yours then the woman on the left what happens on my mother's side so yeah once once the woman would be seated near her husband that's where the woman's family will ask her for her name asked me is this soon to be husband is this really him the order that you chose the ram go ahead yes saying yes she will bring back a kind of a kind of traditional bribe that gave me to her husband and will make him drink to really show the family he is the man that I choose he is the man of my life he is the one I want that with him I want to build my life it is with him that I will live more wrong so here I will spare you a little of the details of what happens is that people eat people dance beef here it goes more or less that the ceremony the dowry then yeah so it's not bad it will be even friendly ceremony where the 2 family got together and families take like get to know each other it's really a greenhouse but very very friendly I want to clarify that it is not a business like most people records yes we sell our daughter to our in-laws no it is really a very very important tradition curiously in Africa for me I do not see myself married at the town hall before being married traditionally because it is a tradition and it must be respected as long as that is it will be the end of the video where I hope that the video goes more to us do not hesitate to mark a comment if I forgot a certain part or if I made a mistake it could happen starized that I had to participate remotely and very small which means that I really do not remember the whole ceremony of all the stages of the ceremony but I made you a short summary of what happens on the dowry especially do not hesitate to subscribe to activate the notification bell so as not to miss but video as soon as I think of one to subscribe if it is not yet done to share to like also then we said to each other until the next one for a new video [Music]\n"
     ]
    }
   ],
   "source": [
    "from youtube_transcript_api import YouTubeTranscriptApi,  NoTranscriptFound\n",
    "from deep_translator import GoogleTranslator\n",
    "from pytube import YouTube\n",
    "\n",
    "def get_transcription(video_id, target_language):\n",
    "    max_chars = 4998\n",
    "    translator = GoogleTranslator(source='auto', target=target_language)\n",
    "\n",
    "    try:\n",
    "        # Get the transcript using the YouTubeTranscriptApi\n",
    "        transcript = YouTubeTranscriptApi.get_transcript(video_id, languages=languages_targets)\n",
    "\n",
    "        # Combine the transcript text\n",
    "        transcript_text = \" \".join([entry['text'] for entry in transcript])\n",
    "        \n",
    "        #  GoogleTranslator has a max size limitation to make text translation.\n",
    "        if len(transcript_text) >= max_chars:\n",
    "            #  Split into shunk, translate shunk and join them\n",
    "            text_shunk = split_into_chunks(transcript_text, max_chars) \n",
    "            text_shunk_en = [translator.translate(shunk) for shunk in text_shunk]\n",
    "            transcript_text = \" \".join(text_shunk_en)\n",
    "            \n",
    "            return transcript_text\n",
    "        \n",
    "        # Translate the transcript using GoogleTranslator from deep-translator\n",
    "        translated_transcript = translator.translate(transcript_text)\n",
    "\n",
    "        return translated_transcript\n",
    "    except NoTranscriptFound:\n",
    "        print(f\"No transcript found for video ID: {video_id}\")\n",
    "        return None\n",
    "\n",
    "# Example usage\n",
    "# video_url = \"dQw4w9WgXcQ\" , \"UG6y-k59Hps\"\n",
    "translated_text =  get_transcription(\"UxaQRKVeWnY\", 'en')\n",
    "print(translated_text)\n"
   ]
  },
  {
   "cell_type": "code",
   "execution_count": 244,
   "id": "525ea16e",
   "metadata": {},
   "outputs": [
    {
     "name": "stdout",
     "output_type": "stream",
     "text": [
      "Le mariage traditionnel dans le Wassoulou par le Programme 'Marketing Territorial Mali' the wasouou marriage is rich in Conie most of the traditional marriage rituals are intended for the woman to remember her great responsibility in the [Music] foyeribala one of the many villages of wasouou belongs to the commune of deorolé in the circle of yfolida the marriages they are generally celebrated in a traditional way for this specific marriage the groom chose to celebrate a civil marriage at the town hall of sucorolé a rarity in the locality [Music] [Music] after the town hall the traditional ritual finally begins in moribala as in many others villages marriage unites two families and not only two individuals the woman is given not to a man but to his family the ceremonies extend over 3 days the main rituals take place on the 2nd day the first evening is dedicated to music in the family of the bride a party where young girls and women dance to traditional sounds and music from the [Music] world the next day the rituals begin with the bride's lunch who receives the first handful of food from the hands of one of the sisters of her future husband accompanied by the blessings of these tents surrounded by these tents the bride listens to explanations on the foundations of marriage words imbued with emotions which often make her cry and call her to order you come from a family where women have respected the foundations of marriage if you have these commitments the whole family will never forgive you a bouquet made up of four shea leaves of a l Caleb and a wooden capsule night r the shea leaves symbolize levitity as indicates its name in missing the calabas used as a ladle is used to prepare the first porridge that the bride offers to her husband the slightly bitter gû of the calabas New reminds us that marriage can experience difficult times but that it must be nourished despite all according to other beliefs this ladle is kept until the death of the husband to wash his body thus symbolizing a marriage hidden until death and the wooden spatula carved from the same type of wood used to cover tombs highlights that the marriage is made to last a lifetime the great aunts dress the bride in white symbol of purity a tent ties the loincloth around his waist three times but only fixes it at the 4th symbolizing femininity and by extension the sun his Mo the original womb before leaving the Mary squats in front of the house where the men of her family are gathered he announces to her that her note has been accepted and consumed and that she can now join her husband accompanied by blessing [Music] friends of the groom come to pick up the bride in botau forming a procession between the two families [Music] at the door of the family of an uncle of the groom the women welcome the bride with songs and dances in the host family an infant is placed on her back when she enters her room a ritual to increase her fertility the tents of the groom's family observes her every gesture to deduce prices the bride has kept in this family where she receives the advice of relaxation this time - this on the side of her husband on the rules and obligations of his new [Music] life the groom accompanied by his friends comes to greet the uncles and aunts thus asking permission to spend a moment with his new wife the same evening a musical evening is organized in the groom's family where he can bring his wife with permission the next day the bride is taken at the end of the afternoon to her husband's family accompanied by a procession of women and young girls her bouquet is given to the first person met whose sex predicts that of her first child the charity leaves are hung on the roof of the couple's house the Mary must then fill the Jard of the first married woman of the court a ritual closely observed by wise women these gestures reveal her personality and allow the older women of the court to better advise her the next day she washes the clothes of the whole family helped by her little sisters her friends and the woman whose marriage precedes hers she then stays housed in the house of one of the mothers-in-law of the court to receive teachings on marriage during this period which can last up to a week she can discuss with her husband who visits her without consummating the marriage their behavior being scrutinized in the couples there are misunderstandings or difficulties in a marriage celebrated in the traditional way in the different rituals allow more safeguards to be put in place for a happy and lasting union\n",
      "LE MARIAGE TRADITIONNEL EN AFRIQUE : LA DOT || JE VOUS DIS TOUT|| YaSarah I don't say all in common except at the mit [Music] in the water everyone welcome to all on my youtube channel so we turn today for a new video in which he decided to explain to you the process of traditional marriage in Africa precisely in my country unless the democratic republic of congo in kinshasa does that in africa so I explained to you the dowry in relation to the ceremonies kg eu to attend I want to clarify I am not an expert on dowries I just want to share my experience with you my experience I attended several to several ceremonies doubts when I was very young which means that I still have enough notions in relation to that which is also it is a ceremony that will be special the region of my mother my mother who is from the handling more precisely who is from the mouret tribe guy that is who makes that I have more attend words the judge side blu ray gackou on the side of my father who is my baby but I still know some certain principles of dumas the traditional my baby that I will tell you about in this video in the meantime but I want to clarify that I did not have to participate or even polka dots I really did not have to participate in special weddings from my father's side beautiful baby but that's it so I am not an expert if you have suggestions regarding ceremonies do not hesitate to let me manage otherwise it is really a wedding that happens like in the DRC will not be in all African countries it happens the same way it is especially we have c on my mother's side so it is this video you are interested stay connected and for old and new subscribers I say thank you very much for your encouragement thank you very much for your comments your likes and your views do not hesitate to subscribe to like and apart from this video if the video is sure if he means it is the video [Music] your captures or catch do not hesitate to share it so the video then the marriage is sealed by several ceremonies the most important of which will be the mole what is the dowry the dowry is not like many people imagine the fact of selling to sell in the family van the woman to sound no it is not the purchase of a woman people it will be really more it is really more to more a deeper meaning it will flags of the oilskins the alliance between the man and the woman but also of the striped the two families it is really the union of two families whose children it is married in Africa the dowry will have a very very great importance compared to the skin marriage in the church or still loved the festivals that we give the dowry to the family of the woman it simply means that the woman plays a very important role in her group but also in the African family most Africans will want to marry traditionally not what it really represents a very important marriage for me the sailors this staff will have more importance than a roadblock at the town hall or still in front of the church because it is really the union of two families traditionally then the union of a couple it is really a ceremony not to be missed at so much that African a mandatory ceremony because it will be more important than any other wedding ceremony so I will explain to you the harmony of the dowry at home I on my mother's side so blind to others do not arrive first the man before the date and after others are called after in the after note the young girl amen first warn her parents like what I meet a gentleman a young man who interests me well with I am well and with whom I intend to start a family make my life later with the parents organize themselves to welcome the man it will be the president so the man will come come meet the family in particular normally the man meets the family just with the sea it is just the sea and the man who meet without blood being running or even the dad it is just the mother of the girl who will meet the man in question and her daughter so it is a ceremony it is not really a great harmony it is just a kind of presentation between mother-in-law and bobo son so a man introduced himself by saying yes my name is such and such for example I am your daughter's current man so it is me who takes care of your daughter at the moment it is me who will be in your daughter at the moment then normally the man brings this envelope in relation to his possibilities I want to clarify it is really not important who will be required by the mother no it is in relation to his possibilities that the man brings an envelope when he goes to present himself to his mother-in-law as a sign of his love or even out of respect for the in-laws it is after this pre-dowry meeting that the man returns to his corner he thinks pissing realizes that it is really Alice's wife is really the woman with whom he wants to live his life later well he comes his girlfriend he tells her I would like to receive the family list for the dowry I would like to have the list of the dowry so that I have time to organize myself and so leaves the girl marie see her parents the mother will have gold has already spoken to her father like what yeah your daughter still grew up in marana a man who plans to marry her later with the day before already knowing so when we are the girl comes to tell her that yes my boyfriend my fiancé or my boyfriend because they are not confident and yeah my boyfriend would like to have the list and the dowry so the dad being people running because the mother to tell what happened so he will go talk to the uncles of the girl of which we must not forget that it is really a family ceremony in this more how the whole family so they will do a little hour and not in family in which they have drawn up the list of there others once the list of the dowry is done well he will give the girl who will give to her boyfriend to her future husband so in this list in particular we find them it really depends on the cultures at home on my father's side I know that the list will be negotiated for example so on my father's side we are used to receiving the game the family before the dowry we are used to having a small meeting in which we receive the family of the man of the future son-in-law pillon we try to discuss the dowry pretty sure that I hope he offers you what I mean we discuss the teenagers in the sense that well we made a list that has a budget it is sure that they have a budget to be able to wait for all the extras the list but there is always a discussion it is argued on my father's side which means that the in-laws can say no given the possibilities of our child I think that it is going too you know too high for us the price is too high or the list is too long so the family so the in-laws the girl's family will organize themselves to try to reduce the number of items on the list of patients so that the man is not blocked or in such a way that who is not too difficult to impose his end that I am on my father's side on my mother's side I just know that the person respects exactly the list that is given to him but I can make my father doubt so on my father's side I know as I explained to you it is negotiated once the negotiations are done the family on the man's side the woman agrees and in the man's family saouasiah with the list negotiates so the list that corresponds to the possibilities of the young man is what I still eat wet what makes my suitcase has so once the in-laws have received the Belgian list in homage to a young man has all the time it takes to buy what will ensure the rooms a little about that friends do not put pressure on yourself like what yeah it's been two years for example become has still not done you have still not endowed taf late no we really have time for the henchman time for the man to fill in the articles to fill in what is requested on the list so the family the beast friends put you no pressure you really take the time it takes the main thing is to fill in the requested items it really leaves to bring everything that is requested on the list so once the man is ready well and comes his girlfriend like what I am ready I am ready sorry do what makes the girl will knock down parents yes my boyfriend is ready he has all the items are on the list so what time would suit you for them to come is there that the girl's family because we will consult together then they will set a specific date for the dowry sealing this date there that the man will come with everything that is requested on the list then presented each item to the family so the day of the once the date has been chosen it is really a very very big friendly ceremony with drink to eat does the girl's family organize everything in fact they will do everything to welcome the family the in-laws all their friends of the young man of future son-in-law they will cook will really have a very big ceremony [Music] it happens normally evening in most women and African women at home it happens in the evening made the woman's family by kitchen and there they will make specific uniforms angel uniform of African outfits specific for the members of the family the women the men who will wear in straw it is really a very big demo nor suitable viable everyone eats all my wood then at certain times of the evening in the family the in-laws the family of the young man presents themselves who normally the man the future I said nothing it is his uncles his members of the family that the companion who have the floor during the ceremony makes that the young men the family of the young man will present yes my we came there is a time for us to list it then we are finally here to present the items on the list as agreed then on the side of life also according to the umq who will who will take care of the ceremony including who will say ok by ok it's good you are ready we will proceed to the check-in done that he will take the list since the in-laws family of the woman always keeps a copy they will take the list will be able to check off as they go along so as they go along that in what I mean by that is that they will take the list and hook as they go along so as they go along that the man brings the thing and cauchy coach during the ceremony like he presents everything in the middle of people in the middle of the room or the courtyard launches me into the race in front of the man brings all the things then the man's family starts to check off to agree to be sure that the man has respected everything that was listed on the list so here once these moments have passed we have put all the things down then in all the world is happy everyone is joyful le mans respect everything that is asked now the fateful moment arrives the moment he must choose he must recognize his wife among so many women it is really a pretty cool pretty funny moment because no it is really a test in fact I remember that it is a test to see if you really know your wife the one on my mother's side what we often do what we represent all the young girls in the family covered all veiled we see absolutely nothing then most of them the right tone the orthez we will just show the toes of these women there but it will be up to the man to recognize the toes of his wife among all the women it is really funny but before arriving at this moment where we bring the girls the aunt of the young girl will come to make a little speech to the marketing what to produce were your daughter your future wife our daughter in your future wife is not here at the moment finally then a little money to go and get her in the village or brel to look for law is at the moment made that the man really has to come bomb is still there the man in a little money it happens that the attempted does not come back again in vain that a second reason like what in the end it is not there we have just said that she still has households and that she still left manceaux have only to find the millions of km2 I ask you and finally it will be necessary to increase a little money while I still had some increase a little money and so she will return it is there so she will it relaxes family atammik they do two to three times maximum but it is on my mother's side in fact twice knows that the future awaits her a second time to ask for soup that is where she will look for all the young girls that we can choose among them in the wall to choose his end so we present all the veiled girls as I say we will go nothing except the toes then it will be up to the man become choose his wife globes if a man is mistaken the brooch which rhdp still to go and look for his end if they will be they pay that he has in return we go back again we go back again in quarrel a little how the who was classified then we lie to them again until we have found his girlfriend at the ceremony one will continue so we go back in fact the same thing until the report of his wife that he does again so that we will still look for his wife does he repeats then we will engage the classification we will start again from zero he will have to choose again among all these women but once the man has chosen his wife beth has made a great joy the attraction takes her boyfriend in her arms then that's it which is takes a protocol in rap scene usa either right next to her boyfriend because normally there is a thing of there is a kind of two chairs like in the middle which means that the man will not be on the side of the woman the other side mom the beta man it's yours then the woman on the left what happens on my mother's side so yeah once once the woman would be seated near her husband that's where the woman's family will ask her for her name asked me is this soon to be husband is this really him the order that you chose the ram go ahead yes saying yes she will bring back a kind of a kind of traditional bribe that gave me to her husband and will make him drink to really show the family he is the man that I choose he is the man of my life he is the one I want that with him I want to build my life it is with him that I will live more wrong so here I will spare you a little of the details of what happens is that people eat people dance beef here it goes more or less that the ceremony the dowry then yeah so it's not bad it will be even friendly ceremony where the 2 family got together and families take like get to know each other it's really a greenhouse but very very friendly I want to clarify that it is not a business like most people records yes we sell our daughter to our in-laws no it is really a very very important tradition curiously in Africa for me I do not see myself married at the town hall before being married traditionally because it is a tradition and it must be respected as long as that is it will be the end of the video where I hope that the video goes more to us do not hesitate to mark a comment if I forgot a certain part or if I made a mistake it could happen starized that I had to participate remotely and very small which means that I really do not remember the whole ceremony of all the stages of the ceremony but I made you a short summary of what happens on the dowry especially do not hesitate to subscribe to activate the notification bell so as not to miss but video as soon as I think of one to subscribe if it is not yet done to share to like also then we said to each other until the next one for a new video [Music]\n"
     ]
    }
   ],
   "source": [
    "def transcriptions_shunk_list(json_video_path):\n",
    "    \"\"\"\n",
    "    From a JSON file of video, give a list of shunks\n",
    "    Parameters:\n",
    "    - json_video_path: Path to the JSON file.\n",
    "\n",
    "    Returns:\n",
    "    - transcription_chunks: List of Shunks.\n",
    "    \"\"\"\n",
    "    \n",
    "    target_language = 'en'\n",
    "    translator = GoogleTranslator(source='auto', target=target_language)\n",
    "    \n",
    "    # Get array of Youtube videos list\n",
    "    _, data = load_json_to_dataframe(json_video_path)\n",
    "    \n",
    "    # Prepare chunks with metadata\n",
    "    transcription_chunks = []\n",
    "    \n",
    "    # Get the transcript for each videos\n",
    "    for video in data['videos']:\n",
    "        \n",
    "        # Extract the video ID from the URL\n",
    "        video_url=video['url']\n",
    "        video_id = video_url.split('v=')[-1]\n",
    "        \n",
    "        # Get the full transcript for single video\n",
    "        translated_text = get_transcription(video_id, target_language=target_language)\n",
    "        \n",
    "        if translated_text is None:\n",
    "            continue  # Skip this video if no transcript is found\n",
    "        \n",
    "        print(video['title'], translated_text)\n",
    "        # Shunk the transtription\n",
    "        chunks = split_into_chunks(translated_text, max_chunk_size)\n",
    "            \n",
    "        for _, chunk in enumerate(chunks):\n",
    "            transcription_chunks.append({\n",
    "                'video_id': video_id,\n",
    "                'title': translator.translate(video['title']),\n",
    "                'sentence_chunk': chunk,\n",
    "                'chunk_char_count': len(chunk),\n",
    "                'chunk_word_count': len(chunk.split()),\n",
    "                'chunk_token_count': len(chunk) / token_char_ratio\n",
    "            })\n",
    "        \n",
    "    \n",
    "    return transcription_chunks\n",
    "\n",
    "json_video_path = \"./Transcript_path/Videos.json\"\n",
    "videos_shunk_list = transcriptions_shunk_list(json_video_path)"
   ]
  },
  {
   "cell_type": "code",
   "execution_count": 245,
   "id": "f09660f9",
   "metadata": {},
   "outputs": [
    {
     "data": {
      "text/plain": [
       "[{'video_id': 'UG6y-k59Hps',\n",
       "  'title': \"Traditional marriage in Wassoulou by the 'Territorial Marketing Mali' Program\",\n",
       "  'sentence_chunk': \"the wasouou marriage is rich in Conie most of the traditional marriage rituals are intended for the woman to remember her great responsibility in the [Music] foyeribala one of the many villages of wasouou belongs to the commune of deorolé in the circle of yfolida the marriages they are generally celebrated in a traditional way for this specific marriage the groom chose to celebrate a civil marriage at the town hall of sucorolé a rarity in the locality [Music] [Music] after the town hall the traditional ritual finally begins in moribala as in many others villages marriage unites two families and not only two individuals the woman is given not to a man but to his family the ceremonies extend over 3 days the main rituals take place on the 2nd day the first evening is dedicated to music in the family of the bride a party where young girls and women dance to traditional sounds and music from the [Music] world the next day the rituals begin with the bride's lunch who receives the first handful of food from the hands of one of the sisters of her future husband accompanied by the blessings of these tents surrounded by these tents the bride listens to explanations on the foundations of marriage words imbued with emotions which often make her cry and call her to order you come from a family where women have respected the foundations of marriage if you have these commitments the whole family will never forgive you a bouquet made up of four shea leaves of a l Caleb and a wooden capsule night r the shea leaves symbolize\",\n",
       "  'chunk_char_count': 1532,\n",
       "  'chunk_word_count': 273,\n",
       "  'chunk_token_count': 383.0},\n",
       " {'video_id': 'UG6y-k59Hps',\n",
       "  'title': \"Traditional marriage in Wassoulou by the 'Territorial Marketing Mali' Program\",\n",
       "  'sentence_chunk': \"levitity as indicates its name in missing the calabas used as a ladle is used to prepare the first porridge that the bride offers to her husband the slightly bitter gû of the calabas New reminds us that marriage can experience difficult times but that it must be nourished despite all according to other beliefs this ladle is kept until the death of the husband to wash his body thus symbolizing a marriage hidden until death and the wooden spatula carved from the same type of wood used to cover tombs highlights that the marriage is made to last a lifetime the great aunts dress the bride in white symbol of purity a tent ties the loincloth around his waist three times but only fixes it at the 4th symbolizing femininity and by extension the sun his Mo the original womb before leaving the Mary squats in front of the house where the men of her family are gathered he announces to her that her note has been accepted and consumed and that she can now join her husband accompanied by blessing [Music] friends of the groom come to pick up the bride in botau forming a procession between the two families [Music] at the door of the family of an uncle of the groom the women welcome the bride with songs and dances in the host family an infant is placed on her back when she enters her room a ritual to increase her fertility the tents of the groom's family observes her every gesture to deduce prices the bride has kept in this family where she receives the advice of relaxation this time - this on the side of her husband on the rules\",\n",
       "  'chunk_char_count': 1535,\n",
       "  'chunk_word_count': 286,\n",
       "  'chunk_token_count': 383.75},\n",
       " {'video_id': 'UG6y-k59Hps',\n",
       "  'title': \"Traditional marriage in Wassoulou by the 'Territorial Marketing Mali' Program\",\n",
       "  'sentence_chunk': \"and obligations of his new [Music] life the groom accompanied by his friends comes to greet the uncles and aunts thus asking permission to spend a moment with his new wife the same evening a musical evening is organized in the groom's family where he can bring his wife with permission the next day the bride is taken at the end of the afternoon to her husband's family accompanied by a procession of women and young girls her bouquet is given to the first person met whose sex predicts that of her first child the charity leaves are hung on the roof of the couple's house the Mary must then fill the Jard of the first married woman of the court a ritual closely observed by wise women these gestures reveal her personality and allow the older women of the court to better advise her the next day she washes the clothes of the whole family helped by her little sisters her friends and the woman whose marriage precedes hers she then stays housed in the house of one of the mothers-in-law of the court to receive teachings on marriage during this period which can last up to a week she can discuss with her husband who visits her without consummating the marriage their behavior being scrutinized in the couples there are misunderstandings or difficulties in a marriage celebrated in the traditional way in the different rituals allow more safeguards to be put in place for a happy and lasting union\",\n",
       "  'chunk_char_count': 1398,\n",
       "  'chunk_word_count': 251,\n",
       "  'chunk_token_count': 349.5},\n",
       " {'video_id': 'UxaQRKVeWnY',\n",
       "  'title': 'TRADITIONAL MARRIAGE IN AFRICA: THE DOWRY || I TELL YOU EVERYTHING|| YaSarah',\n",
       "  'sentence_chunk': \"I don't say all in common except at the mit [Music] in the water everyone welcome to all on my youtube channel so we turn today for a new video in which he decided to explain to you the process of traditional marriage in Africa precisely in my country unless the democratic republic of congo in kinshasa does that in africa so I explained to you the dowry in relation to the ceremonies kg eu to attend I want to clarify I am not an expert on dowries I just want to share my experience with you my experience I attended several to several ceremonies doubts when I was very young which means that I still have enough notions in relation to that which is also it is a ceremony that will be special the region of my mother my mother who is from the handling more precisely who is from the mouret tribe guy that is who makes that I have more attend words the judge side blu ray gackou on the side of my father who is my baby but I still know some certain principles of dumas the traditional my baby that I will tell you about in this video in the meantime but I want to clarify that I did not have to participate or even polka dots I really did not have to participate in special weddings from my father's side beautiful baby but that's it so I am not an expert if you have suggestions regarding ceremonies do not hesitate to let me manage otherwise it is really a wedding that happens like in the DRC will not be in all African countries it happens the same way it is especially we have c on my mother's side so it is this video you are\",\n",
       "  'chunk_char_count': 1532,\n",
       "  'chunk_word_count': 301,\n",
       "  'chunk_token_count': 383.0},\n",
       " {'video_id': 'UxaQRKVeWnY',\n",
       "  'title': 'TRADITIONAL MARRIAGE IN AFRICA: THE DOWRY || I TELL YOU EVERYTHING|| YaSarah',\n",
       "  'sentence_chunk': 'interested stay connected and for old and new subscribers I say thank you very much for your encouragement thank you very much for your comments your likes and your views do not hesitate to subscribe to like and apart from this video if the video is sure if he means it is the video [Music] your captures or catch do not hesitate to share it so the video then the marriage is sealed by several ceremonies the most important of which will be the mole what is the dowry the dowry is not like many people imagine the fact of selling to sell in the family van the woman to sound no it is not the purchase of a woman people it will be really more it is really more to more a deeper meaning it will flags of the oilskins the alliance between the man and the woman but also of the striped the two families it is really the union of two families whose children it is married in Africa the dowry will have a very very great importance compared to the skin marriage in the church or still loved the festivals that we give the dowry to the family of the woman it simply means that the woman plays a very important role in her group but also in the African family most Africans will want to marry traditionally not what it really represents a very important marriage for me the sailors this staff will have more importance than a roadblock at the town hall or still in front of the church because it is really the union of two families traditionally then the union of a couple it is really a ceremony not to be missed at so much that African a',\n",
       "  'chunk_char_count': 1531,\n",
       "  'chunk_word_count': 296,\n",
       "  'chunk_token_count': 382.75},\n",
       " {'video_id': 'UxaQRKVeWnY',\n",
       "  'title': 'TRADITIONAL MARRIAGE IN AFRICA: THE DOWRY || I TELL YOU EVERYTHING|| YaSarah',\n",
       "  'sentence_chunk': \"mandatory ceremony because it will be more important than any other wedding ceremony so I will explain to you the harmony of the dowry at home I on my mother's side so blind to others do not arrive first the man before the date and after others are called after in the after note the young girl amen first warn her parents like what I meet a gentleman a young man who interests me well with I am well and with whom I intend to start a family make my life later with the parents organize themselves to welcome the man it will be the president so the man will come come meet the family in particular normally the man meets the family just with the sea it is just the sea and the man who meet without blood being running or even the dad it is just the mother of the girl who will meet the man in question and her daughter so it is a ceremony it is not really a great harmony it is just a kind of presentation between mother-in-law and bobo son so a man introduced himself by saying yes my name is such and such for example I am your daughter's current man so it is me who takes care of your daughter at the moment it is me who will be in your daughter at the moment then normally the man brings this envelope in relation to his possibilities I want to clarify it is really not important who will be required by the mother no it is in relation to his possibilities that the man brings an envelope when he goes to present himself to his mother-in-law as a sign of his love or even out of respect for the in-laws it is after this pre-dowry\",\n",
       "  'chunk_char_count': 1533,\n",
       "  'chunk_word_count': 304,\n",
       "  'chunk_token_count': 383.25},\n",
       " {'video_id': 'UxaQRKVeWnY',\n",
       "  'title': 'TRADITIONAL MARRIAGE IN AFRICA: THE DOWRY || I TELL YOU EVERYTHING|| YaSarah',\n",
       "  'sentence_chunk': \"meeting that the man returns to his corner he thinks pissing realizes that it is really Alice's wife is really the woman with whom he wants to live his life later well he comes his girlfriend he tells her I would like to receive the family list for the dowry I would like to have the list of the dowry so that I have time to organize myself and so leaves the girl marie see her parents the mother will have gold has already spoken to her father like what yeah your daughter still grew up in marana a man who plans to marry her later with the day before already knowing so when we are the girl comes to tell her that yes my boyfriend my fiancé or my boyfriend because they are not confident and yeah my boyfriend would like to have the list and the dowry so the dad being people running because the mother to tell what happened so he will go talk to the uncles of the girl of which we must not forget that it is really a family ceremony in this more how the whole family so they will do a little hour and not in family in which they have drawn up the list of there others once the list of the dowry is done well he will give the girl who will give to her boyfriend to her future husband so in this list in particular we find them it really depends on the cultures at home on my father's side I know that the list will be negotiated for example so on my father's side we are used to receiving the game the family before the dowry we are used to having a small meeting in which we receive the family of the man of the future son-in-law\",\n",
       "  'chunk_char_count': 1532,\n",
       "  'chunk_word_count': 308,\n",
       "  'chunk_token_count': 383.0},\n",
       " {'video_id': 'UxaQRKVeWnY',\n",
       "  'title': 'TRADITIONAL MARRIAGE IN AFRICA: THE DOWRY || I TELL YOU EVERYTHING|| YaSarah',\n",
       "  'sentence_chunk': \"pillon we try to discuss the dowry pretty sure that I hope he offers you what I mean we discuss the teenagers in the sense that well we made a list that has a budget it is sure that they have a budget to be able to wait for all the extras the list but there is always a discussion it is argued on my father's side which means that the in-laws can say no given the possibilities of our child I think that it is going too you know too high for us the price is too high or the list is too long so the family so the in-laws the girl's family will organize themselves to try to reduce the number of items on the list of patients so that the man is not blocked or in such a way that who is not too difficult to impose his end that I am on my father's side on my mother's side I just know that the person respects exactly the list that is given to him but I can make my father doubt so on my father's side I know as I explained to you it is negotiated once the negotiations are done the family on the man's side the woman agrees and in the man's family saouasiah with the list negotiates so the list that corresponds to the possibilities of the young man is what I still eat wet what makes my suitcase has so once the in-laws have received the Belgian list in homage to a young man has all the time it takes to buy what will ensure the rooms a little about that friends do not put pressure on yourself like what yeah it's been two years for example become has still not done you have still not endowed taf late no we really have time for the\",\n",
       "  'chunk_char_count': 1534,\n",
       "  'chunk_word_count': 314,\n",
       "  'chunk_token_count': 383.5},\n",
       " {'video_id': 'UxaQRKVeWnY',\n",
       "  'title': 'TRADITIONAL MARRIAGE IN AFRICA: THE DOWRY || I TELL YOU EVERYTHING|| YaSarah',\n",
       "  'sentence_chunk': \"henchman time for the man to fill in the articles to fill in what is requested on the list so the family the beast friends put you no pressure you really take the time it takes the main thing is to fill in the requested items it really leaves to bring everything that is requested on the list so once the man is ready well and comes his girlfriend like what I am ready I am ready sorry do what makes the girl will knock down parents yes my boyfriend is ready he has all the items are on the list so what time would suit you for them to come is there that the girl's family because we will consult together then they will set a specific date for the dowry sealing this date there that the man will come with everything that is requested on the list then presented each item to the family so the day of the once the date has been chosen it is really a very very big friendly ceremony with drink to eat does the girl's family organize everything in fact they will do everything to welcome the family the in-laws all their friends of the young man of future son-in-law they will cook will really have a very big ceremony [Music] it happens normally evening in most women and African women at home it happens in the evening made the woman's family by kitchen and there they will make specific uniforms angel uniform of African outfits specific for the members of the family the women the men who will wear in straw it is really a very big demo nor suitable viable everyone eats all my wood then at certain times of the evening in the family\",\n",
       "  'chunk_char_count': 1535,\n",
       "  'chunk_word_count': 295,\n",
       "  'chunk_token_count': 383.75},\n",
       " {'video_id': 'UxaQRKVeWnY',\n",
       "  'title': 'TRADITIONAL MARRIAGE IN AFRICA: THE DOWRY || I TELL YOU EVERYTHING|| YaSarah',\n",
       "  'sentence_chunk': \"the in-laws the family of the young man presents themselves who normally the man the future I said nothing it is his uncles his members of the family that the companion who have the floor during the ceremony makes that the young men the family of the young man will present yes my we came there is a time for us to list it then we are finally here to present the items on the list as agreed then on the side of life also according to the umq who will who will take care of the ceremony including who will say ok by ok it's good you are ready we will proceed to the check-in done that he will take the list since the in-laws family of the woman always keeps a copy they will take the list will be able to check off as they go along so as they go along that in what I mean by that is that they will take the list and hook as they go along so as they go along that the man brings the thing and cauchy coach during the ceremony like he presents everything in the middle of people in the middle of the room or the courtyard launches me into the race in front of the man brings all the things then the man's family starts to check off to agree to be sure that the man has respected everything that was listed on the list so here once these moments have passed we have put all the things down then in all the world is happy everyone is joyful le mans respect everything that is asked now the fateful moment arrives the moment he must choose he must recognize his wife among so many women it is really a pretty cool pretty funny moment because\",\n",
       "  'chunk_char_count': 1535,\n",
       "  'chunk_word_count': 308,\n",
       "  'chunk_token_count': 383.75},\n",
       " {'video_id': 'UxaQRKVeWnY',\n",
       "  'title': 'TRADITIONAL MARRIAGE IN AFRICA: THE DOT || I TELL YOU EVERYTHING|| YaSarah',\n",
       "  'sentence_chunk': \"no it is really a test in fact I remember that it is a test to see if you really know your wife the one on my mother's side what we often do what we represent all the young girls in the family covered all veiled we see absolutely nothing then most of them the right tone the orthez we will just show the toes of these women there but it will be up to the man to recognize the toes of his wife among all the women it is really funny but before arriving at this moment where we bring the girls the aunt of the young girl will come to make a little speech to the marketing what to produce were your daughter your future wife our daughter in your future wife is not here at the moment finally then a little money to go and get her in the village or brel to look for law is at the moment made that the man really has to come bomb is still there the man in a little money it happens that the attempted does not come back again in vain that a second reason like what in the end it is not there we have just said that she still has households and that she still left manceaux have only to find the millions of km2 I ask you and finally it will be necessary to increase a little money while I still had some increase a little money and so she will return it is there so she will it relaxes family atammik they do two to three times maximum but it is on my mother's side in fact twice knows that the future awaits her a second time to ask for soup that is where she will look for all the young girls that we can choose among them in the wall to\",\n",
       "  'chunk_char_count': 1534,\n",
       "  'chunk_word_count': 318,\n",
       "  'chunk_token_count': 383.5},\n",
       " {'video_id': 'UxaQRKVeWnY',\n",
       "  'title': 'TRADITIONAL MARRIAGE IN AFRICA: THE DOWRY || I TELL YOU EVERYTHING|| YaSarah',\n",
       "  'sentence_chunk': \"choose his end so we present all the veiled girls as I say we will go nothing except the toes then it will be up to the man become choose his wife globes if a man is mistaken the brooch which rhdp still to go and look for his end if they will be they pay that he has in return we go back again we go back again in quarrel a little how the who was classified then we lie to them again until we have found his girlfriend at the ceremony one will continue so we go back in fact the same thing until the report of his wife that he does again so that we will still look for his wife does he repeats then we will engage the classification we will start again from zero he will have to choose again among all these women but once the man has chosen his wife beth has made a great joy the attraction takes her boyfriend in her arms then that's it which is takes a protocol in rap scene usa either right next to her boyfriend because normally there is a thing of there is a kind of two chairs like in the middle which means that the man will not be on the side of the woman the other side mom the beta man it's yours then the woman on the left what happens on my mother's side so yeah once once the woman would be seated near her husband that's where the woman's family will ask her for her name asked me is this soon to be husband is this really him the order that you chose the ram go ahead yes saying yes she will bring back a kind of a kind of traditional bribe that gave me to her husband and will make him drink to really show the family\",\n",
       "  'chunk_char_count': 1534,\n",
       "  'chunk_word_count': 317,\n",
       "  'chunk_token_count': 383.5},\n",
       " {'video_id': 'UxaQRKVeWnY',\n",
       "  'title': 'TRADITIONAL MARRIAGE IN AFRICA: THE DOWRY || I TELL YOU EVERYTHING|| YaSarah',\n",
       "  'sentence_chunk': \"he is the man that I choose he is the man of my life he is the one I want that with him I want to build my life it is with him that I will live more wrong so here I will spare you a little of the details of what happens is that people eat people dance beef here it goes more or less that the ceremony the dowry then yeah so it's not bad it will be even friendly ceremony where the 2 family got together and families take like get to know each other it's really a greenhouse but very very friendly I want to clarify that it is not a business like most people records yes we sell our daughter to our in-laws no it is really a very very important tradition curiously in Africa for me I do not see myself married at the town hall before being married traditionally because it is a tradition and it must be respected as long as that is it will be the end of the video where I hope that the video goes more to us do not hesitate to mark a comment if I forgot a certain part or if I made a mistake it could happen starized that I had to participate remotely and very small which means that I really do not remember the whole ceremony of all the stages of the ceremony but I made you a short summary of what happens on the dowry especially do not hesitate to subscribe to activate the notification bell so as not to miss but video as soon as I think of one to subscribe if it is not yet done to share to like also then we said to each other until the next one for a new video [Music]\",\n",
       "  'chunk_char_count': 1475,\n",
       "  'chunk_word_count': 305,\n",
       "  'chunk_token_count': 368.75}]"
      ]
     },
     "execution_count": 245,
     "metadata": {},
     "output_type": "execute_result"
    }
   ],
   "source": [
    "videos_shunk_list"
   ]
  },
  {
   "cell_type": "code",
   "execution_count": 249,
   "id": "ecd7f7d8",
   "metadata": {},
   "outputs": [],
   "source": [
    "videos_vectors = create_embeddings(embedding_model, videos_shunk_list)"
   ]
  },
  {
   "cell_type": "code",
   "execution_count": 250,
   "id": "b1b26027",
   "metadata": {},
   "outputs": [],
   "source": [
    "insert_to_qdriant(videos_vectors, videos_shunk_list)"
   ]
  },
  {
   "cell_type": "markdown",
   "id": "60d11a32",
   "metadata": {},
   "source": [
    "### Using streamlit for Interface connection"
   ]
  },
  {
   "cell_type": "code",
   "execution_count": 3,
   "id": "6e6a921f",
   "metadata": {},
   "outputs": [
    {
     "name": "stderr",
     "output_type": "stream",
     "text": [
      "2024-08-19 14:43:26.719 \n",
      "  \u001b[33m\u001b[1mWarning:\u001b[0m to view this Streamlit app on a browser, run it with the following\n",
      "  command:\n",
      "\n",
      "    streamlit run /Users/omer/anaconda3/lib/python3.11/site-packages/ipykernel_launcher.py [ARGUMENTS]\n",
      "2024-08-19 14:43:26.719 Session state does not function when running a script without `streamlit run`\n"
     ]
    },
    {
     "ename": "NameError",
     "evalue": "name 'llm' is not defined",
     "output_type": "error",
     "traceback": [
      "\u001b[0;31m---------------------------------------------------------------------------\u001b[0m",
      "\u001b[0;31mNameError\u001b[0m                                 Traceback (most recent call last)",
      "Cell \u001b[0;32mIn[3], line 49\u001b[0m\n\u001b[1;32m     46\u001b[0m         st\u001b[38;5;241m.\u001b[39msession_state\u001b[38;5;241m.\u001b[39mtoken_count \u001b[38;5;241m+\u001b[39m\u001b[38;5;241m=\u001b[39m cb\u001b[38;5;241m.\u001b[39mtotal_tokens\n\u001b[1;32m     48\u001b[0m load_css()\n\u001b[0;32m---> 49\u001b[0m initialize_session_state()\n\u001b[1;32m     51\u001b[0m st\u001b[38;5;241m.\u001b[39mtitle(\u001b[38;5;124m\"\u001b[39m\u001b[38;5;124mHello Custom CSS Chatbot 🤖\u001b[39m\u001b[38;5;124m\"\u001b[39m)\n\u001b[1;32m     53\u001b[0m chat_placeholder \u001b[38;5;241m=\u001b[39m st\u001b[38;5;241m.\u001b[39mcontainer()\n",
      "Cell \u001b[0;32mIn[3], line 30\u001b[0m, in \u001b[0;36minitialize_session_state\u001b[0;34m()\u001b[0m\n\u001b[1;32m     26\u001b[0m     st\u001b[38;5;241m.\u001b[39msession_state\u001b[38;5;241m.\u001b[39mtoken_count \u001b[38;5;241m=\u001b[39m \u001b[38;5;241m0\u001b[39m\n\u001b[1;32m     27\u001b[0m \u001b[38;5;28;01mif\u001b[39;00m \u001b[38;5;124m\"\u001b[39m\u001b[38;5;124mconversation\u001b[39m\u001b[38;5;124m\"\u001b[39m \u001b[38;5;129;01mnot\u001b[39;00m \u001b[38;5;129;01min\u001b[39;00m st\u001b[38;5;241m.\u001b[39msession_state:\n\u001b[1;32m     29\u001b[0m     st\u001b[38;5;241m.\u001b[39msession_state\u001b[38;5;241m.\u001b[39mconversation \u001b[38;5;241m=\u001b[39m ConversationChain(\n\u001b[0;32m---> 30\u001b[0m         llm\u001b[38;5;241m=\u001b[39mllm,\n\u001b[1;32m     31\u001b[0m         memory\u001b[38;5;241m=\u001b[39mConversationSummaryMemory(llm\u001b[38;5;241m=\u001b[39mllm),\n\u001b[1;32m     32\u001b[0m     )\n",
      "\u001b[0;31mNameError\u001b[0m: name 'llm' is not defined"
     ]
    }
   ],
   "source": [
    "import streamlit as st\n",
    "import streamlit.components.v1 as components\n",
    "\n",
    "from typing import Literal\n",
    "\n",
    "from langchain.chains import ConversationChain\n",
    "from langchain.chains.conversation.memory import ConversationSummaryMemory\n",
    "from langchain.callbacks import get_openai_callback\n",
    "\n",
    "\n",
    "\n",
    "class Message:\n",
    "    \"\"\"Class for keeping track of a chat message.\"\"\"\n",
    "    origin: Literal[\"user\", \"assistant\"]\n",
    "    message: str\n",
    "    \n",
    "def load_css():\n",
    "    with open(\"static/styles.css\", \"r\") as f:\n",
    "        css = f\"<style>{f.read()}</style>\"\n",
    "        st.markdown(css, unsafe_allow_html=True)\n",
    "        \n",
    "def initialize_session_state():\n",
    "    if \"history\" not in st.session_state:\n",
    "        st.session_state.history = []\n",
    "    if \"token_count\" not in st.session_state:\n",
    "        st.session_state.token_count = 0\n",
    "    if \"conversation\" not in st.session_state:\n",
    "\n",
    "        st.session_state.conversation = ConversationChain(\n",
    "            llm=llm,\n",
    "            memory=ConversationSummaryMemory(llm=llm),\n",
    "        )\n",
    "        \n",
    "def on_click_callback():\n",
    "    with get_openai_callback() as cb:\n",
    "        human_prompt = st.session_state.human_prompt\n",
    "        llm_response = st.session_state.conversation.run(\n",
    "            human_prompt\n",
    "        )\n",
    "        st.session_state.history.append(\n",
    "            Message(\"human\", human_prompt)\n",
    "        )\n",
    "        st.session_state.history.append(\n",
    "            Message(\"ai\", llm_response)\n",
    "        )\n",
    "        st.session_state.token_count += cb.total_tokens\n",
    "\n",
    "load_css()\n",
    "initialize_session_state()\n",
    "\n",
    "st.title(\"Hello Custom CSS Chatbot 🤖\")\n",
    "\n",
    "chat_placeholder = st.container()\n",
    "prompt_placeholder = st.form(\"chat-form\")\n",
    "credit_card_placeholder = st.empty()\n",
    "\n",
    "with chat_placeholder:\n",
    "    for chat in st.session_state.history:\n",
    "        div = f\"\"\"\n",
    "<div class=\"chat-row \n",
    "    {'' if chat.origin == 'ai' else 'row-reverse'}\">\n",
    "    <img class=\"chat-icon\" src=\"app/static/{\n",
    "        'ai_icon.png' if chat.origin == 'ai' \n",
    "                      else 'user_icon.png'}\"\n",
    "         width=32 height=32>\n",
    "    <div class=\"chat-bubble\n",
    "    {'ai-bubble' if chat.origin == 'ai' else 'human-bubble'}\">\n",
    "        &#8203;{chat.message}\n",
    "    </div>\n",
    "</div>\n",
    "        \"\"\"\n",
    "        st.markdown(div, unsafe_allow_html=True)\n",
    "    \n",
    "    for _ in range(3):\n",
    "        st.markdown(\"\")\n",
    "\n",
    "with prompt_placeholder:\n",
    "    st.markdown(\"**Chat**\")\n",
    "    cols = st.columns((6, 1))\n",
    "    cols[0].text_input(\n",
    "        \"Chat\",\n",
    "        value=\"Hello bot\",\n",
    "        label_visibility=\"collapsed\",\n",
    "        key=\"human_prompt\",\n",
    "    )\n",
    "    cols[1].form_submit_button(\n",
    "        \"Submit\", \n",
    "        type=\"primary\", \n",
    "        on_click=on_click_callback, \n",
    "    )\n",
    "\n",
    "credit_card_placeholder.caption(f\"\"\"\n",
    "Used {st.session_state.token_count} tokens \\n\n",
    "Debug Langchain conversation: \n",
    "{st.session_state.conversation.memory.buffer}\n",
    "\"\"\")\n",
    "\n",
    "components.html(\"\"\"\n",
    "<script>\n",
    "const streamlitDoc = window.parent.document;\n",
    "\n",
    "const buttons = Array.from(\n",
    "    streamlitDoc.querySelectorAll('.stButton > button')\n",
    ");\n",
    "const submitButton = buttons.find(\n",
    "    el => el.innerText === 'Submit'\n",
    ");\n",
    "\n",
    "streamlitDoc.addEventListener('keydown', function(e) {\n",
    "    switch (e.key) {\n",
    "        case 'Enter':\n",
    "            submitButton.click();\n",
    "            break;\n",
    "    }\n",
    "});\n",
    "</script>\n",
    "\"\"\", \n",
    "    height=0,\n",
    "    width=0,\n",
    ")"
   ]
  },
  {
   "cell_type": "markdown",
   "id": "85339765",
   "metadata": {},
   "source": [
    "### Shunk manager class.\n",
    "\n",
    "\n",
    "- Parent-Child Chunking\n",
    "In this approach, the text is first split into larger parent chunks, and then each parent chunk is further split into smaller child chunks. Metadata is maintained to preserve the hierarchical relationship."
   ]
  },
  {
   "cell_type": "code",
   "execution_count": null,
   "id": "5d6fea03",
   "metadata": {},
   "outputs": [],
   "source": [
    "class ChunkHandler:\n",
    "\n",
    "    @staticmethod\n",
    "    def recursive_structure_aware_chunking(text, max_chunk_size):\n",
    "        \"\"\"\n",
    "        Splits text based on recursive structure-aware chunking.\n",
    "        \"\"\"\n",
    "        sentences = sent_tokenize(text)\n",
    "        chunks = []\n",
    "        current_chunk = \"\"\n",
    "        \n",
    "        for sentence in sentences:\n",
    "            if len(current_chunk) + len(sentence) > max_chunk_size:\n",
    "                chunks.append(current_chunk.strip())\n",
    "                current_chunk = sentence\n",
    "            else:\n",
    "                current_chunk += \" \" + sentence\n",
    "        \n",
    "        # Add the last chunk\n",
    "        if current_chunk:\n",
    "            chunks.append(current_chunk.strip())\n",
    "        \n",
    "        return chunks\n",
    "\n",
    "    @staticmethod\n",
    "    def sentence_window_parsing(text, window_size=3):\n",
    "        \"\"\"\n",
    "        Splits text into chunks of sentences with overlapping context.\n",
    "        \"\"\"\n",
    "        sentences = sent_tokenize(text)\n",
    "        chunks = []\n",
    "        \n",
    "        for i in range(len(sentences) - window_size + 1):\n",
    "            chunk = \" \".join(sentences[i:i + window_size])\n",
    "            chunks.append(chunk)\n",
    "        \n",
    "        return chunks\n",
    "\n",
    "    @staticmethod\n",
    "    def parent_child_chunking(text, max_parent_size, max_child_size):\n",
    "        \"\"\"\n",
    "        Splits text into parent and child chunks.\n",
    "        \"\"\"\n",
    "        # First split into parent chunks\n",
    "        parent_chunks = ChunkHandler.recursive_structure_aware_chunking(text, max_parent_size)\n",
    "        child_chunks = []\n",
    "        \n",
    "        for parent_chunk in parent_chunks:\n",
    "            # Further split each parent chunk into child chunks\n",
    "            children = ChunkHandler.recursive_structure_aware_chunking(parent_chunk, max_child_size)\n",
    "            child_chunks.extend(children)\n",
    "        \n",
    "        return child_chunks\n",
    "\n",
    "    @staticmethod\n",
    "    def check_chunk_quality(structured_chunks, min_word_count=30, max_token_count=384):\n",
    "        \"\"\"\n",
    "        Filters out chunks that do not meet the quality criteria.\n",
    "        \"\"\"\n",
    "        filtered_chunks = []\n",
    "\n",
    "        for chunk in structured_chunks:\n",
    "            # Check if the chunk meets the quality criteria\n",
    "            if (chunk['chunk_word_count'] >= min_word_count) and (chunk['chunk_token_count'] <= max_token_count):\n",
    "                filtered_chunks.append(chunk)\n",
    "\n",
    "        return filtered_chunks\n",
    "\n",
    "# # Example usage\n",
    "# text = \"Your long text document here...\"\n",
    "# max_chunk_size = 4999\n",
    "\n",
    "# # Using the advanced chunking methods directly from the class without instantiation\n",
    "# structured_chunks = ChunkHandler.recursive_structure_aware_chunking(text, max_chunk_size)\n",
    "# windowed_chunks = ChunkHandler.sentence_window_parsing(text, window_size=3)\n",
    "# final_chunks = ChunkHandler.parent_child_chunking(text, max_parent_size=8000, max_child_size=4999)\n",
    "\n",
    "# # Apply quality check function to filter chunks\n",
    "# filtered_chunks = ChunkHandler.check_chunk_quality(final_chunks)"
   ]
  }
 ],
 "metadata": {
  "kernelspec": {
   "display_name": "Python 3 (ipykernel)",
   "language": "python",
   "name": "python3"
  },
  "language_info": {
   "codemirror_mode": {
    "name": "ipython",
    "version": 3
   },
   "file_extension": ".py",
   "mimetype": "text/x-python",
   "name": "python",
   "nbconvert_exporter": "python",
   "pygments_lexer": "ipython3",
   "version": "3.11.5"
  }
 },
 "nbformat": 4,
 "nbformat_minor": 5
}
